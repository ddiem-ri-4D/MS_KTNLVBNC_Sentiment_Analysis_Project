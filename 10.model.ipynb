{
 "cells": [
  {
   "cell_type": "code",
   "execution_count": 1,
   "id": "526d807f-2119-49ab-a293-2510539108f8",
   "metadata": {
    "tags": []
   },
   "outputs": [],
   "source": [
    "%load_ext autoreload\n",
    "%autoreload 2"
   ]
  },
  {
   "cell_type": "code",
   "execution_count": 3,
   "id": "765da6b7-8ff1-49a3-81b6-c6c76843aa07",
   "metadata": {
    "tags": []
   },
   "outputs": [],
   "source": [
    "import modules.shopee_model as ShopeeModel\n",
    "import modules.model as Model\n",
    "import modules.deep_model as DeepModel\n",
    "import pandas as pd\n",
    "import numpy as np\n",
    "from sklearn.metrics import accuracy_score"
   ]
  },
  {
   "cell_type": "markdown",
   "id": "1f005d07-5fb2-4f60-a817-a844a7551f6a",
   "metadata": {},
   "source": [
    "## Công việc 3:\n",
    "* Ở phần này chúng ta sẽ kết hợp **Emoji sentiment model** và **Comment sentiment model** lại thành một model duy nhất.\n",
    "* Tiếp theo ta sẽ cho chúng dự đoán lại trên test data để xem khi kết hợp lại với nhau thì tổ hợp nào cho kết quả tốt nhất.\n",
    "* Sau đó ta sẽ cho các tổ hợp model này dự đoán trên khoảng 10 comment mà ta sẽ lên trang chủ Shopee lấy về."
   ]
  },
  {
   "cell_type": "markdown",
   "id": "ba45b9e3-d40c-4e06-a0d0-a2657ba8bcea",
   "metadata": {},
   "source": [
    "Đọc dữ liệu test lên."
   ]
  },
  {
   "cell_type": "code",
   "execution_count": 4,
   "id": "6e40ef02-d2e4-4c73-a1a3-6e5bbc0335dc",
   "metadata": {
    "tags": []
   },
   "outputs": [
    {
     "data": {
      "text/html": [
       "<div>\n",
       "<style scoped>\n",
       "    .dataframe tbody tr th:only-of-type {\n",
       "        vertical-align: middle;\n",
       "    }\n",
       "\n",
       "    .dataframe tbody tr th {\n",
       "        vertical-align: top;\n",
       "    }\n",
       "\n",
       "    .dataframe thead th {\n",
       "        text-align: right;\n",
       "    }\n",
       "</style>\n",
       "<table border=\"1\" class=\"dataframe\">\n",
       "  <thead>\n",
       "    <tr style=\"text-align: right;\">\n",
       "      <th></th>\n",
       "      <th>raw_comment</th>\n",
       "      <th>normalize_comment</th>\n",
       "      <th>emoji_decode</th>\n",
       "    </tr>\n",
       "  </thead>\n",
       "  <tbody>\n",
       "    <tr>\n",
       "      <th>0</th>\n",
       "      <td>Ui thực sự mê li luôn á,vải đẹp thự...</td>\n",
       "      <td>ui thực sự mê li luôn á vải đẹp thự...</td>\n",
       "      <td>smiling_face_with_three_hearts</td>\n",
       "    </tr>\n",
       "    <tr>\n",
       "      <th>1</th>\n",
       "      <td>Vợt sale khá rẻ, chất lượng tiền na...</td>\n",
       "      <td>vợt sale khá rẻ chất lượng tiền nà...</td>\n",
       "      <td>satisfied satisfied satisfied satisfied</td>\n",
       "    </tr>\n",
       "    <tr>\n",
       "      <th>2</th>\n",
       "      <td>Mua ao cho chong, Áo đẹp, chất vãi vừa ...</td>\n",
       "      <td>mua ao cho chong áo đẹp chất vãi vừa đu...</td>\n",
       "      <td>call_me_hand</td>\n",
       "    </tr>\n",
       "    <tr>\n",
       "      <th>3</th>\n",
       "      <td>Mình nhận được hàng đeo vào thử thì...</td>\n",
       "      <td>nhận được hàng đeo vào thử đứt ngan...</td>\n",
       "      <td>slightly_smiling_face</td>\n",
       "    </tr>\n",
       "    <tr>\n",
       "      <th>4</th>\n",
       "      <td>Vòng khá là ok nhé 😌😌😌😌😌😌😌😌😌😌😌\\nGiao hàng...</td>\n",
       "      <td>vòng khá là ok nhé giao hàng hơi lâu</td>\n",
       "      <td>relieved relieved relieved relieved relieved r...</td>\n",
       "    </tr>\n",
       "    <tr>\n",
       "      <th>...</th>\n",
       "      <td>...</td>\n",
       "      <td>...</td>\n",
       "      <td>...</td>\n",
       "    </tr>\n",
       "    <tr>\n",
       "      <th>253</th>\n",
       "      <td>Tạm ổn ko có keo dán giao hàng lâu nử...</td>\n",
       "      <td>tạm ổn không có keo dán giao hàng lâu ...</td>\n",
       "      <td>sweat sweat sweat sweat</td>\n",
       "    </tr>\n",
       "    <tr>\n",
       "      <th>254</th>\n",
       "      <td>Túi xinh lắm lắm luôn ạ&gt;&lt; màu đen sang...</td>\n",
       "      <td>túi xinh lắm lắm luôn màu đen sang chả...</td>\n",
       "      <td>hand_over_mouth female_sign ok_person crying_c...</td>\n",
       "    </tr>\n",
       "    <tr>\n",
       "      <th>255</th>\n",
       "      <td>không biết là chất liệu len mới mua ...</td>\n",
       "      <td>không biết là chất liệu len mới mua ...</td>\n",
       "      <td>blush blush</td>\n",
       "    </tr>\n",
       "    <tr>\n",
       "      <th>256</th>\n",
       "      <td>Thực sự thì áo cũng ok vãi cũng ok nh...</td>\n",
       "      <td>thực sự áo cũng ok vãi cũng ok nhưng ...</td>\n",
       "      <td>relieved</td>\n",
       "    </tr>\n",
       "    <tr>\n",
       "      <th>257</th>\n",
       "      <td>Áo rộng quá siêu rộng luôn , vải 2 lo...</td>\n",
       "      <td>áo rộng quá siêu rộng luôn vải lớp ...</td>\n",
       "      <td>sweat_smile</td>\n",
       "    </tr>\n",
       "  </tbody>\n",
       "</table>\n",
       "<p>258 rows × 3 columns</p>\n",
       "</div>"
      ],
      "text/plain": [
       "                                           raw_comment  \\\n",
       "0    Ui thực sự mê li luôn á,vải đẹp thự...   \n",
       "1    Vợt sale khá rẻ, chất lượng tiền na...   \n",
       "2    Mua ao cho chong, Áo đẹp, chất vãi vừa ...   \n",
       "3    Mình nhận được hàng đeo vào thử thì...   \n",
       "4    Vòng khá là ok nhé 😌😌😌😌😌😌😌😌😌😌😌\\nGiao hàng...   \n",
       "..                                                 ...   \n",
       "253  Tạm ổn ko có keo dán giao hàng lâu nử...   \n",
       "254  Túi xinh lắm lắm luôn ạ>< màu đen sang...   \n",
       "255  không biết là chất liệu len mới mua ...   \n",
       "256  Thực sự thì áo cũng ok vãi cũng ok nh...   \n",
       "257  Áo rộng quá siêu rộng luôn , vải 2 lo...   \n",
       "\n",
       "                                     normalize_comment  \\\n",
       "0    ui thực sự mê li luôn á vải đẹp thự...   \n",
       "1    vợt sale khá rẻ chất lượng tiền nà...   \n",
       "2    mua ao cho chong áo đẹp chất vãi vừa đu...   \n",
       "3    nhận được hàng đeo vào thử đứt ngan...   \n",
       "4          vòng khá là ok nhé giao hàng hơi lâu   \n",
       "..                                                 ...   \n",
       "253  tạm ổn không có keo dán giao hàng lâu ...   \n",
       "254  túi xinh lắm lắm luôn màu đen sang chả...   \n",
       "255  không biết là chất liệu len mới mua ...   \n",
       "256  thực sự áo cũng ok vãi cũng ok nhưng ...   \n",
       "257  áo rộng quá siêu rộng luôn vải lớp ...   \n",
       "\n",
       "                                          emoji_decode  \n",
       "0                       smiling_face_with_three_hearts  \n",
       "1              satisfied satisfied satisfied satisfied  \n",
       "2                                         call_me_hand  \n",
       "3                                slightly_smiling_face  \n",
       "4    relieved relieved relieved relieved relieved r...  \n",
       "..                                                 ...  \n",
       "253                            sweat sweat sweat sweat  \n",
       "254  hand_over_mouth female_sign ok_person crying_c...  \n",
       "255                                        blush blush  \n",
       "256                                           relieved  \n",
       "257                                        sweat_smile  \n",
       "\n",
       "[258 rows x 3 columns]"
      ]
     },
     "metadata": {},
     "output_type": "display_data"
    },
    {
     "data": {
      "text/html": [
       "<div>\n",
       "<style scoped>\n",
       "    .dataframe tbody tr th:only-of-type {\n",
       "        vertical-align: middle;\n",
       "    }\n",
       "\n",
       "    .dataframe tbody tr th {\n",
       "        vertical-align: top;\n",
       "    }\n",
       "\n",
       "    .dataframe thead th {\n",
       "        text-align: right;\n",
       "    }\n",
       "</style>\n",
       "<table border=\"1\" class=\"dataframe\">\n",
       "  <thead>\n",
       "    <tr style=\"text-align: right;\">\n",
       "      <th></th>\n",
       "      <th>label</th>\n",
       "    </tr>\n",
       "  </thead>\n",
       "  <tbody>\n",
       "    <tr>\n",
       "      <th>0</th>\n",
       "      <td>1</td>\n",
       "    </tr>\n",
       "    <tr>\n",
       "      <th>1</th>\n",
       "      <td>1</td>\n",
       "    </tr>\n",
       "    <tr>\n",
       "      <th>2</th>\n",
       "      <td>1</td>\n",
       "    </tr>\n",
       "    <tr>\n",
       "      <th>3</th>\n",
       "      <td>0</td>\n",
       "    </tr>\n",
       "    <tr>\n",
       "      <th>4</th>\n",
       "      <td>0</td>\n",
       "    </tr>\n",
       "    <tr>\n",
       "      <th>...</th>\n",
       "      <td>...</td>\n",
       "    </tr>\n",
       "    <tr>\n",
       "      <th>253</th>\n",
       "      <td>0</td>\n",
       "    </tr>\n",
       "    <tr>\n",
       "      <th>254</th>\n",
       "      <td>1</td>\n",
       "    </tr>\n",
       "    <tr>\n",
       "      <th>255</th>\n",
       "      <td>1</td>\n",
       "    </tr>\n",
       "    <tr>\n",
       "      <th>256</th>\n",
       "      <td>0</td>\n",
       "    </tr>\n",
       "    <tr>\n",
       "      <th>257</th>\n",
       "      <td>0</td>\n",
       "    </tr>\n",
       "  </tbody>\n",
       "</table>\n",
       "<p>258 rows × 1 columns</p>\n",
       "</div>"
      ],
      "text/plain": [
       "     label\n",
       "0        1\n",
       "1        1\n",
       "2        1\n",
       "3        0\n",
       "4        0\n",
       "..     ...\n",
       "253      0\n",
       "254      1\n",
       "255      1\n",
       "256      0\n",
       "257      0\n",
       "\n",
       "[258 rows x 1 columns]"
      ]
     },
     "metadata": {},
     "output_type": "display_data"
    }
   ],
   "source": [
    "X_test, y_test = Model.loadData(\"./data/emoji_data/test\")\n",
    "X_test = X_test.fillna(\"\")\n",
    "\n",
    "display(X_test, y_test)"
   ]
  },
  {
   "cell_type": "markdown",
   "id": "7246185a-6255-4eed-ad2b-e09d4b265dee",
   "metadata": {},
   "source": [
    "Bây giờ ta sẽ load tất cả các **Emoji sentiment model** và **Comment sentiment model** lên."
   ]
  },
  {
   "cell_type": "code",
   "execution_count": 5,
   "id": "5d93683f-6d33-4807-a691-7fa24be4c563",
   "metadata": {
    "tags": []
   },
   "outputs": [],
   "source": [
    "emoji_models = {}\n",
    "emoji_models['logistic'] = Model.loadByPickle(\"./models/logistic_model_emojis.pickle\")\n",
    "emoji_models['svc'] = Model.loadByPickle(\"./models/svc_model_emojis.pickle\")\n",
    "emoji_models['rdforest'] = Model.loadByPickle(\"./models/rdforest_model_emojis.pickle\")"
   ]
  },
  {
   "cell_type": "code",
   "execution_count": 6,
   "id": "aa3395ec-93c0-457e-a8ee-3fff6c8b9267",
   "metadata": {
    "tags": []
   },
   "outputs": [],
   "source": [
    "comment_models = {}\n",
    "comment_models['bernoulli'] = Model.loadByPickle(\"./models/bernoulli_model_comments.pickle\")\n",
    "comment_models['logistic'] = Model.loadByPickle(\"./models/logistic_model_comments.pickle\")\n",
    "comment_models['svc'] = Model.loadByPickle(\"./models/svc_model_comments.pickle\")\n",
    "comment_models['lstm_1'] = DeepModel.SentimentLSTM(\"./models/lstm_model_comments_1/lstm_model_comments_1.h5\", \n",
    "                                                   \"./models/lstm_model_comments_1/lstm_tokenizer_comments_1.pickle\")\n",
    "comment_models['lstm_uw_2'] = DeepModel.SentimentLSTM(\"./models/lstm_model_comments_2/lstm_model_comments_uw_2.h5\", \n",
    "                                                      \"./models/lstm_model_comments_2/lstm_tokenizer_comments_uw_2.pickle\")"
   ]
  },
  {
   "cell_type": "markdown",
   "id": "e8f12ba2-76cf-4196-b4e4-bcb235e28fb7",
   "metadata": {},
   "source": [
    "Tiến hành ghép cặp từng **Emoji sentiment model** và **Comment sentiment model**. Ta có ba emoji sentiment model và 5 comment sentiment model, vậy tổng cộng ta có 15 model tổ hợp như vậy."
   ]
  },
  {
   "cell_type": "code",
   "execution_count": 7,
   "id": "100756e0-2844-4cca-90f2-8175ddca0be7",
   "metadata": {
    "scrolled": true,
    "tags": []
   },
   "outputs": [],
   "source": [
    "shopee_sentiments = {}\n",
    "\n",
    "for em in emoji_models.keys():\n",
    "    for cm in comment_models.keys():\n",
    "        shopee_sentiments[em + \"_\" + cm] = ShopeeModel.ShopeeSentiment(emoji_models[em], comment_models[cm])"
   ]
  },
  {
   "cell_type": "markdown",
   "id": "448383cd-695f-4afc-8937-69bf263c0e0c",
   "metadata": {},
   "source": [
    "Tiến hành kiểm tra một vài tổ hợp model trên test data để xem khi kết hợp hệ thống của chúng ta có chạy không. "
   ]
  },
  {
   "cell_type": "code",
   "execution_count": 8,
   "id": "26ddfab3-28f8-412a-977c-5c53075461b3",
   "metadata": {},
   "outputs": [
    {
     "name": "stdout",
     "output_type": "stream",
     "text": [
      "9/9 [==============================] - 0s 17ms/step\n"
     ]
    },
    {
     "data": {
      "text/html": [
       "<div>\n",
       "<style scoped>\n",
       "    .dataframe tbody tr th:only-of-type {\n",
       "        vertical-align: middle;\n",
       "    }\n",
       "\n",
       "    .dataframe tbody tr th {\n",
       "        vertical-align: top;\n",
       "    }\n",
       "\n",
       "    .dataframe thead th {\n",
       "        text-align: right;\n",
       "    }\n",
       "</style>\n",
       "<table border=\"1\" class=\"dataframe\">\n",
       "  <thead>\n",
       "    <tr style=\"text-align: right;\">\n",
       "      <th></th>\n",
       "      <th>raw_review</th>\n",
       "      <th>probability</th>\n",
       "      <th>class</th>\n",
       "    </tr>\n",
       "  </thead>\n",
       "  <tbody>\n",
       "    <tr>\n",
       "      <th>0</th>\n",
       "      <td>Ui thực sự mê li luôn á,vải đẹp thự...</td>\n",
       "      <td>(0.021493457466946864, 0.9785065199703086)</td>\n",
       "      <td>1</td>\n",
       "    </tr>\n",
       "    <tr>\n",
       "      <th>1</th>\n",
       "      <td>Vợt sale khá rẻ, chất lượng tiền na...</td>\n",
       "      <td>(0.07227157273331436, 0.9277284051186707)</td>\n",
       "      <td>1</td>\n",
       "    </tr>\n",
       "    <tr>\n",
       "      <th>2</th>\n",
       "      <td>Mua ao cho chong, Áo đẹp, chất vãi vừa ...</td>\n",
       "      <td>(0.17741915287354187, 0.8225808648215871)</td>\n",
       "      <td>1</td>\n",
       "    </tr>\n",
       "    <tr>\n",
       "      <th>3</th>\n",
       "      <td>Mình nhận được hàng đeo vào thử thì...</td>\n",
       "      <td>(0.930401839433207, 0.06959817829466373)</td>\n",
       "      <td>0</td>\n",
       "    </tr>\n",
       "    <tr>\n",
       "      <th>4</th>\n",
       "      <td>Vòng khá là ok nhé 😌😌😌😌😌😌😌😌😌😌😌\\nGiao hàng...</td>\n",
       "      <td>(0.428211670564817, 0.5717883170951589)</td>\n",
       "      <td>1</td>\n",
       "    </tr>\n",
       "    <tr>\n",
       "      <th>...</th>\n",
       "      <td>...</td>\n",
       "      <td>...</td>\n",
       "      <td>...</td>\n",
       "    </tr>\n",
       "    <tr>\n",
       "      <th>253</th>\n",
       "      <td>Tạm ổn ko có keo dán giao hàng lâu nử...</td>\n",
       "      <td>(0.894638032498658, 0.10536194135336922)</td>\n",
       "      <td>0</td>\n",
       "    </tr>\n",
       "    <tr>\n",
       "      <th>254</th>\n",
       "      <td>Túi xinh lắm lắm luôn ạ&gt;&lt; màu đen sang...</td>\n",
       "      <td>(0.15356041959373162, 0.8464396215008769)</td>\n",
       "      <td>1</td>\n",
       "    </tr>\n",
       "    <tr>\n",
       "      <th>255</th>\n",
       "      <td>không biết là chất liệu len mới mua ...</td>\n",
       "      <td>(0.556766223051322, 0.4432337590789262)</td>\n",
       "      <td>0</td>\n",
       "    </tr>\n",
       "    <tr>\n",
       "      <th>256</th>\n",
       "      <td>Thực sự thì áo cũng ok vãi cũng ok nh...</td>\n",
       "      <td>(0.8213207909747207, 0.1786792136382364)</td>\n",
       "      <td>0</td>\n",
       "    </tr>\n",
       "    <tr>\n",
       "      <th>257</th>\n",
       "      <td>Áo rộng quá siêu rộng luôn , vải 2 lo...</td>\n",
       "      <td>(0.605836704088851, 0.394163307826439)</td>\n",
       "      <td>0</td>\n",
       "    </tr>\n",
       "  </tbody>\n",
       "</table>\n",
       "<p>258 rows × 3 columns</p>\n",
       "</div>"
      ],
      "text/plain": [
       "                                            raw_review  \\\n",
       "0    Ui thực sự mê li luôn á,vải đẹp thự...   \n",
       "1    Vợt sale khá rẻ, chất lượng tiền na...   \n",
       "2    Mua ao cho chong, Áo đẹp, chất vãi vừa ...   \n",
       "3    Mình nhận được hàng đeo vào thử thì...   \n",
       "4    Vòng khá là ok nhé 😌😌😌😌😌😌😌😌😌😌😌\\nGiao hàng...   \n",
       "..                                                 ...   \n",
       "253  Tạm ổn ko có keo dán giao hàng lâu nử...   \n",
       "254  Túi xinh lắm lắm luôn ạ>< màu đen sang...   \n",
       "255  không biết là chất liệu len mới mua ...   \n",
       "256  Thực sự thì áo cũng ok vãi cũng ok nh...   \n",
       "257  Áo rộng quá siêu rộng luôn , vải 2 lo...   \n",
       "\n",
       "                                    probability  class  \n",
       "0    (0.021493457466946864, 0.9785065199703086)      1  \n",
       "1     (0.07227157273331436, 0.9277284051186707)      1  \n",
       "2     (0.17741915287354187, 0.8225808648215871)      1  \n",
       "3      (0.930401839433207, 0.06959817829466373)      0  \n",
       "4       (0.428211670564817, 0.5717883170951589)      1  \n",
       "..                                          ...    ...  \n",
       "253    (0.894638032498658, 0.10536194135336922)      0  \n",
       "254   (0.15356041959373162, 0.8464396215008769)      1  \n",
       "255     (0.556766223051322, 0.4432337590789262)      0  \n",
       "256    (0.8213207909747207, 0.1786792136382364)      0  \n",
       "257      (0.605836704088851, 0.394163307826439)      0  \n",
       "\n",
       "[258 rows x 3 columns]"
      ]
     },
     "metadata": {},
     "output_type": "display_data"
    },
    {
     "data": {
      "text/html": [
       "<div>\n",
       "<style scoped>\n",
       "    .dataframe tbody tr th:only-of-type {\n",
       "        vertical-align: middle;\n",
       "    }\n",
       "\n",
       "    .dataframe tbody tr th {\n",
       "        vertical-align: top;\n",
       "    }\n",
       "\n",
       "    .dataframe thead th {\n",
       "        text-align: right;\n",
       "    }\n",
       "</style>\n",
       "<table border=\"1\" class=\"dataframe\">\n",
       "  <thead>\n",
       "    <tr style=\"text-align: right;\">\n",
       "      <th></th>\n",
       "      <th>raw_review</th>\n",
       "      <th>probability</th>\n",
       "      <th>class</th>\n",
       "    </tr>\n",
       "  </thead>\n",
       "  <tbody>\n",
       "    <tr>\n",
       "      <th>0</th>\n",
       "      <td>Ui thực sự mê li luôn á,vải đẹp thự...</td>\n",
       "      <td>(0.07602110723294779, 0.9239788927670509)</td>\n",
       "      <td>1</td>\n",
       "    </tr>\n",
       "    <tr>\n",
       "      <th>1</th>\n",
       "      <td>Vợt sale khá rẻ, chất lượng tiền na...</td>\n",
       "      <td>(0.5711369264586976, 0.4288630735413018)</td>\n",
       "      <td>0</td>\n",
       "    </tr>\n",
       "    <tr>\n",
       "      <th>2</th>\n",
       "      <td>Mua ao cho chong, Áo đẹp, chất vãi vừa ...</td>\n",
       "      <td>(0.17708370502907242, 0.8229162949709279)</td>\n",
       "      <td>1</td>\n",
       "    </tr>\n",
       "    <tr>\n",
       "      <th>3</th>\n",
       "      <td>Mình nhận được hàng đeo vào thử thì...</td>\n",
       "      <td>(0.9304587560061712, 0.06954124399382787)</td>\n",
       "      <td>0</td>\n",
       "    </tr>\n",
       "    <tr>\n",
       "      <th>4</th>\n",
       "      <td>Vòng khá là ok nhé 😌😌😌😌😌😌😌😌😌😌😌\\nGiao hàng...</td>\n",
       "      <td>(0.4373200880445736, 0.5626799119554267)</td>\n",
       "      <td>1</td>\n",
       "    </tr>\n",
       "    <tr>\n",
       "      <th>...</th>\n",
       "      <td>...</td>\n",
       "      <td>...</td>\n",
       "      <td>...</td>\n",
       "    </tr>\n",
       "    <tr>\n",
       "      <th>253</th>\n",
       "      <td>Tạm ổn ko có keo dán giao hàng lâu nử...</td>\n",
       "      <td>(0.8900554562422651, 0.10994454375773455)</td>\n",
       "      <td>0</td>\n",
       "    </tr>\n",
       "    <tr>\n",
       "      <th>254</th>\n",
       "      <td>Túi xinh lắm lắm luôn ạ&gt;&lt; màu đen sang...</td>\n",
       "      <td>(0.6488487269293757, 0.35115127307061744)</td>\n",
       "      <td>0</td>\n",
       "    </tr>\n",
       "    <tr>\n",
       "      <th>255</th>\n",
       "      <td>không biết là chất liệu len mới mua ...</td>\n",
       "      <td>(0.5567335276186717, 0.443266472381325)</td>\n",
       "      <td>0</td>\n",
       "    </tr>\n",
       "    <tr>\n",
       "      <th>256</th>\n",
       "      <td>Thực sự thì áo cũng ok vãi cũng ok nh...</td>\n",
       "      <td>(0.8180279652550244, 0.18197203474497237)</td>\n",
       "      <td>0</td>\n",
       "    </tr>\n",
       "    <tr>\n",
       "      <th>257</th>\n",
       "      <td>Áo rộng quá siêu rộng luôn , vải 2 lo...</td>\n",
       "      <td>(0.6058490738655271, 0.3941509261344744)</td>\n",
       "      <td>0</td>\n",
       "    </tr>\n",
       "  </tbody>\n",
       "</table>\n",
       "<p>258 rows × 3 columns</p>\n",
       "</div>"
      ],
      "text/plain": [
       "                                            raw_review  \\\n",
       "0    Ui thực sự mê li luôn á,vải đẹp thự...   \n",
       "1    Vợt sale khá rẻ, chất lượng tiền na...   \n",
       "2    Mua ao cho chong, Áo đẹp, chất vãi vừa ...   \n",
       "3    Mình nhận được hàng đeo vào thử thì...   \n",
       "4    Vòng khá là ok nhé 😌😌😌😌😌😌😌😌😌😌😌\\nGiao hàng...   \n",
       "..                                                 ...   \n",
       "253  Tạm ổn ko có keo dán giao hàng lâu nử...   \n",
       "254  Túi xinh lắm lắm luôn ạ>< màu đen sang...   \n",
       "255  không biết là chất liệu len mới mua ...   \n",
       "256  Thực sự thì áo cũng ok vãi cũng ok nh...   \n",
       "257  Áo rộng quá siêu rộng luôn , vải 2 lo...   \n",
       "\n",
       "                                   probability  class  \n",
       "0    (0.07602110723294779, 0.9239788927670509)      1  \n",
       "1     (0.5711369264586976, 0.4288630735413018)      0  \n",
       "2    (0.17708370502907242, 0.8229162949709279)      1  \n",
       "3    (0.9304587560061712, 0.06954124399382787)      0  \n",
       "4     (0.4373200880445736, 0.5626799119554267)      1  \n",
       "..                                         ...    ...  \n",
       "253  (0.8900554562422651, 0.10994454375773455)      0  \n",
       "254  (0.6488487269293757, 0.35115127307061744)      0  \n",
       "255    (0.5567335276186717, 0.443266472381325)      0  \n",
       "256  (0.8180279652550244, 0.18197203474497237)      0  \n",
       "257   (0.6058490738655271, 0.3941509261344744)      0  \n",
       "\n",
       "[258 rows x 3 columns]"
      ]
     },
     "metadata": {},
     "output_type": "display_data"
    }
   ],
   "source": [
    "display(shopee_sentiments['logistic_lstm_1'].predict(X_test['raw_comment']),\n",
    "        shopee_sentiments['logistic_bernoulli'].predict(X_test['raw_comment']))"
   ]
  },
  {
   "cell_type": "markdown",
   "id": "9ba84660-3889-4280-8cfe-3122d0e5fc92",
   "metadata": {},
   "source": [
    "Ở đây câu hỏi đặt ra là làm sao chúng ta có thể kết hợp kết quả từ hai model.\n",
    "\n",
    "Giả sử nếu các model của chúng ta dự đoán ra kết quả là 0 và 1, thì với hai model ta sẽ gặp khó khăn trong trường hợp:\n",
    "  * Emoji sentiment model dự đoán 0 và Comment sentiment model dự đoán 1.\n",
    "  * Emoji sentiment model dự đoán 1 và Comment sentiment model dự đoán 0.\n",
    "  Khi rơi vào những trường hợp này, ta khó lòng chọn đâu là kết quả phù hợp. Nên ở đây thường người ta sẽ đào tạo 3 model và cho chúng votting. Với RandomForest nó cũng làm điều này nhưng sklearn sử dụng kĩ thuật là BaggingVotting.\n",
    "\n",
    "Một cách mà nhóm dùng để xử lí vấn đề này là nhóm sẽ cho toàn bộ các model trả về giá trị xác suất, đó là lí do mà các model Deep Learning sử dụng activation là **softmax** thay vì **sigmoid**. Ở sklearn thì ngoại trừ các model SVC ta phải bật cờ `probability=True` thì toàn bộ các classifier khác đều hỗ trợ dự đoán xác suất, lúc này ta đơn giản lấy trung bình cộng giữa các class tương ứng giữa **Emoji sentiment model** và **Comment sentiment model** so sánh xem xác suất nào lớn hơn thì review này thuộc vào nhóm đó.\n",
    "\n",
    "Trong trường hợp review chỉ có mỗi emoji hoặc comment, ta xử lí còn dễ dàng hơn là chỉ sử dụng model tương ứng để dự đoán.\n",
    "\n",
    "Bây giờ ta sẽ cho 15 tổ hợp model này dự đoán lại trên test data sau đó đánh giá accuracy."
   ]
  },
  {
   "cell_type": "code",
   "execution_count": 9,
   "id": "fd3e4aaa-eb7f-49eb-939b-bbdb6653a6e9",
   "metadata": {},
   "outputs": [
    {
     "name": "stdout",
     "output_type": "stream",
     "text": [
      "9/9 [==============================] - 0s 8ms/step\n",
      "9/9 [==============================] - 0s 8ms/step\n",
      "9/9 [==============================] - 0s 7ms/step\n",
      "9/9 [==============================] - 0s 10ms/step\n",
      "9/9 [==============================] - 0s 8ms/step\n",
      "9/9 [==============================] - 0s 8ms/step\n",
      "[['logistic_bernoulli' '0.9108527131782945']\n",
      " ['logistic_logistic' '0.9224806201550387']\n",
      " ['logistic_svc' '0.9263565891472868']\n",
      " ['logistic_lstm_1' '0.9534883720930233']\n",
      " ['logistic_lstm_uw_2' '0.9263565891472868']\n",
      " ['svc_bernoulli' '0.9147286821705426']\n",
      " ['svc_logistic' '0.8953488372093024']\n",
      " ['svc_svc' '0.8992248062015504']\n",
      " ['svc_lstm_1' '0.9534883720930233']\n",
      " ['svc_lstm_uw_2' '0.9302325581395349']\n",
      " ['rdforest_bernoulli' '0.9147286821705426']\n",
      " ['rdforest_logistic' '0.9224806201550387']\n",
      " ['rdforest_svc' '0.9302325581395349']\n",
      " ['rdforest_lstm_1' '0.9534883720930233']\n",
      " ['rdforest_lstm_uw_2' '0.9302325581395349']]\n"
     ]
    }
   ],
   "source": [
    "models_acc = []\n",
    "for model_name, model in shopee_sentiments.items():\n",
    "    y_pred = model.predict(X_test['raw_comment'])\n",
    "    acc = accuracy_score(y_test, y_pred['class'])\n",
    "    models_acc.append((model_name, acc))\n",
    "models_acc = np.array(models_acc)\n",
    "\n",
    "print(models_acc)"
   ]
  },
  {
   "cell_type": "code",
   "execution_count": 10,
   "id": "fb2cbe6c-7c0a-4227-a408-d6e61975abd7",
   "metadata": {},
   "outputs": [
    {
     "data": {
      "application/vnd.plotly.v1+json": {
       "config": {
        "plotlyServerURL": "https://plot.ly"
       },
       "data": [
        {
         "text": [
          "91.08527",
          "92.24806",
          "92.63566",
          "95.34884",
          "92.63566",
          "91.47287",
          "89.53488",
          "89.92248",
          "95.34884",
          "93.02326",
          "91.47287",
          "92.24806",
          "93.02326",
          "95.34884",
          "93.02326"
         ],
         "textposition": "auto",
         "type": "bar",
         "x": [
          "logistic_bernoulli",
          "logistic_logistic",
          "logistic_svc",
          "logistic_lstm_1",
          "logistic_lstm_uw_2",
          "svc_bernoulli",
          "svc_logistic",
          "svc_svc",
          "svc_lstm_1",
          "svc_lstm_uw_2",
          "rdforest_bernoulli",
          "rdforest_logistic",
          "rdforest_svc",
          "rdforest_lstm_1",
          "rdforest_lstm_uw_2"
         ],
         "y": [
          91.08527,
          92.24806,
          92.63566,
          95.34884,
          92.63566,
          91.47287,
          89.53488,
          89.92248,
          95.34884,
          93.02326,
          91.47287,
          92.24806,
          93.02326,
          95.34884,
          93.02326
         ]
        }
       ],
       "layout": {
        "autosize": true,
        "template": {
         "data": {
          "bar": [
           {
            "error_x": {
             "color": "#2a3f5f"
            },
            "error_y": {
             "color": "#2a3f5f"
            },
            "marker": {
             "line": {
              "color": "#E5ECF6",
              "width": 0.5
             },
             "pattern": {
              "fillmode": "overlay",
              "size": 10,
              "solidity": 0.2
             }
            },
            "type": "bar"
           }
          ],
          "barpolar": [
           {
            "marker": {
             "line": {
              "color": "#E5ECF6",
              "width": 0.5
             },
             "pattern": {
              "fillmode": "overlay",
              "size": 10,
              "solidity": 0.2
             }
            },
            "type": "barpolar"
           }
          ],
          "carpet": [
           {
            "aaxis": {
             "endlinecolor": "#2a3f5f",
             "gridcolor": "white",
             "linecolor": "white",
             "minorgridcolor": "white",
             "startlinecolor": "#2a3f5f"
            },
            "baxis": {
             "endlinecolor": "#2a3f5f",
             "gridcolor": "white",
             "linecolor": "white",
             "minorgridcolor": "white",
             "startlinecolor": "#2a3f5f"
            },
            "type": "carpet"
           }
          ],
          "choropleth": [
           {
            "colorbar": {
             "outlinewidth": 0,
             "ticks": ""
            },
            "type": "choropleth"
           }
          ],
          "contour": [
           {
            "colorbar": {
             "outlinewidth": 0,
             "ticks": ""
            },
            "colorscale": [
             [
              0,
              "#0d0887"
             ],
             [
              0.1111111111111111,
              "#46039f"
             ],
             [
              0.2222222222222222,
              "#7201a8"
             ],
             [
              0.3333333333333333,
              "#9c179e"
             ],
             [
              0.4444444444444444,
              "#bd3786"
             ],
             [
              0.5555555555555556,
              "#d8576b"
             ],
             [
              0.6666666666666666,
              "#ed7953"
             ],
             [
              0.7777777777777778,
              "#fb9f3a"
             ],
             [
              0.8888888888888888,
              "#fdca26"
             ],
             [
              1,
              "#f0f921"
             ]
            ],
            "type": "contour"
           }
          ],
          "contourcarpet": [
           {
            "colorbar": {
             "outlinewidth": 0,
             "ticks": ""
            },
            "type": "contourcarpet"
           }
          ],
          "heatmap": [
           {
            "colorbar": {
             "outlinewidth": 0,
             "ticks": ""
            },
            "colorscale": [
             [
              0,
              "#0d0887"
             ],
             [
              0.1111111111111111,
              "#46039f"
             ],
             [
              0.2222222222222222,
              "#7201a8"
             ],
             [
              0.3333333333333333,
              "#9c179e"
             ],
             [
              0.4444444444444444,
              "#bd3786"
             ],
             [
              0.5555555555555556,
              "#d8576b"
             ],
             [
              0.6666666666666666,
              "#ed7953"
             ],
             [
              0.7777777777777778,
              "#fb9f3a"
             ],
             [
              0.8888888888888888,
              "#fdca26"
             ],
             [
              1,
              "#f0f921"
             ]
            ],
            "type": "heatmap"
           }
          ],
          "heatmapgl": [
           {
            "colorbar": {
             "outlinewidth": 0,
             "ticks": ""
            },
            "colorscale": [
             [
              0,
              "#0d0887"
             ],
             [
              0.1111111111111111,
              "#46039f"
             ],
             [
              0.2222222222222222,
              "#7201a8"
             ],
             [
              0.3333333333333333,
              "#9c179e"
             ],
             [
              0.4444444444444444,
              "#bd3786"
             ],
             [
              0.5555555555555556,
              "#d8576b"
             ],
             [
              0.6666666666666666,
              "#ed7953"
             ],
             [
              0.7777777777777778,
              "#fb9f3a"
             ],
             [
              0.8888888888888888,
              "#fdca26"
             ],
             [
              1,
              "#f0f921"
             ]
            ],
            "type": "heatmapgl"
           }
          ],
          "histogram": [
           {
            "marker": {
             "pattern": {
              "fillmode": "overlay",
              "size": 10,
              "solidity": 0.2
             }
            },
            "type": "histogram"
           }
          ],
          "histogram2d": [
           {
            "colorbar": {
             "outlinewidth": 0,
             "ticks": ""
            },
            "colorscale": [
             [
              0,
              "#0d0887"
             ],
             [
              0.1111111111111111,
              "#46039f"
             ],
             [
              0.2222222222222222,
              "#7201a8"
             ],
             [
              0.3333333333333333,
              "#9c179e"
             ],
             [
              0.4444444444444444,
              "#bd3786"
             ],
             [
              0.5555555555555556,
              "#d8576b"
             ],
             [
              0.6666666666666666,
              "#ed7953"
             ],
             [
              0.7777777777777778,
              "#fb9f3a"
             ],
             [
              0.8888888888888888,
              "#fdca26"
             ],
             [
              1,
              "#f0f921"
             ]
            ],
            "type": "histogram2d"
           }
          ],
          "histogram2dcontour": [
           {
            "colorbar": {
             "outlinewidth": 0,
             "ticks": ""
            },
            "colorscale": [
             [
              0,
              "#0d0887"
             ],
             [
              0.1111111111111111,
              "#46039f"
             ],
             [
              0.2222222222222222,
              "#7201a8"
             ],
             [
              0.3333333333333333,
              "#9c179e"
             ],
             [
              0.4444444444444444,
              "#bd3786"
             ],
             [
              0.5555555555555556,
              "#d8576b"
             ],
             [
              0.6666666666666666,
              "#ed7953"
             ],
             [
              0.7777777777777778,
              "#fb9f3a"
             ],
             [
              0.8888888888888888,
              "#fdca26"
             ],
             [
              1,
              "#f0f921"
             ]
            ],
            "type": "histogram2dcontour"
           }
          ],
          "mesh3d": [
           {
            "colorbar": {
             "outlinewidth": 0,
             "ticks": ""
            },
            "type": "mesh3d"
           }
          ],
          "parcoords": [
           {
            "line": {
             "colorbar": {
              "outlinewidth": 0,
              "ticks": ""
             }
            },
            "type": "parcoords"
           }
          ],
          "pie": [
           {
            "automargin": true,
            "type": "pie"
           }
          ],
          "scatter": [
           {
            "marker": {
             "colorbar": {
              "outlinewidth": 0,
              "ticks": ""
             }
            },
            "type": "scatter"
           }
          ],
          "scatter3d": [
           {
            "line": {
             "colorbar": {
              "outlinewidth": 0,
              "ticks": ""
             }
            },
            "marker": {
             "colorbar": {
              "outlinewidth": 0,
              "ticks": ""
             }
            },
            "type": "scatter3d"
           }
          ],
          "scattercarpet": [
           {
            "marker": {
             "colorbar": {
              "outlinewidth": 0,
              "ticks": ""
             }
            },
            "type": "scattercarpet"
           }
          ],
          "scattergeo": [
           {
            "marker": {
             "colorbar": {
              "outlinewidth": 0,
              "ticks": ""
             }
            },
            "type": "scattergeo"
           }
          ],
          "scattergl": [
           {
            "marker": {
             "colorbar": {
              "outlinewidth": 0,
              "ticks": ""
             }
            },
            "type": "scattergl"
           }
          ],
          "scattermapbox": [
           {
            "marker": {
             "colorbar": {
              "outlinewidth": 0,
              "ticks": ""
             }
            },
            "type": "scattermapbox"
           }
          ],
          "scatterpolar": [
           {
            "marker": {
             "colorbar": {
              "outlinewidth": 0,
              "ticks": ""
             }
            },
            "type": "scatterpolar"
           }
          ],
          "scatterpolargl": [
           {
            "marker": {
             "colorbar": {
              "outlinewidth": 0,
              "ticks": ""
             }
            },
            "type": "scatterpolargl"
           }
          ],
          "scatterternary": [
           {
            "marker": {
             "colorbar": {
              "outlinewidth": 0,
              "ticks": ""
             }
            },
            "type": "scatterternary"
           }
          ],
          "surface": [
           {
            "colorbar": {
             "outlinewidth": 0,
             "ticks": ""
            },
            "colorscale": [
             [
              0,
              "#0d0887"
             ],
             [
              0.1111111111111111,
              "#46039f"
             ],
             [
              0.2222222222222222,
              "#7201a8"
             ],
             [
              0.3333333333333333,
              "#9c179e"
             ],
             [
              0.4444444444444444,
              "#bd3786"
             ],
             [
              0.5555555555555556,
              "#d8576b"
             ],
             [
              0.6666666666666666,
              "#ed7953"
             ],
             [
              0.7777777777777778,
              "#fb9f3a"
             ],
             [
              0.8888888888888888,
              "#fdca26"
             ],
             [
              1,
              "#f0f921"
             ]
            ],
            "type": "surface"
           }
          ],
          "table": [
           {
            "cells": {
             "fill": {
              "color": "#EBF0F8"
             },
             "line": {
              "color": "white"
             }
            },
            "header": {
             "fill": {
              "color": "#C8D4E3"
             },
             "line": {
              "color": "white"
             }
            },
            "type": "table"
           }
          ]
         },
         "layout": {
          "annotationdefaults": {
           "arrowcolor": "#2a3f5f",
           "arrowhead": 0,
           "arrowwidth": 1
          },
          "autotypenumbers": "strict",
          "coloraxis": {
           "colorbar": {
            "outlinewidth": 0,
            "ticks": ""
           }
          },
          "colorscale": {
           "diverging": [
            [
             0,
             "#8e0152"
            ],
            [
             0.1,
             "#c51b7d"
            ],
            [
             0.2,
             "#de77ae"
            ],
            [
             0.3,
             "#f1b6da"
            ],
            [
             0.4,
             "#fde0ef"
            ],
            [
             0.5,
             "#f7f7f7"
            ],
            [
             0.6,
             "#e6f5d0"
            ],
            [
             0.7,
             "#b8e186"
            ],
            [
             0.8,
             "#7fbc41"
            ],
            [
             0.9,
             "#4d9221"
            ],
            [
             1,
             "#276419"
            ]
           ],
           "sequential": [
            [
             0,
             "#0d0887"
            ],
            [
             0.1111111111111111,
             "#46039f"
            ],
            [
             0.2222222222222222,
             "#7201a8"
            ],
            [
             0.3333333333333333,
             "#9c179e"
            ],
            [
             0.4444444444444444,
             "#bd3786"
            ],
            [
             0.5555555555555556,
             "#d8576b"
            ],
            [
             0.6666666666666666,
             "#ed7953"
            ],
            [
             0.7777777777777778,
             "#fb9f3a"
            ],
            [
             0.8888888888888888,
             "#fdca26"
            ],
            [
             1,
             "#f0f921"
            ]
           ],
           "sequentialminus": [
            [
             0,
             "#0d0887"
            ],
            [
             0.1111111111111111,
             "#46039f"
            ],
            [
             0.2222222222222222,
             "#7201a8"
            ],
            [
             0.3333333333333333,
             "#9c179e"
            ],
            [
             0.4444444444444444,
             "#bd3786"
            ],
            [
             0.5555555555555556,
             "#d8576b"
            ],
            [
             0.6666666666666666,
             "#ed7953"
            ],
            [
             0.7777777777777778,
             "#fb9f3a"
            ],
            [
             0.8888888888888888,
             "#fdca26"
            ],
            [
             1,
             "#f0f921"
            ]
           ]
          },
          "colorway": [
           "#636efa",
           "#EF553B",
           "#00cc96",
           "#ab63fa",
           "#FFA15A",
           "#19d3f3",
           "#FF6692",
           "#B6E880",
           "#FF97FF",
           "#FECB52"
          ],
          "font": {
           "color": "#2a3f5f"
          },
          "geo": {
           "bgcolor": "white",
           "lakecolor": "white",
           "landcolor": "#E5ECF6",
           "showlakes": true,
           "showland": true,
           "subunitcolor": "white"
          },
          "hoverlabel": {
           "align": "left"
          },
          "hovermode": "closest",
          "mapbox": {
           "style": "light"
          },
          "paper_bgcolor": "white",
          "plot_bgcolor": "#E5ECF6",
          "polar": {
           "angularaxis": {
            "gridcolor": "white",
            "linecolor": "white",
            "ticks": ""
           },
           "bgcolor": "#E5ECF6",
           "radialaxis": {
            "gridcolor": "white",
            "linecolor": "white",
            "ticks": ""
           }
          },
          "scene": {
           "xaxis": {
            "backgroundcolor": "#E5ECF6",
            "gridcolor": "white",
            "gridwidth": 2,
            "linecolor": "white",
            "showbackground": true,
            "ticks": "",
            "zerolinecolor": "white"
           },
           "yaxis": {
            "backgroundcolor": "#E5ECF6",
            "gridcolor": "white",
            "gridwidth": 2,
            "linecolor": "white",
            "showbackground": true,
            "ticks": "",
            "zerolinecolor": "white"
           },
           "zaxis": {
            "backgroundcolor": "#E5ECF6",
            "gridcolor": "white",
            "gridwidth": 2,
            "linecolor": "white",
            "showbackground": true,
            "ticks": "",
            "zerolinecolor": "white"
           }
          },
          "shapedefaults": {
           "line": {
            "color": "#2a3f5f"
           }
          },
          "ternary": {
           "aaxis": {
            "gridcolor": "white",
            "linecolor": "white",
            "ticks": ""
           },
           "baxis": {
            "gridcolor": "white",
            "linecolor": "white",
            "ticks": ""
           },
           "bgcolor": "#E5ECF6",
           "caxis": {
            "gridcolor": "white",
            "linecolor": "white",
            "ticks": ""
           }
          },
          "title": {
           "x": 0.05
          },
          "xaxis": {
           "automargin": true,
           "gridcolor": "white",
           "linecolor": "white",
           "ticks": "",
           "title": {
            "standoff": 15
           },
           "zerolinecolor": "white",
           "zerolinewidth": 2
          },
          "yaxis": {
           "automargin": true,
           "gridcolor": "white",
           "linecolor": "white",
           "ticks": "",
           "title": {
            "standoff": 15
           },
           "zerolinecolor": "white",
           "zerolinewidth": 2
          }
         }
        },
        "xaxis": {
         "autorange": true,
         "range": [
          -0.5,
          14.5
         ],
         "type": "category"
        },
        "yaxis": {
         "autorange": true,
         "range": [
          0,
          100.3672
         ],
         "type": "linear"
        }
       }
      },
      "image/png": "[encoded data removed]"
     },
     "metadata": {},
     "output_type": "display_data"
    }
   ],
   "source": [
    "ShopeeModel.accBarChart(models_acc)"
   ]
  },
  {
   "cell_type": "markdown",
   "id": "bfe4d4df-ccd2-4a41-aa91-492f199d249c",
   "metadata": {},
   "source": [
    "> **Nhận xét**:\n",
    "> * Ở đây sau khi kết  hợp lại thì có 13 model cho accuracy trên 85%.\n",
    "> * 6 model cho accuracy hơn 90%. - và các model này đều có **comment sentiment model** sử dụng LSTM.\n",
    "> * Một điều thú vị là ở những bước trước ta đánh giá **Emoji sentiment model** dùng RandomForest bị overfitting nhưng khi kết hợp với LSTM model thì nó cho ra accuracy cao nhất lên đến 93%. Rõ ràng một điều là ta không thể biết trước được điều gì hay khẳng định chắc chắn được điều này trên dữ liệu của chúng ta."
   ]
  },
  {
   "cell_type": "markdown",
   "id": "9b6cb4e7-3598-4cb0-adff-2e5cf0e7cb6d",
   "metadata": {},
   "source": [
    "Bây giờ ta sẽ đi lấy 10 review ngẫu nhiên trên Shopee và cho các model dự đoán trên các review mới này. Năm review đầu tiên được lấy từ các review có 4 và 5 sao, 5 review cuối cùng được lấy từ các review có từ 3 sao trở xuống."
   ]
  },
  {
   "cell_type": "code",
   "execution_count": 11,
   "id": "445c99c2-229a-4146-9056-b3830f73e77f",
   "metadata": {},
   "outputs": [],
   "source": [
    "new_reviews = pd.DataFrame()\n",
    "new_reviews['review'] = [\n",
    "    \"áo đẹp. bố mình rất ưng và rất thíc nhé. lên mua nhé các bạn mình.😝😝😝😝😝😝😝😝😝😝😝😝😝😝😝😝😝😝😝😝😝😝😝😝😝😝😝😝😝😝😝😝😝\",\n",
    "    \"Áo khá ấm, vải mềm, không có chỉ thừa, tuy nhiên khi giặt thì có hơi nhiều phấn vải\",\n",
    "    \"Áo nỉ khá dày, nhẹ tênh, giống hình, thời gian giao hàng nhanh!ok, còn đc tặng voucher xịn xò!!!!!!!\",\n",
    "    \"Chất ổn nhưng dây quần như bị ố nhìn khá xấu. Về tổng quan thì ổn 👍\",\n",
    "    \"Mỏng, chất dễ xù, ban đầu thấy chất khá cứng, nhưng form vẫn chấp nhận dc\",\n",
    "    \"Giao màu khác trong ảnh. Nhìn già kinh luôn. Các b cẩn thận khi mua. Màu nó là màu nâu sẫm chứ k giống trong ảnh chút nào :))) Cho bố e, bố e còn k thèm thì đủ hiểu nó già ntn :)))\",\n",
    "    \"Lười chẳng buồn chụp cái áo vì thất vọng toàn tập, áo màu chuẩn giống hình nhưng len nhão, rộng khủng khiếp, cổ trễ quá sâu, phần nách thì k hề ôm vào ng mà cứ bửa hết ra khả năng là may lỗi, sẽ k dám mua quần áo qua mạng nữa\",\n",
    "    \"Áo màu k giống ảnh phần viền là màu nâu đậm thêm nữa cổ áo rất rộng 🙂🙂\",\n",
    "    \"Áo khác trên ảnh nhiều lắm 🙂màu nhạt dã man xong cổ rộng tóm lại k đáng tiền\",\n",
    "    \"Áo rộng thùng thình bố mình mặc còn vừa nên mình cho bố  luôn rồi. Màu áo ship về cũng không được đẹp cho lắm.Nói chung là hơi thất vọng.\"\n",
    "]"
   ]
  },
  {
   "cell_type": "code",
   "execution_count": 12,
   "id": "5fb51b50-fe90-4854-9725-19bb5f588eec",
   "metadata": {},
   "outputs": [
    {
     "name": "stdout",
     "output_type": "stream",
     "text": [
      "1/1 [==============================] - 0s 23ms/step\n",
      "1/1 [==============================] - 0s 25ms/step\n",
      "1/1 [==============================] - 0s 20ms/step\n",
      "1/1 [==============================] - 0s 21ms/step\n",
      "1/1 [==============================] - 0s 22ms/step\n",
      "1/1 [==============================] - 0s 21ms/step\n"
     ]
    },
    {
     "data": {
      "text/html": [
       "<div>\n",
       "<style scoped>\n",
       "    .dataframe tbody tr th:only-of-type {\n",
       "        vertical-align: middle;\n",
       "    }\n",
       "\n",
       "    .dataframe tbody tr th {\n",
       "        vertical-align: top;\n",
       "    }\n",
       "\n",
       "    .dataframe thead th {\n",
       "        text-align: right;\n",
       "    }\n",
       "</style>\n",
       "<table border=\"1\" class=\"dataframe\">\n",
       "  <thead>\n",
       "    <tr style=\"text-align: right;\">\n",
       "      <th></th>\n",
       "      <th>0</th>\n",
       "      <th>1</th>\n",
       "      <th>2</th>\n",
       "      <th>3</th>\n",
       "      <th>4</th>\n",
       "      <th>5</th>\n",
       "      <th>6</th>\n",
       "      <th>7</th>\n",
       "      <th>8</th>\n",
       "      <th>9</th>\n",
       "    </tr>\n",
       "  </thead>\n",
       "  <tbody>\n",
       "    <tr>\n",
       "      <th>review</th>\n",
       "      <td>áo đẹp. bố mình rất ưng và rất thíc nhé. lên m...</td>\n",
       "      <td>Áo khá ấm, vải mềm, không có chỉ thừa, tuy nhi...</td>\n",
       "      <td>Áo nỉ khá dày, nhẹ tênh, giống hình, thời gian...</td>\n",
       "      <td>Chất ổn nhưng dây quần như bị ố nhìn khá xấu. ...</td>\n",
       "      <td>Mỏng, chất dễ xù, ban đầu thấy chất khá cứng, ...</td>\n",
       "      <td>Giao màu khác trong ảnh. Nhìn già kinh luôn. C...</td>\n",
       "      <td>Lười chẳng buồn chụp cái áo vì thất vọng toàn ...</td>\n",
       "      <td>Áo màu k giống ảnh phần viền là màu nâu đậm th...</td>\n",
       "      <td>Áo khác trên ảnh nhiều lắm 🙂màu nhạt dã man xo...</td>\n",
       "      <td>Áo rộng thùng thình bố mình mặc còn vừa nên mì...</td>\n",
       "    </tr>\n",
       "    <tr>\n",
       "      <th>logistic_bernoulli</th>\n",
       "      <td>1</td>\n",
       "      <td>0</td>\n",
       "      <td>1</td>\n",
       "      <td>0</td>\n",
       "      <td>0</td>\n",
       "      <td>0</td>\n",
       "      <td>0</td>\n",
       "      <td>0</td>\n",
       "      <td>0</td>\n",
       "      <td>0</td>\n",
       "    </tr>\n",
       "    <tr>\n",
       "      <th>logistic_logistic</th>\n",
       "      <td>1</td>\n",
       "      <td>1</td>\n",
       "      <td>1</td>\n",
       "      <td>1</td>\n",
       "      <td>0</td>\n",
       "      <td>0</td>\n",
       "      <td>0</td>\n",
       "      <td>0</td>\n",
       "      <td>0</td>\n",
       "      <td>0</td>\n",
       "    </tr>\n",
       "    <tr>\n",
       "      <th>logistic_svc</th>\n",
       "      <td>1</td>\n",
       "      <td>1</td>\n",
       "      <td>1</td>\n",
       "      <td>1</td>\n",
       "      <td>0</td>\n",
       "      <td>0</td>\n",
       "      <td>0</td>\n",
       "      <td>0</td>\n",
       "      <td>0</td>\n",
       "      <td>0</td>\n",
       "    </tr>\n",
       "    <tr>\n",
       "      <th>logistic_lstm_1</th>\n",
       "      <td>1</td>\n",
       "      <td>1</td>\n",
       "      <td>1</td>\n",
       "      <td>1</td>\n",
       "      <td>0</td>\n",
       "      <td>0</td>\n",
       "      <td>0</td>\n",
       "      <td>0</td>\n",
       "      <td>0</td>\n",
       "      <td>0</td>\n",
       "    </tr>\n",
       "    <tr>\n",
       "      <th>logistic_lstm_uw_2</th>\n",
       "      <td>1</td>\n",
       "      <td>1</td>\n",
       "      <td>1</td>\n",
       "      <td>1</td>\n",
       "      <td>0</td>\n",
       "      <td>0</td>\n",
       "      <td>0</td>\n",
       "      <td>0</td>\n",
       "      <td>0</td>\n",
       "      <td>0</td>\n",
       "    </tr>\n",
       "    <tr>\n",
       "      <th>svc_bernoulli</th>\n",
       "      <td>1</td>\n",
       "      <td>0</td>\n",
       "      <td>1</td>\n",
       "      <td>0</td>\n",
       "      <td>0</td>\n",
       "      <td>0</td>\n",
       "      <td>0</td>\n",
       "      <td>0</td>\n",
       "      <td>0</td>\n",
       "      <td>0</td>\n",
       "    </tr>\n",
       "    <tr>\n",
       "      <th>svc_logistic</th>\n",
       "      <td>1</td>\n",
       "      <td>1</td>\n",
       "      <td>1</td>\n",
       "      <td>1</td>\n",
       "      <td>0</td>\n",
       "      <td>0</td>\n",
       "      <td>0</td>\n",
       "      <td>0</td>\n",
       "      <td>0</td>\n",
       "      <td>0</td>\n",
       "    </tr>\n",
       "    <tr>\n",
       "      <th>svc_svc</th>\n",
       "      <td>1</td>\n",
       "      <td>1</td>\n",
       "      <td>1</td>\n",
       "      <td>1</td>\n",
       "      <td>0</td>\n",
       "      <td>0</td>\n",
       "      <td>0</td>\n",
       "      <td>0</td>\n",
       "      <td>0</td>\n",
       "      <td>0</td>\n",
       "    </tr>\n",
       "    <tr>\n",
       "      <th>svc_lstm_1</th>\n",
       "      <td>1</td>\n",
       "      <td>1</td>\n",
       "      <td>1</td>\n",
       "      <td>0</td>\n",
       "      <td>0</td>\n",
       "      <td>0</td>\n",
       "      <td>0</td>\n",
       "      <td>0</td>\n",
       "      <td>0</td>\n",
       "      <td>0</td>\n",
       "    </tr>\n",
       "    <tr>\n",
       "      <th>svc_lstm_uw_2</th>\n",
       "      <td>1</td>\n",
       "      <td>1</td>\n",
       "      <td>1</td>\n",
       "      <td>1</td>\n",
       "      <td>0</td>\n",
       "      <td>0</td>\n",
       "      <td>0</td>\n",
       "      <td>0</td>\n",
       "      <td>0</td>\n",
       "      <td>0</td>\n",
       "    </tr>\n",
       "    <tr>\n",
       "      <th>rdforest_bernoulli</th>\n",
       "      <td>1</td>\n",
       "      <td>0</td>\n",
       "      <td>1</td>\n",
       "      <td>1</td>\n",
       "      <td>0</td>\n",
       "      <td>0</td>\n",
       "      <td>0</td>\n",
       "      <td>0</td>\n",
       "      <td>0</td>\n",
       "      <td>0</td>\n",
       "    </tr>\n",
       "    <tr>\n",
       "      <th>rdforest_logistic</th>\n",
       "      <td>1</td>\n",
       "      <td>1</td>\n",
       "      <td>1</td>\n",
       "      <td>1</td>\n",
       "      <td>0</td>\n",
       "      <td>0</td>\n",
       "      <td>0</td>\n",
       "      <td>0</td>\n",
       "      <td>0</td>\n",
       "      <td>0</td>\n",
       "    </tr>\n",
       "    <tr>\n",
       "      <th>rdforest_svc</th>\n",
       "      <td>1</td>\n",
       "      <td>1</td>\n",
       "      <td>1</td>\n",
       "      <td>1</td>\n",
       "      <td>0</td>\n",
       "      <td>0</td>\n",
       "      <td>0</td>\n",
       "      <td>0</td>\n",
       "      <td>0</td>\n",
       "      <td>0</td>\n",
       "    </tr>\n",
       "    <tr>\n",
       "      <th>rdforest_lstm_1</th>\n",
       "      <td>1</td>\n",
       "      <td>1</td>\n",
       "      <td>1</td>\n",
       "      <td>1</td>\n",
       "      <td>0</td>\n",
       "      <td>0</td>\n",
       "      <td>0</td>\n",
       "      <td>0</td>\n",
       "      <td>0</td>\n",
       "      <td>0</td>\n",
       "    </tr>\n",
       "    <tr>\n",
       "      <th>rdforest_lstm_uw_2</th>\n",
       "      <td>1</td>\n",
       "      <td>1</td>\n",
       "      <td>1</td>\n",
       "      <td>1</td>\n",
       "      <td>0</td>\n",
       "      <td>0</td>\n",
       "      <td>0</td>\n",
       "      <td>0</td>\n",
       "      <td>0</td>\n",
       "      <td>0</td>\n",
       "    </tr>\n",
       "  </tbody>\n",
       "</table>\n",
       "</div>"
      ],
      "text/plain": [
       "                                                                    0  \\\n",
       "review              áo đẹp. bố mình rất ưng và rất thíc nhé. lên m...   \n",
       "logistic_bernoulli                                                  1   \n",
       "logistic_logistic                                                   1   \n",
       "logistic_svc                                                        1   \n",
       "logistic_lstm_1                                                     1   \n",
       "logistic_lstm_uw_2                                                  1   \n",
       "svc_bernoulli                                                       1   \n",
       "svc_logistic                                                        1   \n",
       "svc_svc                                                             1   \n",
       "svc_lstm_1                                                          1   \n",
       "svc_lstm_uw_2                                                       1   \n",
       "rdforest_bernoulli                                                  1   \n",
       "rdforest_logistic                                                   1   \n",
       "rdforest_svc                                                        1   \n",
       "rdforest_lstm_1                                                     1   \n",
       "rdforest_lstm_uw_2                                                  1   \n",
       "\n",
       "                                                                    1  \\\n",
       "review              Áo khá ấm, vải mềm, không có chỉ thừa, tuy nhi...   \n",
       "logistic_bernoulli                                                  0   \n",
       "logistic_logistic                                                   1   \n",
       "logistic_svc                                                        1   \n",
       "logistic_lstm_1                                                     1   \n",
       "logistic_lstm_uw_2                                                  1   \n",
       "svc_bernoulli                                                       0   \n",
       "svc_logistic                                                        1   \n",
       "svc_svc                                                             1   \n",
       "svc_lstm_1                                                          1   \n",
       "svc_lstm_uw_2                                                       1   \n",
       "rdforest_bernoulli                                                  0   \n",
       "rdforest_logistic                                                   1   \n",
       "rdforest_svc                                                        1   \n",
       "rdforest_lstm_1                                                     1   \n",
       "rdforest_lstm_uw_2                                                  1   \n",
       "\n",
       "                                                                    2  \\\n",
       "review              Áo nỉ khá dày, nhẹ tênh, giống hình, thời gian...   \n",
       "logistic_bernoulli                                                  1   \n",
       "logistic_logistic                                                   1   \n",
       "logistic_svc                                                        1   \n",
       "logistic_lstm_1                                                     1   \n",
       "logistic_lstm_uw_2                                                  1   \n",
       "svc_bernoulli                                                       1   \n",
       "svc_logistic                                                        1   \n",
       "svc_svc                                                             1   \n",
       "svc_lstm_1                                                          1   \n",
       "svc_lstm_uw_2                                                       1   \n",
       "rdforest_bernoulli                                                  1   \n",
       "rdforest_logistic                                                   1   \n",
       "rdforest_svc                                                        1   \n",
       "rdforest_lstm_1                                                     1   \n",
       "rdforest_lstm_uw_2                                                  1   \n",
       "\n",
       "                                                                    3  \\\n",
       "review              Chất ổn nhưng dây quần như bị ố nhìn khá xấu. ...   \n",
       "logistic_bernoulli                                                  0   \n",
       "logistic_logistic                                                   1   \n",
       "logistic_svc                                                        1   \n",
       "logistic_lstm_1                                                     1   \n",
       "logistic_lstm_uw_2                                                  1   \n",
       "svc_bernoulli                                                       0   \n",
       "svc_logistic                                                        1   \n",
       "svc_svc                                                             1   \n",
       "svc_lstm_1                                                          0   \n",
       "svc_lstm_uw_2                                                       1   \n",
       "rdforest_bernoulli                                                  1   \n",
       "rdforest_logistic                                                   1   \n",
       "rdforest_svc                                                        1   \n",
       "rdforest_lstm_1                                                     1   \n",
       "rdforest_lstm_uw_2                                                  1   \n",
       "\n",
       "                                                                    4  \\\n",
       "review              Mỏng, chất dễ xù, ban đầu thấy chất khá cứng, ...   \n",
       "logistic_bernoulli                                                  0   \n",
       "logistic_logistic                                                   0   \n",
       "logistic_svc                                                        0   \n",
       "logistic_lstm_1                                                     0   \n",
       "logistic_lstm_uw_2                                                  0   \n",
       "svc_bernoulli                                                       0   \n",
       "svc_logistic                                                        0   \n",
       "svc_svc                                                             0   \n",
       "svc_lstm_1                                                          0   \n",
       "svc_lstm_uw_2                                                       0   \n",
       "rdforest_bernoulli                                                  0   \n",
       "rdforest_logistic                                                   0   \n",
       "rdforest_svc                                                        0   \n",
       "rdforest_lstm_1                                                     0   \n",
       "rdforest_lstm_uw_2                                                  0   \n",
       "\n",
       "                                                                    5  \\\n",
       "review              Giao màu khác trong ảnh. Nhìn già kinh luôn. C...   \n",
       "logistic_bernoulli                                                  0   \n",
       "logistic_logistic                                                   0   \n",
       "logistic_svc                                                        0   \n",
       "logistic_lstm_1                                                     0   \n",
       "logistic_lstm_uw_2                                                  0   \n",
       "svc_bernoulli                                                       0   \n",
       "svc_logistic                                                        0   \n",
       "svc_svc                                                             0   \n",
       "svc_lstm_1                                                          0   \n",
       "svc_lstm_uw_2                                                       0   \n",
       "rdforest_bernoulli                                                  0   \n",
       "rdforest_logistic                                                   0   \n",
       "rdforest_svc                                                        0   \n",
       "rdforest_lstm_1                                                     0   \n",
       "rdforest_lstm_uw_2                                                  0   \n",
       "\n",
       "                                                                    6  \\\n",
       "review              Lười chẳng buồn chụp cái áo vì thất vọng toàn ...   \n",
       "logistic_bernoulli                                                  0   \n",
       "logistic_logistic                                                   0   \n",
       "logistic_svc                                                        0   \n",
       "logistic_lstm_1                                                     0   \n",
       "logistic_lstm_uw_2                                                  0   \n",
       "svc_bernoulli                                                       0   \n",
       "svc_logistic                                                        0   \n",
       "svc_svc                                                             0   \n",
       "svc_lstm_1                                                          0   \n",
       "svc_lstm_uw_2                                                       0   \n",
       "rdforest_bernoulli                                                  0   \n",
       "rdforest_logistic                                                   0   \n",
       "rdforest_svc                                                        0   \n",
       "rdforest_lstm_1                                                     0   \n",
       "rdforest_lstm_uw_2                                                  0   \n",
       "\n",
       "                                                                    7  \\\n",
       "review              Áo màu k giống ảnh phần viền là màu nâu đậm th...   \n",
       "logistic_bernoulli                                                  0   \n",
       "logistic_logistic                                                   0   \n",
       "logistic_svc                                                        0   \n",
       "logistic_lstm_1                                                     0   \n",
       "logistic_lstm_uw_2                                                  0   \n",
       "svc_bernoulli                                                       0   \n",
       "svc_logistic                                                        0   \n",
       "svc_svc                                                             0   \n",
       "svc_lstm_1                                                          0   \n",
       "svc_lstm_uw_2                                                       0   \n",
       "rdforest_bernoulli                                                  0   \n",
       "rdforest_logistic                                                   0   \n",
       "rdforest_svc                                                        0   \n",
       "rdforest_lstm_1                                                     0   \n",
       "rdforest_lstm_uw_2                                                  0   \n",
       "\n",
       "                                                                    8  \\\n",
       "review              Áo khác trên ảnh nhiều lắm 🙂màu nhạt dã man xo...   \n",
       "logistic_bernoulli                                                  0   \n",
       "logistic_logistic                                                   0   \n",
       "logistic_svc                                                        0   \n",
       "logistic_lstm_1                                                     0   \n",
       "logistic_lstm_uw_2                                                  0   \n",
       "svc_bernoulli                                                       0   \n",
       "svc_logistic                                                        0   \n",
       "svc_svc                                                             0   \n",
       "svc_lstm_1                                                          0   \n",
       "svc_lstm_uw_2                                                       0   \n",
       "rdforest_bernoulli                                                  0   \n",
       "rdforest_logistic                                                   0   \n",
       "rdforest_svc                                                        0   \n",
       "rdforest_lstm_1                                                     0   \n",
       "rdforest_lstm_uw_2                                                  0   \n",
       "\n",
       "                                                                    9  \n",
       "review              Áo rộng thùng thình bố mình mặc còn vừa nên mì...  \n",
       "logistic_bernoulli                                                  0  \n",
       "logistic_logistic                                                   0  \n",
       "logistic_svc                                                        0  \n",
       "logistic_lstm_1                                                     0  \n",
       "logistic_lstm_uw_2                                                  0  \n",
       "svc_bernoulli                                                       0  \n",
       "svc_logistic                                                        0  \n",
       "svc_svc                                                             0  \n",
       "svc_lstm_1                                                          0  \n",
       "svc_lstm_uw_2                                                       0  \n",
       "rdforest_bernoulli                                                  0  \n",
       "rdforest_logistic                                                   0  \n",
       "rdforest_svc                                                        0  \n",
       "rdforest_lstm_1                                                     0  \n",
       "rdforest_lstm_uw_2                                                  0  "
      ]
     },
     "execution_count": 12,
     "metadata": {},
     "output_type": "execute_result"
    }
   ],
   "source": [
    "for model_name, model in shopee_sentiments.items():\n",
    "    new_reviews[model_name] = model.predict(new_reviews['review'])['class']\n",
    "    \n",
    "new_reviews.transpose()"
   ]
  },
  {
   "cell_type": "markdown",
   "id": "5d1fffeb-287d-41fd-a2b5-385f7989131d",
   "metadata": {},
   "source": [
    "> **Nhận xét**:\n",
    "> * Có thể thấy toàn bộ các model có **Comment sentiment model** sử dụng `lstm_1` đều cho ra kết quả chính xác. Các model sử dụng các tradional classifier ở **Comment sentiment model** dự đoán còn sai nhiều ở các comment positive nhưng lại nhầm sang negative.\n",
    "> * Từ đây, có thể cho ra kết quả như sau, đối vối Shopee review dataset của chúng ta, nếu xét riêng về phần comment thì các model Deep Learning hoạt động tốt hơn hẳn, điều này có lẽ vì do việc cấu trúc của comment ảnh hưởng lớn đến kết quả phân lớp.\n",
    "> * Trong 15 model, các model có phần **comment sentiment model** sử dụng `lstm_1` cho ra kết quả tốt, ta có thể giữ lại và cải thiện hoặc phát triển về sau."
   ]
  },
  {
   "cell_type": "markdown",
   "id": "89a84617-87ff-4aaf-a262-6dfa731715df",
   "metadata": {},
   "source": [
    "# Tài liệu tham khảo:\n",
    "* [Hands-On Deep Learning Algorithms with Python](https://www.packtpub.com/product/hands-on-deep-learning-algorithms-with-python/9781789344158)\n",
    "* [Keras Deep Learning Cookbook](https://www.amazon.com/Keras-Deep-Learning-Cookbook-implementing/dp/1788621751)\n",
    "* [Applied Text Analysis with Python](https://www.oreilly.com/library/view/applied-text-analysis/9781491963036/)\n",
    "* [Deep Learning Quick Reference](https://www.packtpub.com/product/deep-learning-quick-reference/9781788837996)\n",
    "* [Advanced Natural Language Processing with TensorFlow 2](https://www.amazon.com/Advanced-Natural-Language-Processing-TensorFlow/dp/1800200935)\n",
    "* [Natural Language Processing with TensorFlow](https://www.packtpub.com/product/natural-language-processing-with-tensorflow/9781788478311)\n",
    "* Và một số tài liệu, bài viết trên các trang GeekForGeeks, Medium, TowardsDataScience, TensorFlow,..."
   ]
  },
  {
   "cell_type": "code",
   "execution_count": null,
   "id": "d1229e82-bdb2-4273-a5e8-fa4d8ce03af5",
   "metadata": {},
   "outputs": [],
   "source": []
  }
 ],
 "metadata": {
  "kernelspec": {
   "display_name": "Python 3",
   "language": "python",
   "name": "python3"
  },
  "language_info": {
   "codemirror_mode": {
    "name": "ipython",
    "version": 3
   },
   "file_extension": ".py",
   "mimetype": "text/x-python",
   "name": "python",
   "nbconvert_exporter": "python",
   "pygments_lexer": "ipython3",
   "version": "3.6.8"
  }
 },
 "nbformat": 4,
 "nbformat_minor": 5
}
