{
 "cells": [
  {
   "cell_type": "code",
   "execution_count": 1,
   "id": "9425f466-ed1a-4563-9aad-e7b2205b8072",
   "metadata": {
    "tags": []
   },
   "outputs": [],
   "source": [
    "%load_ext autoreload\n",
    "%autoreload 2"
   ]
  },
  {
   "cell_type": "code",
   "execution_count": 2,
   "id": "444e929e-f03f-4380-baf1-f5a3d2e6a0ec",
   "metadata": {
    "tags": []
   },
   "outputs": [],
   "source": [
    "import tensorflow as tf\n",
    "from keras.utils.vis_utils import plot_model\n",
    "from keras.models import load_model\n",
    "import modules.deep_model as DeepModel\n",
    "import modules.model as Model \n",
    "import warnings\n",
    "import numpy as np\n",
    "import os\n",
    "\n",
    "warnings.filterwarnings('ignore')"
   ]
  },
  {
   "cell_type": "markdown",
   "id": "66e33778-c017-4a37-accb-bdeef13d3fe8",
   "metadata": {},
   "source": [
    "## Công việc 2.2 (Tiếp theo):\n",
    "* Ở phần này, chúng ta sẽ xây dựng một **Comment sentiment model** bằng LSTM.\n",
    "* Chúng ta biết rằng hạn chế của RNN là nó không thể lưu trữ các thông tin trong dài hạn - RNN tiến hành lưu trữ các thông tin mà nó học được từ chuỗi vào các **hidden state** nhưng khi chuỗi đầu vào quá dài - nó sẽ không thể giữ lại các thông tin này do vấn đề **gradient-vanishing** [tiêu biến gradient] trong quá trình backpropagation:<br>\n",
    "  ![](./images/14.png)\n",
    "* LSTM ra đời để khắc phục gradient-vanishing bằng một cấu trúc đặc biệt gọi là **gate**. Gate sẽ lưu các thông tin của chuỗi lại đồng thời nó quản lí được thông tin nào nên xóa khỏi bộ nhớ và thông tin nào cần giữ.\n",
    "* Giả sử chúng ta có câu: **Giao hàng nhanh**. Với RNN nó dễ dàng dự đoán được comment này thuộc class positive. Nhưng giả sử ta có câu dài hơn: **Giao hàng chậm \"nhưng\" hàng đẹp - cảm ơn shop**. Thì câu hỏi đặt ra là làm sao RNN có thể lưu trữ các thông tin trước từ **nhưng** là negative word và phía sau là positive word. RNN sẽ không thể lưu trữ các thông tin này do vấn đề vanishing-gradient. Nhưng với LSTM nó sẽ giảm bớt hiện tượng này nhờ sử dụng một cấu trúc là LSTM cell. <br>\n",
    "  ![](./images/15.png)\n",
    "* Lúc này, mỗi LSTM cell sẽ chứa ba gate lần lượt là:\n",
    "  * **Input gate**: quyết định thông tin nào cần được thêm vào từ chuỗi đầu vào.\n",
    "  * **Output gate**: quyết định thông tin nào cần được lưu trữ\n",
    "  * **Forget gate**: thông tin nào cần được loại bỏ.\n",
    "  \n",
    "  ![](./images/16.png)\n",
    "\n",
    "* Ở RNN, một hidden state được sử dụng cho hai mục đích là lưu trữ thông tin và đưa ra dự đoán. Tuy nhiên ở LSTM nó tách hiddent state thành hai phần là:\n",
    "  * **Cell state**: đây là nơi lưu giữ thông tin.\n",
    "  * **Hidden state**: dùng cho việc dự đoán.\n",
    "* Cell state và hidden state chia sẻ thông tin lẫn nhau. Như hình trên ta thấy đầu vào sau khi đi qua hidden state $\\rightarrow$ qua các gate $\\rightarrow$ đến cell state.\n",
    "\n",
    "Bây giờ chúng ta sẽ tiến hành xây dựng một **Comment sentiment model** sử dụng LSTM của TensorFlow."
   ]
  },
  {
   "cell_type": "markdown",
   "id": "f54f0c02-c63b-4674-9d68-4c8e8543167a",
   "metadata": {},
   "source": [
    "Load dữ liệu training."
   ]
  },
  {
   "cell_type": "code",
   "execution_count": 3,
   "id": "71ecaab1-0224-4063-b262-7eb8c16a8e2c",
   "metadata": {
    "tags": []
   },
   "outputs": [
    {
     "data": {
      "text/html": [
       "<div>\n",
       "<style scoped>\n",
       "    .dataframe tbody tr th:only-of-type {\n",
       "        vertical-align: middle;\n",
       "    }\n",
       "\n",
       "    .dataframe tbody tr th {\n",
       "        vertical-align: top;\n",
       "    }\n",
       "\n",
       "    .dataframe thead th {\n",
       "        text-align: right;\n",
       "    }\n",
       "</style>\n",
       "<table border=\"1\" class=\"dataframe\">\n",
       "  <thead>\n",
       "    <tr style=\"text-align: right;\">\n",
       "      <th></th>\n",
       "      <th>raw_comment</th>\n",
       "      <th>normalize_comment</th>\n",
       "      <th>emoji_decode</th>\n",
       "    </tr>\n",
       "  </thead>\n",
       "  <tbody>\n",
       "    <tr>\n",
       "      <th>0</th>\n",
       "      <td>Shop gói hàng chắc chắn. Giai hàng nhan...</td>\n",
       "      <td>gói hàng chắc chắn giai hàng nhanh màu...</td>\n",
       "      <td></td>\n",
       "    </tr>\n",
       "    <tr>\n",
       "      <th>1</th>\n",
       "      <td>Chất liệu vải thì khỏi bàn. Chỉ mỗi...</td>\n",
       "      <td>chất liệu vải khỏi bàn chỉ mỗi may đ...</td>\n",
       "      <td></td>\n",
       "    </tr>\n",
       "    <tr>\n",
       "      <th>2</th>\n",
       "      <td>kẹp đẹp dã mannnnnnnnnnnnnnnnnnnnnnnnnnnnnn...</td>\n",
       "      <td>kẹp đẹp dã</td>\n",
       "      <td></td>\n",
       "    </tr>\n",
       "    <tr>\n",
       "      <th>3</th>\n",
       "      <td>Áo ko đúng size\\nSiza xl mà như size m v</td>\n",
       "      <td>áo không đúng size xl mà như size</td>\n",
       "      <td></td>\n",
       "    </tr>\n",
       "    <tr>\n",
       "      <th>4</th>\n",
       "      <td>Với giá thì sp khá tốt\\nNhưng lông ho...</td>\n",
       "      <td>giá sản phẩm khá tốt nhưng lông hơi ...</td>\n",
       "      <td></td>\n",
       "    </tr>\n",
       "    <tr>\n",
       "      <th>...</th>\n",
       "      <td>...</td>\n",
       "      <td>...</td>\n",
       "      <td>...</td>\n",
       "    </tr>\n",
       "    <tr>\n",
       "      <th>11356</th>\n",
       "      <td>Áo cũng ok nhưng vải nóng quá</td>\n",
       "      <td>áo cũng ok nhưng vải nóng quá</td>\n",
       "      <td></td>\n",
       "    </tr>\n",
       "    <tr>\n",
       "      <th>11357</th>\n",
       "      <td>quần đẹp mà áo thì hơi mỏng</td>\n",
       "      <td>quần đẹp mà áo hơi mỏng</td>\n",
       "      <td></td>\n",
       "    </tr>\n",
       "    <tr>\n",
       "      <th>11358</th>\n",
       "      <td>Khóa bị kẹt, kéo qua lại k mượt. Nói ...</td>\n",
       "      <td>kẹt kéo qua không mượt nói chung tạm o...</td>\n",
       "      <td></td>\n",
       "    </tr>\n",
       "    <tr>\n",
       "      <th>11359</th>\n",
       "      <td>Đặt hàng lần thứ nhất shop giao thiê...</td>\n",
       "      <td>đặt hàng lần thứ nhất giao thiếu mo...</td>\n",
       "      <td></td>\n",
       "    </tr>\n",
       "    <tr>\n",
       "      <th>11360</th>\n",
       "      <td>Vải dày nhìn cũng dc lắm ạ..ma ko biet ...</td>\n",
       "      <td>vải dày nhìn cũng được lắm ma không ...</td>\n",
       "      <td></td>\n",
       "    </tr>\n",
       "  </tbody>\n",
       "</table>\n",
       "<p>11361 rows × 3 columns</p>\n",
       "</div>"
      ],
      "text/plain": [
       "                                             raw_comment  \\\n",
       "0      Shop gói hàng chắc chắn. Giai hàng nhan...   \n",
       "1      Chất liệu vải thì khỏi bàn. Chỉ mỗi...   \n",
       "2      kẹp đẹp dã mannnnnnnnnnnnnnnnnnnnnnnnnnnnnn...   \n",
       "3           Áo ko đúng size\\nSiza xl mà như size m v   \n",
       "4      Với giá thì sp khá tốt\\nNhưng lông ho...   \n",
       "...                                                  ...   \n",
       "11356                Áo cũng ok nhưng vải nóng quá   \n",
       "11357                quần đẹp mà áo thì hơi mỏng   \n",
       "11358  Khóa bị kẹt, kéo qua lại k mượt. Nói ...   \n",
       "11359  Đặt hàng lần thứ nhất shop giao thiê...   \n",
       "11360  Vải dày nhìn cũng dc lắm ạ..ma ko biet ...   \n",
       "\n",
       "                                       normalize_comment emoji_decode  \n",
       "0      gói hàng chắc chắn giai hàng nhanh màu...               \n",
       "1      chất liệu vải khỏi bàn chỉ mỗi may đ...               \n",
       "2                                          kẹp đẹp dã               \n",
       "3                 áo không đúng size xl mà như size               \n",
       "4      giá sản phẩm khá tốt nhưng lông hơi ...               \n",
       "...                                                  ...          ...  \n",
       "11356                áo cũng ok nhưng vải nóng quá               \n",
       "11357                     quần đẹp mà áo hơi mỏng               \n",
       "11358  kẹt kéo qua không mượt nói chung tạm o...               \n",
       "11359  đặt hàng lần thứ nhất giao thiếu mo...               \n",
       "11360  vải dày nhìn cũng được lắm ma không ...               \n",
       "\n",
       "[11361 rows x 3 columns]"
      ]
     },
     "metadata": {},
     "output_type": "display_data"
    },
    {
     "data": {
      "text/html": [
       "<div>\n",
       "<style scoped>\n",
       "    .dataframe tbody tr th:only-of-type {\n",
       "        vertical-align: middle;\n",
       "    }\n",
       "\n",
       "    .dataframe tbody tr th {\n",
       "        vertical-align: top;\n",
       "    }\n",
       "\n",
       "    .dataframe thead th {\n",
       "        text-align: right;\n",
       "    }\n",
       "</style>\n",
       "<table border=\"1\" class=\"dataframe\">\n",
       "  <thead>\n",
       "    <tr style=\"text-align: right;\">\n",
       "      <th></th>\n",
       "      <th>label</th>\n",
       "    </tr>\n",
       "  </thead>\n",
       "  <tbody>\n",
       "    <tr>\n",
       "      <th>0</th>\n",
       "      <td>1</td>\n",
       "    </tr>\n",
       "    <tr>\n",
       "      <th>1</th>\n",
       "      <td>0</td>\n",
       "    </tr>\n",
       "    <tr>\n",
       "      <th>2</th>\n",
       "      <td>1</td>\n",
       "    </tr>\n",
       "    <tr>\n",
       "      <th>3</th>\n",
       "      <td>0</td>\n",
       "    </tr>\n",
       "    <tr>\n",
       "      <th>4</th>\n",
       "      <td>0</td>\n",
       "    </tr>\n",
       "    <tr>\n",
       "      <th>...</th>\n",
       "      <td>...</td>\n",
       "    </tr>\n",
       "    <tr>\n",
       "      <th>11356</th>\n",
       "      <td>0</td>\n",
       "    </tr>\n",
       "    <tr>\n",
       "      <th>11357</th>\n",
       "      <td>1</td>\n",
       "    </tr>\n",
       "    <tr>\n",
       "      <th>11358</th>\n",
       "      <td>0</td>\n",
       "    </tr>\n",
       "    <tr>\n",
       "      <th>11359</th>\n",
       "      <td>0</td>\n",
       "    </tr>\n",
       "    <tr>\n",
       "      <th>11360</th>\n",
       "      <td>1</td>\n",
       "    </tr>\n",
       "  </tbody>\n",
       "</table>\n",
       "<p>11361 rows × 1 columns</p>\n",
       "</div>"
      ],
      "text/plain": [
       "       label\n",
       "0          1\n",
       "1          0\n",
       "2          1\n",
       "3          0\n",
       "4          0\n",
       "...      ...\n",
       "11356      0\n",
       "11357      1\n",
       "11358      0\n",
       "11359      0\n",
       "11360      1\n",
       "\n",
       "[11361 rows x 1 columns]"
      ]
     },
     "metadata": {},
     "output_type": "display_data"
    },
    {
     "data": {
      "text/html": [
       "<div>\n",
       "<style scoped>\n",
       "    .dataframe tbody tr th:only-of-type {\n",
       "        vertical-align: middle;\n",
       "    }\n",
       "\n",
       "    .dataframe tbody tr th {\n",
       "        vertical-align: top;\n",
       "    }\n",
       "\n",
       "    .dataframe thead th {\n",
       "        text-align: right;\n",
       "    }\n",
       "</style>\n",
       "<table border=\"1\" class=\"dataframe\">\n",
       "  <thead>\n",
       "    <tr style=\"text-align: right;\">\n",
       "      <th></th>\n",
       "      <th>raw_comment</th>\n",
       "      <th>normalize_comment</th>\n",
       "      <th>emoji_decode</th>\n",
       "    </tr>\n",
       "  </thead>\n",
       "  <tbody>\n",
       "    <tr>\n",
       "      <th>0</th>\n",
       "      <td>Đẹp , nhẹ , đường may nhiều đầu chỉ ...</td>\n",
       "      <td>đẹp nhẹ đường may nhiều đầu chỉ các...</td>\n",
       "      <td></td>\n",
       "    </tr>\n",
       "    <tr>\n",
       "      <th>1</th>\n",
       "      <td>Giao hàng nhanh\\nĐóng gói sản phẩm cẩn...</td>\n",
       "      <td>giao hàng nhanh đóng gói sản phẩm cẩn ...</td>\n",
       "      <td></td>\n",
       "    </tr>\n",
       "    <tr>\n",
       "      <th>2</th>\n",
       "      <td>Quần đẹp lắm \\nShop thân thiện \\nNhiê...</td>\n",
       "      <td>quần đẹp lắm thân thiện nhiều o</td>\n",
       "      <td></td>\n",
       "    </tr>\n",
       "    <tr>\n",
       "      <th>3</th>\n",
       "      <td>Uiii, xinhhhhh lắmmmmmm luônnnnn, ship nhan...</td>\n",
       "      <td>ui xinh lắm luôn ship nhanh nưa</td>\n",
       "      <td></td>\n",
       "    </tr>\n",
       "    <tr>\n",
       "      <th>4</th>\n",
       "      <td>Chất lượng tốt giao hàng nhanh nhân v...</td>\n",
       "      <td>chất lượng tốt giao hàng nhanh nhân v...</td>\n",
       "      <td>thumbsup thumbsup thumbsup thumbsup thumbsup</td>\n",
       "    </tr>\n",
       "    <tr>\n",
       "      <th>...</th>\n",
       "      <td>...</td>\n",
       "      <td>...</td>\n",
       "      <td>...</td>\n",
       "    </tr>\n",
       "    <tr>\n",
       "      <th>2836</th>\n",
       "      <td>Chất hơi bị mềm quá. Nc vẫn đc.</td>\n",
       "      <td>chất hơi mềm quá nói chuyện vẫn đư...</td>\n",
       "      <td></td>\n",
       "    </tr>\n",
       "    <tr>\n",
       "      <th>2837</th>\n",
       "      <td>Nhìn hình tưởng quần dày có thể mạ...</td>\n",
       "      <td>nhìn hình tưởng quần dày có thể mạ...</td>\n",
       "      <td></td>\n",
       "    </tr>\n",
       "    <tr>\n",
       "      <th>2838</th>\n",
       "      <td>Sản phẩm bị lủng rách nhiều chổ mua ...</td>\n",
       "      <td>sản phẩm lủng rách nhiều chổ mua cái...</td>\n",
       "      <td></td>\n",
       "    </tr>\n",
       "    <tr>\n",
       "      <th>2839</th>\n",
       "      <td>Cay vừa mua 180k hôm sau giảm 120k</td>\n",
       "      <td>cay vừa mua không hôm sau giảm không</td>\n",
       "      <td></td>\n",
       "    </tr>\n",
       "    <tr>\n",
       "      <th>2840</th>\n",
       "      <td>Hàng bth với giá 1k.</td>\n",
       "      <td>hàng bình thường giá không</td>\n",
       "      <td></td>\n",
       "    </tr>\n",
       "  </tbody>\n",
       "</table>\n",
       "<p>2841 rows × 3 columns</p>\n",
       "</div>"
      ],
      "text/plain": [
       "                                            raw_comment  \\\n",
       "0     Đẹp , nhẹ , đường may nhiều đầu chỉ ...   \n",
       "1     Giao hàng nhanh\\nĐóng gói sản phẩm cẩn...   \n",
       "2     Quần đẹp lắm \\nShop thân thiện \\nNhiê...   \n",
       "3     Uiii, xinhhhhh lắmmmmmm luônnnnn, ship nhan...   \n",
       "4     Chất lượng tốt giao hàng nhanh nhân v...   \n",
       "...                                                 ...   \n",
       "2836           Chất hơi bị mềm quá. Nc vẫn đc.   \n",
       "2837  Nhìn hình tưởng quần dày có thể mạ...   \n",
       "2838  Sản phẩm bị lủng rách nhiều chổ mua ...   \n",
       "2839             Cay vừa mua 180k hôm sau giảm 120k   \n",
       "2840                           Hàng bth với giá 1k.   \n",
       "\n",
       "                                      normalize_comment  \\\n",
       "0     đẹp nhẹ đường may nhiều đầu chỉ các...   \n",
       "1     giao hàng nhanh đóng gói sản phẩm cẩn ...   \n",
       "2             quần đẹp lắm thân thiện nhiều o   \n",
       "3                   ui xinh lắm luôn ship nhanh nưa   \n",
       "4     chất lượng tốt giao hàng nhanh nhân v...   \n",
       "...                                                 ...   \n",
       "2836  chất hơi mềm quá nói chuyện vẫn đư...   \n",
       "2837  nhìn hình tưởng quần dày có thể mạ...   \n",
       "2838  sản phẩm lủng rách nhiều chổ mua cái...   \n",
       "2839         cay vừa mua không hôm sau giảm không   \n",
       "2840                  hàng bình thường giá không   \n",
       "\n",
       "                                      emoji_decode  \n",
       "0                                                   \n",
       "1                                                   \n",
       "2                                                   \n",
       "3                                                   \n",
       "4     thumbsup thumbsup thumbsup thumbsup thumbsup  \n",
       "...                                            ...  \n",
       "2836                                                \n",
       "2837                                                \n",
       "2838                                                \n",
       "2839                                                \n",
       "2840                                                \n",
       "\n",
       "[2841 rows x 3 columns]"
      ]
     },
     "metadata": {},
     "output_type": "display_data"
    },
    {
     "data": {
      "text/html": [
       "<div>\n",
       "<style scoped>\n",
       "    .dataframe tbody tr th:only-of-type {\n",
       "        vertical-align: middle;\n",
       "    }\n",
       "\n",
       "    .dataframe tbody tr th {\n",
       "        vertical-align: top;\n",
       "    }\n",
       "\n",
       "    .dataframe thead th {\n",
       "        text-align: right;\n",
       "    }\n",
       "</style>\n",
       "<table border=\"1\" class=\"dataframe\">\n",
       "  <thead>\n",
       "    <tr style=\"text-align: right;\">\n",
       "      <th></th>\n",
       "      <th>label</th>\n",
       "    </tr>\n",
       "  </thead>\n",
       "  <tbody>\n",
       "    <tr>\n",
       "      <th>0</th>\n",
       "      <td>0</td>\n",
       "    </tr>\n",
       "    <tr>\n",
       "      <th>1</th>\n",
       "      <td>1</td>\n",
       "    </tr>\n",
       "    <tr>\n",
       "      <th>2</th>\n",
       "      <td>1</td>\n",
       "    </tr>\n",
       "    <tr>\n",
       "      <th>3</th>\n",
       "      <td>1</td>\n",
       "    </tr>\n",
       "    <tr>\n",
       "      <th>4</th>\n",
       "      <td>1</td>\n",
       "    </tr>\n",
       "    <tr>\n",
       "      <th>...</th>\n",
       "      <td>...</td>\n",
       "    </tr>\n",
       "    <tr>\n",
       "      <th>2836</th>\n",
       "      <td>1</td>\n",
       "    </tr>\n",
       "    <tr>\n",
       "      <th>2837</th>\n",
       "      <td>0</td>\n",
       "    </tr>\n",
       "    <tr>\n",
       "      <th>2838</th>\n",
       "      <td>0</td>\n",
       "    </tr>\n",
       "    <tr>\n",
       "      <th>2839</th>\n",
       "      <td>1</td>\n",
       "    </tr>\n",
       "    <tr>\n",
       "      <th>2840</th>\n",
       "      <td>0</td>\n",
       "    </tr>\n",
       "  </tbody>\n",
       "</table>\n",
       "<p>2841 rows × 1 columns</p>\n",
       "</div>"
      ],
      "text/plain": [
       "      label\n",
       "0         0\n",
       "1         1\n",
       "2         1\n",
       "3         1\n",
       "4         1\n",
       "...     ...\n",
       "2836      1\n",
       "2837      0\n",
       "2838      0\n",
       "2839      1\n",
       "2840      0\n",
       "\n",
       "[2841 rows x 1 columns]"
      ]
     },
     "metadata": {},
     "output_type": "display_data"
    }
   ],
   "source": [
    "X_train, y_train = Model.loadData(\"./data/data/train\")\n",
    "X_train = X_train.fillna(\"\")\n",
    "\n",
    "X_test, y_test = Model.loadData(\"./data/data/test\")\n",
    "X_test = X_test.fillna(\"\")\n",
    "\n",
    "display(X_train, y_train)\n",
    "display(X_test, y_test)"
   ]
  },
  {
   "cell_type": "markdown",
   "id": "21dd3094-5050-4a45-a578-aec9652ba3da",
   "metadata": {},
   "source": [
    "Ở đây, nhóm đã viết gọn tất cả các tính năng của một LSTM model vào một object là `SentimentLSTM` nằm trong file `deep_model.py`, về ý tưởng của nhóm như sau:\n",
    "  * **Bước 1**: Dữ liệu training ở đây là các comment đã qua bước tiền xử lí ở feature `normalize_comment` - ta bỏ qua không cần xử lí N-Grams cho feature này.\n",
    "  * **Bước 2**: Ta sử dụng cơ chế Tokenizer do TensorFlow cung cấp, object `Tokenizer` của TensorFlow yêu cầu một hyper-pamrameter là `num_words` - tức số lượng từ tối đa ta muốn tokenize, ở đây nếu để bằng `None`, `Tokenizer` sẽ được tự động tính. Cuối cùng `Tokenizer` sẽ lưu các comment dưới dạng mảng chứa các index của từ, với index của từ phổ biến nhất là 1.\n",
    "  * **Bước 3**: Ta sử dụng phương thức `pad_sequences()` của TensorFlow - phương thức này sẽ dựa vào thuộc tính `maxlen` để đưa toàn bộ các comment về cùng một độ dài, các comment nào có chiều dài lớn sẽ được cắt bớt. Các comment ngắn hơn sẽ được thay thế bằng giá trị 0.\n",
    "  * **Bước 4**: Ta sẽ định nghĩa kiến trúc của model trong `SentimentLSTM._defineModel()`. Ở đây, để tiện cho quá trình HyperParams Optimization, ta sẽ để thuộc tính `optimizer` linh động dựa trên tham vào truyền vào của hàm. Tiếp theo, ở output ta sử dụng 2 neuron để lưu giá trị của xác suất để dự đoán comment đó ở lần lượt hai class là negative và positive, ta sử dụng loss function là **binary cross-entropy** và action function **softmax** cho output layer này.\n",
    "  * **Bước 5**: Để ta có thể kiểm soát được liệu model có bị overfitting trong quá trính training không, nếu có ta có thể dừng quá trình training lại. Tại đây ta sử dụng object `CheckPoint` do TensorFlow cung cấp, object này sẽ theo dõi qua trình training và dựa vào thông số trên loss function mà ta chỉ định là trên train hay validation data để tiến hành lưu lại **weights set** của model tại thời điểm loss value này thấp nhất, ở đây nhóm sẽ sử dụng 10% dữ liệu training làm validation và chỉ định validation loss để tránh overfitting.\n",
    "\n",
    "Code dưới đây ta sẽ định nghĩa một hyperparams set cho model. Ở đây `num_words` và `maxlen` là `None` để cho TensorFlow tự tính toán, ta sử dụng 10 neuron cho LSTM layer và dropout regularixation có xác suất để một neuron bị tắt ở layer này là 20%.\n",
    "\n",
    "Sau đó ta sẽ cho in `summary` để xem tổng số weight của model và trực quan hóa kiến trúc của model."
   ]
  },
  {
   "cell_type": "code",
   "execution_count": 17,
   "id": "a4afe0fc-7610-41ba-8a35-87be4765b957",
   "metadata": {
    "tags": []
   },
   "outputs": [
    {
     "name": "stdout",
     "output_type": "stream",
     "text": [
      "Model: \"sequential_3\"\n",
      "_________________________________________________________________\n",
      " Layer (type)                Output Shape              Param #   \n",
      "=================================================================\n",
      " embedding (Embedding)       (None, 70, 70)            249830    \n",
      "                                                                 \n",
      " lstm (LSTM)                 (None, 10)                3240      \n",
      "                                                                 \n",
      " output (Dense)              (None, 2)                 22        \n",
      "                                                                 \n",
      "=================================================================\n",
      "Total params: 253,092\n",
      "Trainable params: 253,092\n",
      "Non-trainable params: 0\n",
      "_________________________________________________________________\n"
     ]
    },
    {
     "data": {
      "image/png": "[encoded data removed]",
      "text/plain": [
       "<IPython.core.display.Image object>"
      ]
     },
     "execution_count": 17,
     "metadata": {},
     "output_type": "execute_result"
    }
   ],
   "source": [
    "hyperparameters_1 = {\n",
    "    'pX': X_train['normalize_comment'], \n",
    "    'py': y_train, \n",
    "    'pnum_words': None, \n",
    "    'pseq_length': None,\n",
    "    'pno_units': 10, \n",
    "    'pdropout': 0.2, \n",
    "    'pbatch_size': 32, \n",
    "    'pepochs': 10, \n",
    "    'psave_weights': './models/lstm_model_comments_1.h5'\n",
    "}\n",
    "\n",
    "model_1 = DeepModel.SentimentLSTM()\n",
    "model_1.define(**hyperparameters_1)\n",
    "model_1.model.summary()\n",
    "plot_model(model_1.model, to_file='./images/lstm_model_comments_1.png', show_shapes=True, show_layer_names=True)"
   ]
  },
  {
   "cell_type": "markdown",
   "id": "f06e0dab-f708-420b-9d91-3e9014fb6822",
   "metadata": {},
   "source": [
    "Bây giờ ta tiến hành training model."
   ]
  },
  {
   "cell_type": "code",
   "execution_count": 18,
   "id": "551f64a0-07a4-49e2-b465-a3f1831349be",
   "metadata": {
    "tags": []
   },
   "outputs": [
    {
     "name": "stdout",
     "output_type": "stream",
     "text": [
      "Epoch 1/10\n",
      "320/320 [==============================] - 22s 62ms/step - loss: 0.4539 - accuracy: 0.8206 - val_loss: 0.3316 - val_accuracy: 0.8681\n",
      "Epoch 2/10\n",
      "320/320 [==============================] - 19s 58ms/step - loss: 0.2820 - accuracy: 0.8947 - val_loss: 0.3218 - val_accuracy: 0.8716\n",
      "Epoch 3/10\n",
      "320/320 [==============================] - 19s 59ms/step - loss: 0.2394 - accuracy: 0.9150 - val_loss: 0.3171 - val_accuracy: 0.8769\n",
      "Epoch 4/10\n",
      "320/320 [==============================] - 19s 59ms/step - loss: 0.2148 - accuracy: 0.9224 - val_loss: 0.3132 - val_accuracy: 0.8760\n",
      "Epoch 5/10\n",
      "320/320 [==============================] - 19s 58ms/step - loss: 0.1956 - accuracy: 0.9311 - val_loss: 0.3185 - val_accuracy: 0.8777\n",
      "Epoch 6/10\n",
      "320/320 [==============================] - 19s 59ms/step - loss: 0.1798 - accuracy: 0.9358 - val_loss: 0.3160 - val_accuracy: 0.8786\n",
      "Epoch 7/10\n",
      "320/320 [==============================] - 19s 58ms/step - loss: 0.1675 - accuracy: 0.9424 - val_loss: 0.3356 - val_accuracy: 0.8786\n",
      "Epoch 8/10\n",
      "320/320 [==============================] - 19s 58ms/step - loss: 0.1591 - accuracy: 0.9442 - val_loss: 0.3415 - val_accuracy: 0.8769\n",
      "Epoch 9/10\n",
      "320/320 [==============================] - 19s 59ms/step - loss: 0.1470 - accuracy: 0.9483 - val_loss: 0.3515 - val_accuracy: 0.8830\n",
      "Epoch 10/10\n",
      "320/320 [==============================] - 20s 61ms/step - loss: 0.1366 - accuracy: 0.9527 - val_loss: 0.3599 - val_accuracy: 0.8839\n"
     ]
    }
   ],
   "source": [
    "model_1.fit(**hyperparameters_1)"
   ]
  },
  {
   "cell_type": "code",
   "execution_count": 19,
   "id": "5d508852-516b-4674-9c64-583df85e2100",
   "metadata": {},
   "outputs": [
    {
     "name": "stdout",
     "output_type": "stream",
     "text": [
      "\n",
      "NOTE: Using experimental fast data loading logic. To disable, pass\n",
      "    \"--load_fast=false\" and report issues on GitHub. More details:\n",
      "    https://github.com/tensorflow/tensorboard/issues/4784\n",
      "\n",
      "TensorBoard 2.9.1 at http://localhost:6006/ (Press CTRL+C to quit)\n",
      "^C\n"
     ]
    }
   ],
   "source": [
    "!tensorboard --logdir ./tb_log_sentiment --port 6006 --host localhost"
   ]
  },
  {
   "cell_type": "markdown",
   "id": "0c4147dd-349e-4d62-89a4-8256b86ab1b6",
   "metadata": {},
   "source": [
    "<!-- ![](./images/13.png) -->\n",
    "<img src=\"./images/13.png\" width=\"450\">\n"
   ]
  },
  {
   "cell_type": "markdown",
   "id": "58b9f4e6-7c36-48ad-8198-770bdf173845",
   "metadata": {},
   "source": [
    "> **Nhận xét**:\n",
    "> * Hai biểu đồ trên lần lượt thể hiện giá trị accuracy và loss value qua 10 epoch với đường màu xanh là của **validation data** và hồng là của **training data** được vẽ bằng TensorBoard. Có thể thấy kể từ epoch thứ 2 trở đi thì loss value có xu hướng đi xuống ở training data và đi lên ở valudation. Lúc này nhờ cơ thế CheckPoint của TensorFlow mà các weight tại thời điểm này được lưu lại và ta có thể kiểm tra sau này."
   ]
  },
  {
   "cell_type": "markdown",
   "id": "c8b7d377-b68c-446f-95c0-e72b16483312",
   "metadata": {},
   "source": [
    "Tiếp theo, ta sẽ tokenizer cho test data để tiến hành đánh giá trên test data."
   ]
  },
  {
   "cell_type": "code",
   "execution_count": 20,
   "id": "c0d1bc0c-023a-472c-8327-ece08c0531ce",
   "metadata": {
    "tags": []
   },
   "outputs": [
    {
     "name": "stdout",
     "output_type": "stream",
     "text": [
      "89/89 [==============================] - 1s 8ms/step\n"
     ]
    },
    {
     "data": {
      "text/html": [
       "<div>\n",
       "<style scoped>\n",
       "    .dataframe tbody tr th:only-of-type {\n",
       "        vertical-align: middle;\n",
       "    }\n",
       "\n",
       "    .dataframe tbody tr th {\n",
       "        vertical-align: top;\n",
       "    }\n",
       "\n",
       "    .dataframe thead th {\n",
       "        text-align: right;\n",
       "    }\n",
       "</style>\n",
       "<table border=\"1\" class=\"dataframe\">\n",
       "  <thead>\n",
       "    <tr style=\"text-align: right;\">\n",
       "      <th></th>\n",
       "      <th>input</th>\n",
       "      <th>output_proba</th>\n",
       "      <th>output_class</th>\n",
       "    </tr>\n",
       "  </thead>\n",
       "  <tbody>\n",
       "    <tr>\n",
       "      <th>0</th>\n",
       "      <td>đẹp nhẹ đường may nhiều đầu chỉ các...</td>\n",
       "      <td>(0.4959207, 0.50407934)</td>\n",
       "      <td>1</td>\n",
       "    </tr>\n",
       "    <tr>\n",
       "      <th>1</th>\n",
       "      <td>giao hàng nhanh đóng gói sản phẩm cẩn ...</td>\n",
       "      <td>(7.33297e-05, 0.9999267)</td>\n",
       "      <td>1</td>\n",
       "    </tr>\n",
       "    <tr>\n",
       "      <th>2</th>\n",
       "      <td>quần đẹp lắm thân thiện nhiều o</td>\n",
       "      <td>(0.00047754217, 0.99952245)</td>\n",
       "      <td>1</td>\n",
       "    </tr>\n",
       "    <tr>\n",
       "      <th>3</th>\n",
       "      <td>ui xinh lắm luôn ship nhanh nưa</td>\n",
       "      <td>(3.723158e-06, 0.9999963)</td>\n",
       "      <td>1</td>\n",
       "    </tr>\n",
       "    <tr>\n",
       "      <th>4</th>\n",
       "      <td>chất lượng tốt giao hàng nhanh nhân v...</td>\n",
       "      <td>(0.00062082126, 0.99937916)</td>\n",
       "      <td>1</td>\n",
       "    </tr>\n",
       "    <tr>\n",
       "      <th>...</th>\n",
       "      <td>...</td>\n",
       "      <td>...</td>\n",
       "      <td>...</td>\n",
       "    </tr>\n",
       "    <tr>\n",
       "      <th>2836</th>\n",
       "      <td>chất hơi mềm quá nói chuyện vẫn đư...</td>\n",
       "      <td>(0.36204994, 0.6379501)</td>\n",
       "      <td>1</td>\n",
       "    </tr>\n",
       "    <tr>\n",
       "      <th>2837</th>\n",
       "      <td>nhìn hình tưởng quần dày có thể mạ...</td>\n",
       "      <td>(0.99967957, 0.00032048952)</td>\n",
       "      <td>0</td>\n",
       "    </tr>\n",
       "    <tr>\n",
       "      <th>2838</th>\n",
       "      <td>sản phẩm lủng rách nhiều chổ mua cái...</td>\n",
       "      <td>(0.99997294, 2.7002601e-05)</td>\n",
       "      <td>0</td>\n",
       "    </tr>\n",
       "    <tr>\n",
       "      <th>2839</th>\n",
       "      <td>cay vừa mua không hôm sau giảm không</td>\n",
       "      <td>(0.9999666, 3.337355e-05)</td>\n",
       "      <td>0</td>\n",
       "    </tr>\n",
       "    <tr>\n",
       "      <th>2840</th>\n",
       "      <td>hàng bình thường giá không</td>\n",
       "      <td>(0.9975898, 0.0024101739)</td>\n",
       "      <td>0</td>\n",
       "    </tr>\n",
       "  </tbody>\n",
       "</table>\n",
       "<p>2841 rows × 3 columns</p>\n",
       "</div>"
      ],
      "text/plain": [
       "                                                  input  \\\n",
       "0     đẹp nhẹ đường may nhiều đầu chỉ các...   \n",
       "1     giao hàng nhanh đóng gói sản phẩm cẩn ...   \n",
       "2             quần đẹp lắm thân thiện nhiều o   \n",
       "3                   ui xinh lắm luôn ship nhanh nưa   \n",
       "4     chất lượng tốt giao hàng nhanh nhân v...   \n",
       "...                                                 ...   \n",
       "2836  chất hơi mềm quá nói chuyện vẫn đư...   \n",
       "2837  nhìn hình tưởng quần dày có thể mạ...   \n",
       "2838  sản phẩm lủng rách nhiều chổ mua cái...   \n",
       "2839         cay vừa mua không hôm sau giảm không   \n",
       "2840                  hàng bình thường giá không   \n",
       "\n",
       "                     output_proba  output_class  \n",
       "0         (0.4959207, 0.50407934)             1  \n",
       "1        (7.33297e-05, 0.9999267)             1  \n",
       "2     (0.00047754217, 0.99952245)             1  \n",
       "3       (3.723158e-06, 0.9999963)             1  \n",
       "4     (0.00062082126, 0.99937916)             1  \n",
       "...                           ...           ...  \n",
       "2836      (0.36204994, 0.6379501)             1  \n",
       "2837  (0.99967957, 0.00032048952)             0  \n",
       "2838  (0.99997294, 2.7002601e-05)             0  \n",
       "2839    (0.9999666, 3.337355e-05)             0  \n",
       "2840    (0.9975898, 0.0024101739)             0  \n",
       "\n",
       "[2841 rows x 3 columns]"
      ]
     },
     "execution_count": 20,
     "metadata": {},
     "output_type": "execute_result"
    }
   ],
   "source": [
    "prediction_1 = model_1.predict(X_test['normalize_comment'])\n",
    "prediction_1"
   ]
  },
  {
   "cell_type": "code",
   "execution_count": 21,
   "id": "2b6b5910-1780-47ab-88bc-9db1cbdcb151",
   "metadata": {
    "tags": []
   },
   "outputs": [
    {
     "name": "stdout",
     "output_type": "stream",
     "text": [
      "              precision    recall  f1-score   support\n",
      "\n",
      "    Negative       0.86      0.90      0.88      1438\n",
      "    Positive       0.89      0.85      0.87      1403\n",
      "\n",
      "    accuracy                           0.87      2841\n",
      "   macro avg       0.87      0.87      0.87      2841\n",
      "weighted avg       0.87      0.87      0.87      2841\n",
      "\n"
     ]
    },
    {
     "data": {
      "image/png": "[encoded data removed]",
      "text/plain": [
       "<Figure size 432x288 with 2 Axes>"
      ]
     },
     "metadata": {
      "needs_background": "light"
     },
     "output_type": "display_data"
    }
   ],
   "source": [
    "Model.confusionMatrix(y_test, prediction_1['output_class'])"
   ]
  },
  {
   "cell_type": "markdown",
   "id": "e1070ee7-e096-4709-8598-b42404a2531a",
   "metadata": {},
   "source": [
    "> **Nhận xét**:\n",
    "> * Ta có thể thấy rõ ràng rằng dù độ chính xác của model LSTM khá cao hơn 85%, với việc để các hyper-params cho TensorFlow tự quyết thì model có khả năng dự đoán cân bằng trên cả hai class là negative và postive, ta không cần phải kiểm tra lại bằng ROC-AUC."
   ]
  },
  {
   "cell_type": "markdown",
   "id": "2693fe9d-d659-4401-95d4-0c91424f0ba2",
   "metadata": {},
   "source": [
    "Do ta có áp dụng checkpoint trong model để lưu lại các bộ tham số tốt nhất trong quá trình training, ta có thể lấy bộ tham số mà có validation loss thấp nhất để update trọng số cho model."
   ]
  },
  {
   "cell_type": "code",
   "execution_count": 22,
   "id": "fe8f3cc4-9ad0-4f9c-a159-c05eecef6bf9",
   "metadata": {
    "tags": []
   },
   "outputs": [],
   "source": [
    "model_uw_1 = DeepModel.SentimentLSTM()\n",
    "model_uw_1.define(**hyperparameters_1)\n",
    "model_uw_1.model.load_weights(\"./models/lstm_model_comments_1/weights/04-0.313169.h5\")"
   ]
  },
  {
   "cell_type": "code",
   "execution_count": 23,
   "id": "dc012cf0-371e-4d5a-9580-45a441ddab54",
   "metadata": {
    "tags": []
   },
   "outputs": [
    {
     "name": "stdout",
     "output_type": "stream",
     "text": [
      "89/89 [==============================] - 1s 8ms/step\n"
     ]
    },
    {
     "data": {
      "text/html": [
       "<div>\n",
       "<style scoped>\n",
       "    .dataframe tbody tr th:only-of-type {\n",
       "        vertical-align: middle;\n",
       "    }\n",
       "\n",
       "    .dataframe tbody tr th {\n",
       "        vertical-align: top;\n",
       "    }\n",
       "\n",
       "    .dataframe thead th {\n",
       "        text-align: right;\n",
       "    }\n",
       "</style>\n",
       "<table border=\"1\" class=\"dataframe\">\n",
       "  <thead>\n",
       "    <tr style=\"text-align: right;\">\n",
       "      <th></th>\n",
       "      <th>input</th>\n",
       "      <th>output_proba</th>\n",
       "      <th>output_class</th>\n",
       "    </tr>\n",
       "  </thead>\n",
       "  <tbody>\n",
       "    <tr>\n",
       "      <th>0</th>\n",
       "      <td>đẹp nhẹ đường may nhiều đầu chỉ các...</td>\n",
       "      <td>(0.8266383, 0.17336166)</td>\n",
       "      <td>0</td>\n",
       "    </tr>\n",
       "    <tr>\n",
       "      <th>1</th>\n",
       "      <td>giao hàng nhanh đóng gói sản phẩm cẩn ...</td>\n",
       "      <td>(0.0016991477, 0.99830085)</td>\n",
       "      <td>1</td>\n",
       "    </tr>\n",
       "    <tr>\n",
       "      <th>2</th>\n",
       "      <td>quần đẹp lắm thân thiện nhiều o</td>\n",
       "      <td>(0.0030696124, 0.9969304)</td>\n",
       "      <td>1</td>\n",
       "    </tr>\n",
       "    <tr>\n",
       "      <th>3</th>\n",
       "      <td>ui xinh lắm luôn ship nhanh nưa</td>\n",
       "      <td>(0.00012920643, 0.9998708)</td>\n",
       "      <td>1</td>\n",
       "    </tr>\n",
       "    <tr>\n",
       "      <th>4</th>\n",
       "      <td>chất lượng tốt giao hàng nhanh nhân v...</td>\n",
       "      <td>(0.00032223584, 0.9996778)</td>\n",
       "      <td>1</td>\n",
       "    </tr>\n",
       "    <tr>\n",
       "      <th>...</th>\n",
       "      <td>...</td>\n",
       "      <td>...</td>\n",
       "      <td>...</td>\n",
       "    </tr>\n",
       "    <tr>\n",
       "      <th>2836</th>\n",
       "      <td>chất hơi mềm quá nói chuyện vẫn đư...</td>\n",
       "      <td>(0.061082214, 0.9389178)</td>\n",
       "      <td>1</td>\n",
       "    </tr>\n",
       "    <tr>\n",
       "      <th>2837</th>\n",
       "      <td>nhìn hình tưởng quần dày có thể mạ...</td>\n",
       "      <td>(0.99116737, 0.008832699)</td>\n",
       "      <td>0</td>\n",
       "    </tr>\n",
       "    <tr>\n",
       "      <th>2838</th>\n",
       "      <td>sản phẩm lủng rách nhiều chổ mua cái...</td>\n",
       "      <td>(0.99951494, 0.00048503513)</td>\n",
       "      <td>0</td>\n",
       "    </tr>\n",
       "    <tr>\n",
       "      <th>2839</th>\n",
       "      <td>cay vừa mua không hôm sau giảm không</td>\n",
       "      <td>(0.9998167, 0.00018328373)</td>\n",
       "      <td>0</td>\n",
       "    </tr>\n",
       "    <tr>\n",
       "      <th>2840</th>\n",
       "      <td>hàng bình thường giá không</td>\n",
       "      <td>(0.99723583, 0.0027642488)</td>\n",
       "      <td>0</td>\n",
       "    </tr>\n",
       "  </tbody>\n",
       "</table>\n",
       "<p>2841 rows × 3 columns</p>\n",
       "</div>"
      ],
      "text/plain": [
       "                                                  input  \\\n",
       "0     đẹp nhẹ đường may nhiều đầu chỉ các...   \n",
       "1     giao hàng nhanh đóng gói sản phẩm cẩn ...   \n",
       "2             quần đẹp lắm thân thiện nhiều o   \n",
       "3                   ui xinh lắm luôn ship nhanh nưa   \n",
       "4     chất lượng tốt giao hàng nhanh nhân v...   \n",
       "...                                                 ...   \n",
       "2836  chất hơi mềm quá nói chuyện vẫn đư...   \n",
       "2837  nhìn hình tưởng quần dày có thể mạ...   \n",
       "2838  sản phẩm lủng rách nhiều chổ mua cái...   \n",
       "2839         cay vừa mua không hôm sau giảm không   \n",
       "2840                  hàng bình thường giá không   \n",
       "\n",
       "                     output_proba  output_class  \n",
       "0         (0.8266383, 0.17336166)             0  \n",
       "1      (0.0016991477, 0.99830085)             1  \n",
       "2       (0.0030696124, 0.9969304)             1  \n",
       "3      (0.00012920643, 0.9998708)             1  \n",
       "4      (0.00032223584, 0.9996778)             1  \n",
       "...                           ...           ...  \n",
       "2836     (0.061082214, 0.9389178)             1  \n",
       "2837    (0.99116737, 0.008832699)             0  \n",
       "2838  (0.99951494, 0.00048503513)             0  \n",
       "2839   (0.9998167, 0.00018328373)             0  \n",
       "2840   (0.99723583, 0.0027642488)             0  \n",
       "\n",
       "[2841 rows x 3 columns]"
      ]
     },
     "execution_count": 23,
     "metadata": {},
     "output_type": "execute_result"
    }
   ],
   "source": [
    "prediction_uw_1 = model_uw_1.predict(X_test['normalize_comment'])\n",
    "prediction_uw_1"
   ]
  },
  {
   "cell_type": "code",
   "execution_count": 24,
   "id": "abaf9d7b-89cc-441e-93bb-942964163c08",
   "metadata": {
    "tags": []
   },
   "outputs": [
    {
     "name": "stdout",
     "output_type": "stream",
     "text": [
      "              precision    recall  f1-score   support\n",
      "\n",
      "    Negative       0.87      0.89      0.88      1438\n",
      "    Positive       0.89      0.87      0.88      1403\n",
      "\n",
      "    accuracy                           0.88      2841\n",
      "   macro avg       0.88      0.88      0.88      2841\n",
      "weighted avg       0.88      0.88      0.88      2841\n",
      "\n"
     ]
    },
    {
     "data": {
      "image/png": "[encoded data removed]",
      "text/plain": [
       "<Figure size 432x288 with 2 Axes>"
      ]
     },
     "metadata": {
      "needs_background": "light"
     },
     "output_type": "display_data"
    }
   ],
   "source": [
    "Model.confusionMatrix(y_test, prediction_uw_1['output_class'])"
   ]
  },
  {
   "cell_type": "markdown",
   "id": "7d9089e4-8856-43e6-98c1-f3a1cdce13fc",
   "metadata": {},
   "source": [
    "> **Nhận xét**:\n",
    "> * Ta thấy rằng nếu nhìn vào các chỉ số như **precision**, **recall** và **F1-score** thì model được update bởi weight ở tại epoch thứ hai này hoạt động cho hiệu suất thậm chí tốt hơn một ít dù chỉ mới trải qua 2 epoch."
   ]
  },
  {
   "cell_type": "markdown",
   "id": "5442d393-734c-41a5-b19a-202fcefe7327",
   "metadata": {},
   "source": [
    "Ta sẽ đào tạo một model thứ hai với các hyper-params là `num_word` và `maxlen` lần lượt là 3000 và 100, ở project hai ta đã tính được toàn bộ data của ta có khoảng loanh quanh 3000 từ và các comment hay có độ dài là 100 và sử dụng 15 neuron ở LSTM layer.\n",
    "\n",
    "Ta sẽ định nghĩa model sau đó cho training, dự đoán và đánh giá."
   ]
  },
  {
   "cell_type": "code",
   "execution_count": 29,
   "id": "44aa21ec-e1bd-42bf-9a72-910664a0dbf1",
   "metadata": {
    "tags": []
   },
   "outputs": [
    {
     "name": "stdout",
     "output_type": "stream",
     "text": [
      "Model: \"sequential_6\"\n",
      "_________________________________________________________________\n",
      " Layer (type)                Output Shape              Param #   \n",
      "=================================================================\n",
      " embedding (Embedding)       (None, 70, 70)            249830    \n",
      "                                                                 \n",
      " lstm (LSTM)                 (None, 15)                5160      \n",
      "                                                                 \n",
      " output (Dense)              (None, 2)                 32        \n",
      "                                                                 \n",
      "=================================================================\n",
      "Total params: 255,022\n",
      "Trainable params: 255,022\n",
      "Non-trainable params: 0\n",
      "_________________________________________________________________\n"
     ]
    },
    {
     "data": {
      "image/png": "[encoded data removed]",
      "text/plain": [
       "<IPython.core.display.Image object>"
      ]
     },
     "execution_count": 29,
     "metadata": {},
     "output_type": "execute_result"
    }
   ],
   "source": [
    "hyperparameters_2 = {\n",
    "    'pX': X_train['normalize_comment'], \n",
    "    'py': y_train, \n",
    "    'pnum_words': 3000, \n",
    "    'pseq_length': 70,\n",
    "    'pno_units': 15, \n",
    "    'pdropout': 0.3, \n",
    "    'pbatch_size': 32, \n",
    "    'pepochs': 10, \n",
    "    'psave_weights': './models/lstm_model_comments_2.h5'\n",
    "}\n",
    "\n",
    "model_2 = DeepModel.SentimentLSTM()\n",
    "model_2.define(**hyperparameters_2)\n",
    "model_2.model.summary()\n",
    "plot_model(model_2.model, to_file='./images/lstm_model_comments_2.png', \n",
    "           show_shapes=True, show_layer_names=True)"
   ]
  },
  {
   "cell_type": "code",
   "execution_count": 30,
   "id": "73a9a285-5f24-42ed-bc43-716e25bb2eaf",
   "metadata": {
    "scrolled": true,
    "tags": []
   },
   "outputs": [
    {
     "name": "stdout",
     "output_type": "stream",
     "text": [
      "Epoch 1/10\n",
      "320/320 [==============================] - 28s 78ms/step - loss: 0.4364 - accuracy: 0.8161 - val_loss: 0.3288 - val_accuracy: 0.8760\n",
      "Epoch 2/10\n",
      "  1/320 [..............................] - ETA: 37s - loss: 0.3544 - accuracy: 0.8750"
     ]
    },
    {
     "ename": "KeyboardInterrupt",
     "evalue": "",
     "output_type": "error",
     "traceback": [
      "\u001b[0;31m---------------------------------------------------------------------------\u001b[0m",
      "\u001b[0;31mKeyboardInterrupt\u001b[0m                         Traceback (most recent call last)",
      "\u001b[0;32m<ipython-input-30-b585c69e896f>\u001b[0m in \u001b[0;36m<module>\u001b[0;34m\u001b[0m\n\u001b[0;32m----> 1\u001b[0;31m \u001b[0mmodel_2\u001b[0m\u001b[0;34m.\u001b[0m\u001b[0mfit\u001b[0m\u001b[0;34m(\u001b[0m\u001b[0;34m**\u001b[0m\u001b[0mhyperparameters_2\u001b[0m\u001b[0;34m)\u001b[0m\u001b[0;34m\u001b[0m\u001b[0;34m\u001b[0m\u001b[0m\n\u001b[0m",
      "\u001b[0;32m~/Library/Containers/com.apple.Preview/Data/Documents/Documents/HCMUS/MS HCMUS/HK2/PTDLTM/GITHUB/MS_Intelligent-Data-Analysis-main/modules/deep_model.py\u001b[0m in \u001b[0;36mfit\u001b[0;34m(self, pbatch_size, pepochs, psave_weights, **kwargs)\u001b[0m\n\u001b[1;32m     64\u001b[0m \u001b[0;34m\u001b[0m\u001b[0m\n\u001b[1;32m     65\u001b[0m     \u001b[0;32mdef\u001b[0m \u001b[0mfit\u001b[0m\u001b[0;34m(\u001b[0m\u001b[0mself\u001b[0m\u001b[0;34m,\u001b[0m \u001b[0mpbatch_size\u001b[0m\u001b[0;34m:\u001b[0m\u001b[0mint\u001b[0m\u001b[0;34m=\u001b[0m\u001b[0;36m32\u001b[0m\u001b[0;34m,\u001b[0m \u001b[0mpepochs\u001b[0m\u001b[0;34m:\u001b[0m\u001b[0mint\u001b[0m\u001b[0;34m=\u001b[0m\u001b[0;36m10\u001b[0m\u001b[0;34m,\u001b[0m \u001b[0mpsave_weights\u001b[0m\u001b[0;34m:\u001b[0m\u001b[0mstr\u001b[0m\u001b[0;34m=\u001b[0m\u001b[0;32mNone\u001b[0m\u001b[0;34m,\u001b[0m \u001b[0;34m**\u001b[0m\u001b[0mkwargs\u001b[0m\u001b[0;34m)\u001b[0m\u001b[0;34m:\u001b[0m\u001b[0;34m\u001b[0m\u001b[0;34m\u001b[0m\u001b[0m\n\u001b[0;32m---> 66\u001b[0;31m         self.model.fit(self.X, self.y, batch_size=pbatch_size, epochs=pepochs,\n\u001b[0m\u001b[1;32m     67\u001b[0m                        validation_split=0.1, callbacks=self._callback(psave_weights[:-3]))\n\u001b[1;32m     68\u001b[0m \u001b[0;34m\u001b[0m\u001b[0m\n",
      "\u001b[0;32m/opt/anaconda3/lib/python3.8/site-packages/keras/utils/traceback_utils.py\u001b[0m in \u001b[0;36merror_handler\u001b[0;34m(*args, **kwargs)\u001b[0m\n\u001b[1;32m     62\u001b[0m     \u001b[0mfiltered_tb\u001b[0m \u001b[0;34m=\u001b[0m \u001b[0;32mNone\u001b[0m\u001b[0;34m\u001b[0m\u001b[0;34m\u001b[0m\u001b[0m\n\u001b[1;32m     63\u001b[0m     \u001b[0;32mtry\u001b[0m\u001b[0;34m:\u001b[0m\u001b[0;34m\u001b[0m\u001b[0;34m\u001b[0m\u001b[0m\n\u001b[0;32m---> 64\u001b[0;31m       \u001b[0;32mreturn\u001b[0m \u001b[0mfn\u001b[0m\u001b[0;34m(\u001b[0m\u001b[0;34m*\u001b[0m\u001b[0margs\u001b[0m\u001b[0;34m,\u001b[0m \u001b[0;34m**\u001b[0m\u001b[0mkwargs\u001b[0m\u001b[0;34m)\u001b[0m\u001b[0;34m\u001b[0m\u001b[0;34m\u001b[0m\u001b[0m\n\u001b[0m\u001b[1;32m     65\u001b[0m     \u001b[0;32mexcept\u001b[0m \u001b[0mException\u001b[0m \u001b[0;32mas\u001b[0m \u001b[0me\u001b[0m\u001b[0;34m:\u001b[0m  \u001b[0;31m# pylint: disable=broad-except\u001b[0m\u001b[0;34m\u001b[0m\u001b[0;34m\u001b[0m\u001b[0m\n\u001b[1;32m     66\u001b[0m       \u001b[0mfiltered_tb\u001b[0m \u001b[0;34m=\u001b[0m \u001b[0m_process_traceback_frames\u001b[0m\u001b[0;34m(\u001b[0m\u001b[0me\u001b[0m\u001b[0;34m.\u001b[0m\u001b[0m__traceback__\u001b[0m\u001b[0;34m)\u001b[0m\u001b[0;34m\u001b[0m\u001b[0;34m\u001b[0m\u001b[0m\n",
      "\u001b[0;32m/opt/anaconda3/lib/python3.8/site-packages/keras/engine/training.py\u001b[0m in \u001b[0;36mfit\u001b[0;34m(self, x, y, batch_size, epochs, verbose, callbacks, validation_split, validation_data, shuffle, class_weight, sample_weight, initial_epoch, steps_per_epoch, validation_steps, validation_batch_size, validation_freq, max_queue_size, workers, use_multiprocessing)\u001b[0m\n\u001b[1;32m   1407\u001b[0m                 _r=1):\n\u001b[1;32m   1408\u001b[0m               \u001b[0mcallbacks\u001b[0m\u001b[0;34m.\u001b[0m\u001b[0mon_train_batch_begin\u001b[0m\u001b[0;34m(\u001b[0m\u001b[0mstep\u001b[0m\u001b[0;34m)\u001b[0m\u001b[0;34m\u001b[0m\u001b[0;34m\u001b[0m\u001b[0m\n\u001b[0;32m-> 1409\u001b[0;31m               \u001b[0mtmp_logs\u001b[0m \u001b[0;34m=\u001b[0m \u001b[0mself\u001b[0m\u001b[0;34m.\u001b[0m\u001b[0mtrain_function\u001b[0m\u001b[0;34m(\u001b[0m\u001b[0miterator\u001b[0m\u001b[0;34m)\u001b[0m\u001b[0;34m\u001b[0m\u001b[0;34m\u001b[0m\u001b[0m\n\u001b[0m\u001b[1;32m   1410\u001b[0m               \u001b[0;32mif\u001b[0m \u001b[0mdata_handler\u001b[0m\u001b[0;34m.\u001b[0m\u001b[0mshould_sync\u001b[0m\u001b[0;34m:\u001b[0m\u001b[0;34m\u001b[0m\u001b[0;34m\u001b[0m\u001b[0m\n\u001b[1;32m   1411\u001b[0m                 \u001b[0mcontext\u001b[0m\u001b[0;34m.\u001b[0m\u001b[0masync_wait\u001b[0m\u001b[0;34m(\u001b[0m\u001b[0;34m)\u001b[0m\u001b[0;34m\u001b[0m\u001b[0;34m\u001b[0m\u001b[0m\n",
      "\u001b[0;32m/opt/anaconda3/lib/python3.8/site-packages/tensorflow/python/util/traceback_utils.py\u001b[0m in \u001b[0;36merror_handler\u001b[0;34m(*args, **kwargs)\u001b[0m\n\u001b[1;32m    148\u001b[0m     \u001b[0mfiltered_tb\u001b[0m \u001b[0;34m=\u001b[0m \u001b[0;32mNone\u001b[0m\u001b[0;34m\u001b[0m\u001b[0;34m\u001b[0m\u001b[0m\n\u001b[1;32m    149\u001b[0m     \u001b[0;32mtry\u001b[0m\u001b[0;34m:\u001b[0m\u001b[0;34m\u001b[0m\u001b[0;34m\u001b[0m\u001b[0m\n\u001b[0;32m--> 150\u001b[0;31m       \u001b[0;32mreturn\u001b[0m \u001b[0mfn\u001b[0m\u001b[0;34m(\u001b[0m\u001b[0;34m*\u001b[0m\u001b[0margs\u001b[0m\u001b[0;34m,\u001b[0m \u001b[0;34m**\u001b[0m\u001b[0mkwargs\u001b[0m\u001b[0;34m)\u001b[0m\u001b[0;34m\u001b[0m\u001b[0;34m\u001b[0m\u001b[0m\n\u001b[0m\u001b[1;32m    151\u001b[0m     \u001b[0;32mexcept\u001b[0m \u001b[0mException\u001b[0m \u001b[0;32mas\u001b[0m \u001b[0me\u001b[0m\u001b[0;34m:\u001b[0m\u001b[0;34m\u001b[0m\u001b[0;34m\u001b[0m\u001b[0m\n\u001b[1;32m    152\u001b[0m       \u001b[0mfiltered_tb\u001b[0m \u001b[0;34m=\u001b[0m \u001b[0m_process_traceback_frames\u001b[0m\u001b[0;34m(\u001b[0m\u001b[0me\u001b[0m\u001b[0;34m.\u001b[0m\u001b[0m__traceback__\u001b[0m\u001b[0;34m)\u001b[0m\u001b[0;34m\u001b[0m\u001b[0;34m\u001b[0m\u001b[0m\n",
      "\u001b[0;32m/opt/anaconda3/lib/python3.8/site-packages/tensorflow/python/eager/def_function.py\u001b[0m in \u001b[0;36m__call__\u001b[0;34m(self, *args, **kwds)\u001b[0m\n\u001b[1;32m    913\u001b[0m \u001b[0;34m\u001b[0m\u001b[0m\n\u001b[1;32m    914\u001b[0m       \u001b[0;32mwith\u001b[0m \u001b[0mOptionalXlaContext\u001b[0m\u001b[0;34m(\u001b[0m\u001b[0mself\u001b[0m\u001b[0;34m.\u001b[0m\u001b[0m_jit_compile\u001b[0m\u001b[0;34m)\u001b[0m\u001b[0;34m:\u001b[0m\u001b[0;34m\u001b[0m\u001b[0;34m\u001b[0m\u001b[0m\n\u001b[0;32m--> 915\u001b[0;31m         \u001b[0mresult\u001b[0m \u001b[0;34m=\u001b[0m \u001b[0mself\u001b[0m\u001b[0;34m.\u001b[0m\u001b[0m_call\u001b[0m\u001b[0;34m(\u001b[0m\u001b[0;34m*\u001b[0m\u001b[0margs\u001b[0m\u001b[0;34m,\u001b[0m \u001b[0;34m**\u001b[0m\u001b[0mkwds\u001b[0m\u001b[0;34m)\u001b[0m\u001b[0;34m\u001b[0m\u001b[0;34m\u001b[0m\u001b[0m\n\u001b[0m\u001b[1;32m    916\u001b[0m \u001b[0;34m\u001b[0m\u001b[0m\n\u001b[1;32m    917\u001b[0m       \u001b[0mnew_tracing_count\u001b[0m \u001b[0;34m=\u001b[0m \u001b[0mself\u001b[0m\u001b[0;34m.\u001b[0m\u001b[0mexperimental_get_tracing_count\u001b[0m\u001b[0;34m(\u001b[0m\u001b[0;34m)\u001b[0m\u001b[0;34m\u001b[0m\u001b[0;34m\u001b[0m\u001b[0m\n",
      "\u001b[0;32m/opt/anaconda3/lib/python3.8/site-packages/tensorflow/python/eager/def_function.py\u001b[0m in \u001b[0;36m_call\u001b[0;34m(self, *args, **kwds)\u001b[0m\n\u001b[1;32m    945\u001b[0m       \u001b[0;31m# In this case we have created variables on the first call, so we run the\u001b[0m\u001b[0;34m\u001b[0m\u001b[0;34m\u001b[0m\u001b[0;34m\u001b[0m\u001b[0m\n\u001b[1;32m    946\u001b[0m       \u001b[0;31m# defunned version which is guaranteed to never create variables.\u001b[0m\u001b[0;34m\u001b[0m\u001b[0;34m\u001b[0m\u001b[0;34m\u001b[0m\u001b[0m\n\u001b[0;32m--> 947\u001b[0;31m       \u001b[0;32mreturn\u001b[0m \u001b[0mself\u001b[0m\u001b[0;34m.\u001b[0m\u001b[0m_stateless_fn\u001b[0m\u001b[0;34m(\u001b[0m\u001b[0;34m*\u001b[0m\u001b[0margs\u001b[0m\u001b[0;34m,\u001b[0m \u001b[0;34m**\u001b[0m\u001b[0mkwds\u001b[0m\u001b[0;34m)\u001b[0m  \u001b[0;31m# pylint: disable=not-callable\u001b[0m\u001b[0;34m\u001b[0m\u001b[0;34m\u001b[0m\u001b[0m\n\u001b[0m\u001b[1;32m    948\u001b[0m     \u001b[0;32melif\u001b[0m \u001b[0mself\u001b[0m\u001b[0;34m.\u001b[0m\u001b[0m_stateful_fn\u001b[0m \u001b[0;32mis\u001b[0m \u001b[0;32mnot\u001b[0m \u001b[0;32mNone\u001b[0m\u001b[0;34m:\u001b[0m\u001b[0;34m\u001b[0m\u001b[0;34m\u001b[0m\u001b[0m\n\u001b[1;32m    949\u001b[0m       \u001b[0;31m# Release the lock early so that multiple threads can perform the call\u001b[0m\u001b[0;34m\u001b[0m\u001b[0;34m\u001b[0m\u001b[0;34m\u001b[0m\u001b[0m\n",
      "\u001b[0;32m/opt/anaconda3/lib/python3.8/site-packages/tensorflow/python/eager/function.py\u001b[0m in \u001b[0;36m__call__\u001b[0;34m(self, *args, **kwargs)\u001b[0m\n\u001b[1;32m   2451\u001b[0m       (graph_function,\n\u001b[1;32m   2452\u001b[0m        filtered_flat_args) = self._maybe_define_function(args, kwargs)\n\u001b[0;32m-> 2453\u001b[0;31m     return graph_function._call_flat(\n\u001b[0m\u001b[1;32m   2454\u001b[0m         filtered_flat_args, captured_inputs=graph_function.captured_inputs)  # pylint: disable=protected-access\n\u001b[1;32m   2455\u001b[0m \u001b[0;34m\u001b[0m\u001b[0m\n",
      "\u001b[0;32m/opt/anaconda3/lib/python3.8/site-packages/tensorflow/python/eager/function.py\u001b[0m in \u001b[0;36m_call_flat\u001b[0;34m(self, args, captured_inputs, cancellation_manager)\u001b[0m\n\u001b[1;32m   1858\u001b[0m         and executing_eagerly):\n\u001b[1;32m   1859\u001b[0m       \u001b[0;31m# No tape is watching; skip to running the function.\u001b[0m\u001b[0;34m\u001b[0m\u001b[0;34m\u001b[0m\u001b[0;34m\u001b[0m\u001b[0m\n\u001b[0;32m-> 1860\u001b[0;31m       return self._build_call_outputs(self._inference_function.call(\n\u001b[0m\u001b[1;32m   1861\u001b[0m           ctx, args, cancellation_manager=cancellation_manager))\n\u001b[1;32m   1862\u001b[0m     forward_backward = self._select_forward_and_backward_functions(\n",
      "\u001b[0;32m/opt/anaconda3/lib/python3.8/site-packages/tensorflow/python/eager/function.py\u001b[0m in \u001b[0;36mcall\u001b[0;34m(self, ctx, args, cancellation_manager)\u001b[0m\n\u001b[1;32m    495\u001b[0m       \u001b[0;32mwith\u001b[0m \u001b[0m_InterpolateFunctionError\u001b[0m\u001b[0;34m(\u001b[0m\u001b[0mself\u001b[0m\u001b[0;34m)\u001b[0m\u001b[0;34m:\u001b[0m\u001b[0;34m\u001b[0m\u001b[0;34m\u001b[0m\u001b[0m\n\u001b[1;32m    496\u001b[0m         \u001b[0;32mif\u001b[0m \u001b[0mcancellation_manager\u001b[0m \u001b[0;32mis\u001b[0m \u001b[0;32mNone\u001b[0m\u001b[0;34m:\u001b[0m\u001b[0;34m\u001b[0m\u001b[0;34m\u001b[0m\u001b[0m\n\u001b[0;32m--> 497\u001b[0;31m           outputs = execute.execute(\n\u001b[0m\u001b[1;32m    498\u001b[0m               \u001b[0mstr\u001b[0m\u001b[0;34m(\u001b[0m\u001b[0mself\u001b[0m\u001b[0;34m.\u001b[0m\u001b[0msignature\u001b[0m\u001b[0;34m.\u001b[0m\u001b[0mname\u001b[0m\u001b[0;34m)\u001b[0m\u001b[0;34m,\u001b[0m\u001b[0;34m\u001b[0m\u001b[0;34m\u001b[0m\u001b[0m\n\u001b[1;32m    499\u001b[0m               \u001b[0mnum_outputs\u001b[0m\u001b[0;34m=\u001b[0m\u001b[0mself\u001b[0m\u001b[0;34m.\u001b[0m\u001b[0m_num_outputs\u001b[0m\u001b[0;34m,\u001b[0m\u001b[0;34m\u001b[0m\u001b[0;34m\u001b[0m\u001b[0m\n",
      "\u001b[0;32m/opt/anaconda3/lib/python3.8/site-packages/tensorflow/python/eager/execute.py\u001b[0m in \u001b[0;36mquick_execute\u001b[0;34m(op_name, num_outputs, inputs, attrs, ctx, name)\u001b[0m\n\u001b[1;32m     52\u001b[0m   \u001b[0;32mtry\u001b[0m\u001b[0;34m:\u001b[0m\u001b[0;34m\u001b[0m\u001b[0;34m\u001b[0m\u001b[0m\n\u001b[1;32m     53\u001b[0m     \u001b[0mctx\u001b[0m\u001b[0;34m.\u001b[0m\u001b[0mensure_initialized\u001b[0m\u001b[0;34m(\u001b[0m\u001b[0;34m)\u001b[0m\u001b[0;34m\u001b[0m\u001b[0;34m\u001b[0m\u001b[0m\n\u001b[0;32m---> 54\u001b[0;31m     tensors = pywrap_tfe.TFE_Py_Execute(ctx._handle, device_name, op_name,\n\u001b[0m\u001b[1;32m     55\u001b[0m                                         inputs, attrs, num_outputs)\n\u001b[1;32m     56\u001b[0m   \u001b[0;32mexcept\u001b[0m \u001b[0mcore\u001b[0m\u001b[0;34m.\u001b[0m\u001b[0m_NotOkStatusException\u001b[0m \u001b[0;32mas\u001b[0m \u001b[0me\u001b[0m\u001b[0;34m:\u001b[0m\u001b[0;34m\u001b[0m\u001b[0;34m\u001b[0m\u001b[0m\n",
      "\u001b[0;31mKeyboardInterrupt\u001b[0m: "
     ]
    }
   ],
   "source": [
    "model_2.fit(**hyperparameters_2)"
   ]
  },
  {
   "cell_type": "code",
   "execution_count": 27,
   "id": "04f1a668-c1ce-4185-bcbf-b603c11d54f8",
   "metadata": {
    "tags": []
   },
   "outputs": [
    {
     "name": "stdout",
     "output_type": "stream",
     "text": [
      "\n",
      "NOTE: Using experimental fast data loading logic. To disable, pass\n",
      "    \"--load_fast=false\" and report issues on GitHub. More details:\n",
      "    https://github.com/tensorflow/tensorboard/issues/4784\n",
      "\n",
      "Serving TensorBoard on localhost; to expose to the network, use a proxy or pass --bind_all\n",
      "TensorBoard 2.9.1 at http://localhost:6006/ (Press CTRL+C to quit)\n",
      "^C\n"
     ]
    }
   ],
   "source": [
    "!tensorboard --logdir ./tb_log_sentiment --port 6006"
   ]
  },
  {
   "cell_type": "code",
   "execution_count": 28,
   "id": "516dd445-30f3-4ff4-b35b-524a63369bf3",
   "metadata": {
    "tags": []
   },
   "outputs": [
    {
     "name": "stdout",
     "output_type": "stream",
     "text": [
      "89/89 [==============================] - 1s 7ms/step\n"
     ]
    },
    {
     "data": {
      "text/html": [
       "<div>\n",
       "<style scoped>\n",
       "    .dataframe tbody tr th:only-of-type {\n",
       "        vertical-align: middle;\n",
       "    }\n",
       "\n",
       "    .dataframe tbody tr th {\n",
       "        vertical-align: top;\n",
       "    }\n",
       "\n",
       "    .dataframe thead th {\n",
       "        text-align: right;\n",
       "    }\n",
       "</style>\n",
       "<table border=\"1\" class=\"dataframe\">\n",
       "  <thead>\n",
       "    <tr style=\"text-align: right;\">\n",
       "      <th></th>\n",
       "      <th>input</th>\n",
       "      <th>output_proba</th>\n",
       "      <th>output_class</th>\n",
       "    </tr>\n",
       "  </thead>\n",
       "  <tbody>\n",
       "    <tr>\n",
       "      <th>0</th>\n",
       "      <td>đẹp nhẹ đường may nhiều đầu chỉ các...</td>\n",
       "      <td>(0.53363544, 0.46636462)</td>\n",
       "      <td>0</td>\n",
       "    </tr>\n",
       "    <tr>\n",
       "      <th>1</th>\n",
       "      <td>giao hàng nhanh đóng gói sản phẩm cẩn ...</td>\n",
       "      <td>(0.00031957173, 0.9996804)</td>\n",
       "      <td>1</td>\n",
       "    </tr>\n",
       "    <tr>\n",
       "      <th>2</th>\n",
       "      <td>quần đẹp lắm thân thiện nhiều o</td>\n",
       "      <td>(0.005640654, 0.9943593)</td>\n",
       "      <td>1</td>\n",
       "    </tr>\n",
       "    <tr>\n",
       "      <th>3</th>\n",
       "      <td>ui xinh lắm luôn ship nhanh nưa</td>\n",
       "      <td>(1.5681956e-06, 0.99999845)</td>\n",
       "      <td>1</td>\n",
       "    </tr>\n",
       "    <tr>\n",
       "      <th>4</th>\n",
       "      <td>chất lượng tốt giao hàng nhanh nhân v...</td>\n",
       "      <td>(6.1814666e-05, 0.99993813)</td>\n",
       "      <td>1</td>\n",
       "    </tr>\n",
       "    <tr>\n",
       "      <th>...</th>\n",
       "      <td>...</td>\n",
       "      <td>...</td>\n",
       "      <td>...</td>\n",
       "    </tr>\n",
       "    <tr>\n",
       "      <th>2836</th>\n",
       "      <td>chất hơi mềm quá nói chuyện vẫn đư...</td>\n",
       "      <td>(0.06391417, 0.9360859)</td>\n",
       "      <td>1</td>\n",
       "    </tr>\n",
       "    <tr>\n",
       "      <th>2837</th>\n",
       "      <td>nhìn hình tưởng quần dày có thể mạ...</td>\n",
       "      <td>(0.9986689, 0.0013311356)</td>\n",
       "      <td>0</td>\n",
       "    </tr>\n",
       "    <tr>\n",
       "      <th>2838</th>\n",
       "      <td>sản phẩm lủng rách nhiều chổ mua cái...</td>\n",
       "      <td>(0.9999634, 3.6623438e-05)</td>\n",
       "      <td>0</td>\n",
       "    </tr>\n",
       "    <tr>\n",
       "      <th>2839</th>\n",
       "      <td>cay vừa mua không hôm sau giảm không</td>\n",
       "      <td>(0.9999337, 6.633482e-05)</td>\n",
       "      <td>0</td>\n",
       "    </tr>\n",
       "    <tr>\n",
       "      <th>2840</th>\n",
       "      <td>hàng bình thường giá không</td>\n",
       "      <td>(0.99709976, 0.00290032)</td>\n",
       "      <td>0</td>\n",
       "    </tr>\n",
       "  </tbody>\n",
       "</table>\n",
       "<p>2841 rows × 3 columns</p>\n",
       "</div>"
      ],
      "text/plain": [
       "                                                  input  \\\n",
       "0     đẹp nhẹ đường may nhiều đầu chỉ các...   \n",
       "1     giao hàng nhanh đóng gói sản phẩm cẩn ...   \n",
       "2             quần đẹp lắm thân thiện nhiều o   \n",
       "3                   ui xinh lắm luôn ship nhanh nưa   \n",
       "4     chất lượng tốt giao hàng nhanh nhân v...   \n",
       "...                                                 ...   \n",
       "2836  chất hơi mềm quá nói chuyện vẫn đư...   \n",
       "2837  nhìn hình tưởng quần dày có thể mạ...   \n",
       "2838  sản phẩm lủng rách nhiều chổ mua cái...   \n",
       "2839         cay vừa mua không hôm sau giảm không   \n",
       "2840                  hàng bình thường giá không   \n",
       "\n",
       "                     output_proba  output_class  \n",
       "0        (0.53363544, 0.46636462)             0  \n",
       "1      (0.00031957173, 0.9996804)             1  \n",
       "2        (0.005640654, 0.9943593)             1  \n",
       "3     (1.5681956e-06, 0.99999845)             1  \n",
       "4     (6.1814666e-05, 0.99993813)             1  \n",
       "...                           ...           ...  \n",
       "2836      (0.06391417, 0.9360859)             1  \n",
       "2837    (0.9986689, 0.0013311356)             0  \n",
       "2838   (0.9999634, 3.6623438e-05)             0  \n",
       "2839    (0.9999337, 6.633482e-05)             0  \n",
       "2840     (0.99709976, 0.00290032)             0  \n",
       "\n",
       "[2841 rows x 3 columns]"
      ]
     },
     "execution_count": 28,
     "metadata": {},
     "output_type": "execute_result"
    }
   ],
   "source": [
    "prediction_2 = model_2.predict(X_test['normalize_comment'])\n",
    "prediction_2"
   ]
  },
  {
   "cell_type": "code",
   "execution_count": 16,
   "id": "bc53cd5b-26d1-470d-8060-cba2040d8a38",
   "metadata": {
    "tags": []
   },
   "outputs": [
    {
     "name": "stdout",
     "output_type": "stream",
     "text": [
      "              precision    recall  f1-score   support\n",
      "\n",
      "    Negative       0.87      0.88      0.88      1438\n",
      "    Positive       0.88      0.86      0.87      1403\n",
      "\n",
      "    accuracy                           0.87      2841\n",
      "   macro avg       0.87      0.87      0.87      2841\n",
      "weighted avg       0.87      0.87      0.87      2841\n",
      "\n"
     ]
    },
    {
     "data": {
      "image/png": "[encoded data removed]",
      "text/plain": [
       "<Figure size 432x288 with 2 Axes>"
      ]
     },
     "metadata": {
      "needs_background": "light"
     },
     "output_type": "display_data"
    }
   ],
   "source": [
    "Model.confusionMatrix(y_test, prediction_2['output_class'])"
   ]
  },
  {
   "cell_type": "markdown",
   "id": "893f080a-eb21-4dd8-991f-291586db7987",
   "metadata": {},
   "source": [
    "> **Nhận xét**:\n",
    "> * Độ chính xác của model 2 này là 86 phần trăm.\n",
    "> * Nhưng ta nên đặt câu hỏi vì sao đã qua 2 model có kiến trúc khác nhau rất nhiều nhưng độ chính xác vẫn loanh quanh 86, 87%."
   ]
  },
  {
   "cell_type": "code",
   "execution_count": 17,
   "id": "b71cda02-0ff9-4e86-8810-6bcf236d10d5",
   "metadata": {
    "tags": []
   },
   "outputs": [],
   "source": [
    "model_uw_2 = DeepModel.SentimentLSTM()\n",
    "model_uw_2.define(**hyperparameters_2)\n",
    "model_uw_2.model.load_weights(\"./models/lstm_model_comments_2/weights/02-0.325247.h5\")"
   ]
  },
  {
   "cell_type": "code",
   "execution_count": 18,
   "id": "7851fa11-96ca-4f4c-9ffa-5cb4594efaea",
   "metadata": {
    "tags": []
   },
   "outputs": [
    {
     "name": "stdout",
     "output_type": "stream",
     "text": [
      "89/89 [==============================] - 1s 9ms/step\n"
     ]
    },
    {
     "data": {
      "text/html": [
       "<div>\n",
       "<style scoped>\n",
       "    .dataframe tbody tr th:only-of-type {\n",
       "        vertical-align: middle;\n",
       "    }\n",
       "\n",
       "    .dataframe tbody tr th {\n",
       "        vertical-align: top;\n",
       "    }\n",
       "\n",
       "    .dataframe thead th {\n",
       "        text-align: right;\n",
       "    }\n",
       "</style>\n",
       "<table border=\"1\" class=\"dataframe\">\n",
       "  <thead>\n",
       "    <tr style=\"text-align: right;\">\n",
       "      <th></th>\n",
       "      <th>input</th>\n",
       "      <th>output_proba</th>\n",
       "      <th>output_class</th>\n",
       "    </tr>\n",
       "  </thead>\n",
       "  <tbody>\n",
       "    <tr>\n",
       "      <th>0</th>\n",
       "      <td>đẹp nhẹ đường may nhiều đầu chỉ các...</td>\n",
       "      <td>(0.8633138, 0.13668613)</td>\n",
       "      <td>0</td>\n",
       "    </tr>\n",
       "    <tr>\n",
       "      <th>1</th>\n",
       "      <td>giao hàng nhanh đóng gói sản phẩm cẩn ...</td>\n",
       "      <td>(0.0010652067, 0.9989348)</td>\n",
       "      <td>1</td>\n",
       "    </tr>\n",
       "    <tr>\n",
       "      <th>2</th>\n",
       "      <td>quần đẹp lắm thân thiện nhiều o</td>\n",
       "      <td>(0.0062824017, 0.99371755)</td>\n",
       "      <td>1</td>\n",
       "    </tr>\n",
       "    <tr>\n",
       "      <th>3</th>\n",
       "      <td>ui xinh lắm luôn ship nhanh nưa</td>\n",
       "      <td>(0.000619642, 0.99938035)</td>\n",
       "      <td>1</td>\n",
       "    </tr>\n",
       "    <tr>\n",
       "      <th>4</th>\n",
       "      <td>chất lượng tốt giao hàng nhanh nhân v...</td>\n",
       "      <td>(0.00069103093, 0.99930894)</td>\n",
       "      <td>1</td>\n",
       "    </tr>\n",
       "    <tr>\n",
       "      <th>...</th>\n",
       "      <td>...</td>\n",
       "      <td>...</td>\n",
       "      <td>...</td>\n",
       "    </tr>\n",
       "    <tr>\n",
       "      <th>2836</th>\n",
       "      <td>chất hơi mềm quá nói chuyện vẫn đư...</td>\n",
       "      <td>(0.014987079, 0.9850129)</td>\n",
       "      <td>1</td>\n",
       "    </tr>\n",
       "    <tr>\n",
       "      <th>2837</th>\n",
       "      <td>nhìn hình tưởng quần dày có thể mạ...</td>\n",
       "      <td>(0.15381914, 0.84618086)</td>\n",
       "      <td>1</td>\n",
       "    </tr>\n",
       "    <tr>\n",
       "      <th>2838</th>\n",
       "      <td>sản phẩm lủng rách nhiều chổ mua cái...</td>\n",
       "      <td>(0.9985297, 0.0014703479)</td>\n",
       "      <td>0</td>\n",
       "    </tr>\n",
       "    <tr>\n",
       "      <th>2839</th>\n",
       "      <td>cay vừa mua không hôm sau giảm không</td>\n",
       "      <td>(0.9986547, 0.0013452299)</td>\n",
       "      <td>0</td>\n",
       "    </tr>\n",
       "    <tr>\n",
       "      <th>2840</th>\n",
       "      <td>hàng bình thường giá không</td>\n",
       "      <td>(0.99087125, 0.009128773)</td>\n",
       "      <td>0</td>\n",
       "    </tr>\n",
       "  </tbody>\n",
       "</table>\n",
       "<p>2841 rows × 3 columns</p>\n",
       "</div>"
      ],
      "text/plain": [
       "                                                  input  \\\n",
       "0     đẹp nhẹ đường may nhiều đầu chỉ các...   \n",
       "1     giao hàng nhanh đóng gói sản phẩm cẩn ...   \n",
       "2             quần đẹp lắm thân thiện nhiều o   \n",
       "3                   ui xinh lắm luôn ship nhanh nưa   \n",
       "4     chất lượng tốt giao hàng nhanh nhân v...   \n",
       "...                                                 ...   \n",
       "2836  chất hơi mềm quá nói chuyện vẫn đư...   \n",
       "2837  nhìn hình tưởng quần dày có thể mạ...   \n",
       "2838  sản phẩm lủng rách nhiều chổ mua cái...   \n",
       "2839         cay vừa mua không hôm sau giảm không   \n",
       "2840                  hàng bình thường giá không   \n",
       "\n",
       "                     output_proba  output_class  \n",
       "0         (0.8633138, 0.13668613)             0  \n",
       "1       (0.0010652067, 0.9989348)             1  \n",
       "2      (0.0062824017, 0.99371755)             1  \n",
       "3       (0.000619642, 0.99938035)             1  \n",
       "4     (0.00069103093, 0.99930894)             1  \n",
       "...                           ...           ...  \n",
       "2836     (0.014987079, 0.9850129)             1  \n",
       "2837     (0.15381914, 0.84618086)             1  \n",
       "2838    (0.9985297, 0.0014703479)             0  \n",
       "2839    (0.9986547, 0.0013452299)             0  \n",
       "2840    (0.99087125, 0.009128773)             0  \n",
       "\n",
       "[2841 rows x 3 columns]"
      ]
     },
     "execution_count": 18,
     "metadata": {},
     "output_type": "execute_result"
    }
   ],
   "source": [
    "prediction_uw_2 = model_uw_2.predict(X_test['normalize_comment'])\n",
    "prediction_uw_2"
   ]
  },
  {
   "cell_type": "code",
   "execution_count": 19,
   "id": "d4792f5b-f1e5-423d-bfe4-7f99ce8dc4ed",
   "metadata": {
    "tags": []
   },
   "outputs": [
    {
     "name": "stdout",
     "output_type": "stream",
     "text": [
      "              precision    recall  f1-score   support\n",
      "\n",
      "    Negative       0.88      0.86      0.87      1438\n",
      "    Positive       0.86      0.88      0.87      1403\n",
      "\n",
      "    accuracy                           0.87      2841\n",
      "   macro avg       0.87      0.87      0.87      2841\n",
      "weighted avg       0.87      0.87      0.87      2841\n",
      "\n"
     ]
    },
    {
     "data": {
      "image/png": "[encoded data removed]",
      "text/plain": [
       "<Figure size 432x288 with 2 Axes>"
      ]
     },
     "metadata": {
      "needs_background": "light"
     },
     "output_type": "display_data"
    }
   ],
   "source": [
    "Model.confusionMatrix(y_test, prediction_uw_2['output_class'])"
   ]
  },
  {
   "cell_type": "markdown",
   "id": "adfd6c7a-0db1-4c78-bceb-478837de175f",
   "metadata": {},
   "source": [
    "> **Nhận xét**:\n",
    "> * Độ chính xác lúc này 87%.\n",
    "> * Nếu ta đào tạo quá 10 epoch thì càng ngày bị overfitting, nhưng nếu ta thay đổi kiến trúc của model thì độ chính xác luôn loanh quanh 86, 87%. Như vậy đây có phải là độ chính xác tối đa mà model LSTM có thể đạt được hoặc là do chính data của ta bị variance error do có sự chồng chéo data giữa nagative và postive ở các comment 3 sao."
   ]
  },
  {
   "cell_type": "markdown",
   "id": "e5d7233d-0d38-42c7-91c9-e981c8e6e494",
   "metadata": {},
   "source": [
    "Bây giờ ta sẽ lưu lại các model này thành file `*.h5` và các vectorizer tương ứng thành file `*.pickle`."
   ]
  },
  {
   "cell_type": "code",
   "execution_count": 20,
   "id": "c6641493-5e7c-422e-88d3-4393d6b1ef85",
   "metadata": {
    "tags": []
   },
   "outputs": [
    {
     "name": "stdout",
     "output_type": "stream",
     "text": [
      "(<keras.preprocessing.text.Tokenizer object at 0x7fc12e010af0>, 70) has been saved at ./models/lstm_model_comments_1/lstm_tokenizer_comments_1.pickle.\n",
      "📢 Model has been saved at ./models/lstm_model_comments_1/lstm_model_comments_1.h5 - Tokenizer has been saved at ./models/lstm_model_comments_1/lstm_tokenizer_comments_1.pickle.\n",
      "(<keras.preprocessing.text.Tokenizer object at 0x7fc133cc7e20>, 70) has been saved at ./models/lstm_model_comments_1/lstm_tokenizer_comments_uw_1.pickle.\n",
      "📢 Model has been saved at ./models/lstm_model_comments_1/lstm_model_comments_uw_1.h5 - Tokenizer has been saved at ./models/lstm_model_comments_1/lstm_tokenizer_comments_uw_1.pickle.\n"
     ]
    }
   ],
   "source": [
    "model_1.save(\"./models/lstm_model_comments_1/lstm_model_comments_1.h5\", \"./models/lstm_model_comments_1/lstm_tokenizer_comments_1.pickle\")\n",
    "model_uw_1.save(\"./models/lstm_model_comments_1/lstm_model_comments_uw_1.h5\", \"./models/lstm_model_comments_1/lstm_tokenizer_comments_uw_1.pickle\")"
   ]
  },
  {
   "cell_type": "code",
   "execution_count": 21,
   "id": "fdbcf9c3-19b4-4f02-a1bb-74343bbd06c3",
   "metadata": {
    "tags": []
   },
   "outputs": [
    {
     "name": "stdout",
     "output_type": "stream",
     "text": [
      "(<keras.preprocessing.text.Tokenizer object at 0x7fc134a457f0>, 70) has been saved at ./models/lstm_model_comments_2/lstm_tokenizer_comments_2.pickle.\n",
      "📢 Model has been saved at ./models/lstm_model_comments_2/lstm_model_comments_2.h5 - Tokenizer has been saved at ./models/lstm_model_comments_2/lstm_tokenizer_comments_2.pickle.\n",
      "(<keras.preprocessing.text.Tokenizer object at 0x7fc12e7904f0>, 70) has been saved at ./models/lstm_model_comments_2/lstm_tokenizer_comments_uw_2.pickle.\n",
      "📢 Model has been saved at ./models/lstm_model_comments_2/lstm_model_comments_uw_2.h5 - Tokenizer has been saved at ./models/lstm_model_comments_2/lstm_tokenizer_comments_uw_2.pickle.\n"
     ]
    }
   ],
   "source": [
    "model_2.save(\"./models/lstm_model_comments_2/lstm_model_comments_2.h5\", \"./models/lstm_model_comments_2/lstm_tokenizer_comments_2.pickle\")\n",
    "model_uw_2.save(\"./models/lstm_model_comments_2/lstm_model_comments_uw_2.h5\", \"./models/lstm_model_comments_2/lstm_tokenizer_comments_uw_2.pickle\")"
   ]
  },
  {
   "cell_type": "markdown",
   "id": "60bf663c-cb91-47cf-a5f4-87d53c702a21",
   "metadata": {},
   "source": [
    "Bây giờ chúng ta sẽ tiến hành Hyper Parameters bằng phương pháp HyperBand được đề xuất vào năm 2016. Đây là bài báo đó [https://arxiv.org/pdf/1603.06560.pdf](https://arxiv.org/pdf/1603.06560.pdf). Ý tưởng của phương pháp này là HyperBand sẽ random ra một vài hyper-params set ban đầu. Tiếp theo nó sẽ tiến hành đào tạo các model này và thực hiện đánh giá dựa trên loss value của train hoặc test do ta quy định. Tiếp theo nó sẽ tiến hành chọn lọc dựa trên các công thức để chọn ra các hyperparam set có loss thấp nhất và loại bỏ đi các hyperparams set cho hiệu suất kém. Với từng hyperparams set được chọn lọc này nó sẽ đào tạo lại và tiếp tục loại bỏ và đào tạo lại cho đến khi còn lại model tốt nhất.\n",
    "\n",
    "Bài viết gốc của tác giả đọc sẽ khó hiểu và nặng về toán học, nên ta có thể đọc tại đây để dễ hiểu hơn [https://medium.com/data-from-the-trenches/a-slightly-better-budget-allocation-for-hyperband-bbd45af14481](https://medium.com/data-from-the-trenches/a-slightly-better-budget-allocation-for-hyperband-bbd45af14481).\n",
    "\n",
    "Bây giờ ta sẽ tạo một hàm `get_params()` là một Random-Search ra một hyperparam-set. Tiếp theo hàm `try_params()` sẽ nhận vào hyperparam set phát sinh từ `get_params()` và tiến hành training. Hai hàm này sẽ được bỏ vào một object `Hyperband` như là các tham số, là object này sẽ thực hiện tính toán và trả ra hyperparams set tốt nhất."
   ]
  },
  {
   "cell_type": "code",
   "execution_count": 47,
   "id": "ade4240b-b27e-4785-ae1a-56a760169ff2",
   "metadata": {
    "tags": []
   },
   "outputs": [],
   "source": [
    "def get_params():\n",
    "    pbatch_size = np.random.choice(np.arange(5, 100, 10))\n",
    "    pnum_words = np.random.choice(np.arange(2000, 3000, 10))\n",
    "    optimizers = np.random.choice(['rmsprop', 'adam', 'adadelta'])\n",
    "    pdropout = np.random.choice(np.linspace(0.1, 0.5, 10))\n",
    "    pno_units = np.random.choice(np.arange(10, 50, 10))\n",
    "    pseq_length = np.random.choice(np.arange(50, 200, 10))\n",
    "    \n",
    "    return {\n",
    "        'pX': X_train['normalize_comment'], \n",
    "        'py': y_train, \n",
    "        'pnum_words': pnum_words, \n",
    "        'pseq_length': pseq_length,\n",
    "        'pno_units': pno_units, \n",
    "        'pdropout': pdropout, \n",
    "        'poptimizers': optimizers,\n",
    "        'pbatch_size': pbatch_size, \n",
    "        'pepochs': 10, \n",
    "        'psave_weights': './models/lstm_model_comments_3.h5'\n",
    "    }"
   ]
  },
  {
   "cell_type": "code",
   "execution_count": 48,
   "id": "85ccf452-63f9-43a5-838f-d83a40de4d0e",
   "metadata": {
    "tags": []
   },
   "outputs": [],
   "source": [
    "def try_params(**kwargs):\n",
    "    model = DeepModel.SentimentLSTM()\n",
    "    model.define(**kwargs)\n",
    "    model.fit(**kwargs)\n",
    "\n",
    "    return {\"loss\": model.evaluation()}\n",
    "\n",
    "\n",
    "hb = DeepModel.Hyperband(get_params, try_params)\n",
    "results = hb.run()\n",
    "\n",
    "print(results)"
   ]
  },
  {
   "cell_type": "markdown",
   "id": "fbbdfed2-e599-4eae-9cfe-69ab04f20da3",
   "metadata": {},
   "source": [
    "> **Nhận xét**:\n",
    "> * Ở đây nhóm đã tiến hành ngắt quá trình đào tạo lại, hình dưới đây được chụp từ file `hyperband.txt` - file này ghi lại lịch sử của quá trình optimization, ta thấy rằng:\n",
    "> ![](./images/17.png)\n",
    ">   * Dù trải qua 20 lần đào tạo lại các model dựa trên các hyperparam-set khác nhau cho validation loss thấp nhất, nhưng giá trị này vẫn lớn hơn 0.3 tương tự như `model_1` và `model_2` mà ta đào tạo ban đầu, xem ra đây có thể là hiệu suất tốt nhất mà model LSTM của ta có thể làm được. \n",
    ">   * Từ đây góp phần cho ta chắc chắn hơn rằng dataset comments của chúng ta đang thực sự bị variance error."
   ]
  },
  {
   "cell_type": "code",
   "execution_count": null,
   "id": "8c839695-e8da-4286-b7df-cafe79a63dd1",
   "metadata": {},
   "outputs": [],
   "source": []
  },
  {
   "cell_type": "code",
   "execution_count": null,
   "id": "050dc698",
   "metadata": {},
   "outputs": [],
   "source": []
  }
 ],
 "metadata": {
  "kernelspec": {
   "display_name": "Python 3",
   "language": "python",
   "name": "python3"
  },
  "language_info": {
   "codemirror_mode": {
    "name": "ipython",
    "version": 3
   },
   "file_extension": ".py",
   "mimetype": "text/x-python",
   "name": "python",
   "nbconvert_exporter": "python",
   "pygments_lexer": "ipython3",
   "version": "3.6.8"
  }
 },
 "nbformat": 4,
 "nbformat_minor": 5
}
