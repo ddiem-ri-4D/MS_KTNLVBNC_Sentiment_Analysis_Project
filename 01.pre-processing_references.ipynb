{
 "cells": [
  {
   "cell_type": "markdown",
   "metadata": {},
   "source": [
    "# 1.6 - 1.7. Mô tả và đánh giá dữ liệu & Tiền xử lí dữ liệu"
   ]
  },
  {
   "cell_type": "markdown",
   "metadata": {},
   "source": [
    "* Load toàn bộ review vào một dataframe duy nhất."
   ]
  },
  {
   "cell_type": "code",
   "execution_count": 1,
   "metadata": {},
   "outputs": [],
   "source": [
    "%load_ext autoreload\n",
    "%autoreload 2"
   ]
  },
  {
   "cell_type": "code",
   "execution_count": 21,
   "metadata": {},
   "outputs": [
    {
     "name": "stdout",
     "output_type": "stream",
     "text": [
      "Requirement already satisfied: pyenchant in /Library/Frameworks/Python.framework/Versions/3.6/lib/python3.6/site-packages (3.2.2)\n"
     ]
    }
   ],
   "source": [
    "!pip3 install pyenchant"
   ]
  },
  {
   "cell_type": "code",
   "execution_count": 84,
   "metadata": {
    "scrolled": true,
    "tags": []
   },
   "outputs": [
    {
     "name": "stdout",
     "output_type": "stream",
     "text": [
      "Package                 Version\n",
      "----------------------- ---------\n",
      "absl-py                 0.15.0\n",
      "appnope                 0.1.3\n",
      "argon2-cffi             21.3.0\n",
      "argon2-cffi-bindings    21.2.0\n",
      "astunparse              1.6.3\n",
      "async-generator         1.10\n",
      "attrs                   21.4.0\n",
      "autopep8                2.0.1\n",
      "backcall                0.2.0\n",
      "bleach                  4.1.0\n",
      "cached-property         1.5.2\n",
      "cachetools              4.2.4\n",
      "catboost                1.0.6\n",
      "certifi                 2022.12.7\n",
      "cffi                    1.15.0\n",
      "charset-normalizer      2.0.12\n",
      "clang                   5.0\n",
      "cycler                  0.11.0\n",
      "dataclasses             0.8\n",
      "decorator               4.4.2\n",
      "defusedxml              0.7.1\n",
      "emojis                  0.7.0\n",
      "entrypoints             0.4\n",
      "et-xmlfile              1.1.0\n",
      "flatbuffers             1.12\n",
      "gast                    0.4.0\n",
      "gensim                  4.2.0\n",
      "google-auth             1.35.0\n",
      "google-auth-oauthlib    0.4.6\n",
      "google-pasta            0.2.0\n",
      "graphviz                0.19.1\n",
      "grpcio                  1.46.0\n",
      "h5py                    3.1.0\n",
      "idna                    3.3\n",
      "imbalanced-learn        0.8.1\n",
      "imblearn                0.0\n",
      "importlib-metadata      4.8.3\n",
      "importlib-resources     5.4.0\n",
      "ipykernel               5.5.6\n",
      "ipython                 7.16.3\n",
      "ipython-genutils        0.2.0\n",
      "ipywidgets              7.7.3\n",
      "jedi                    0.17.2\n",
      "Jinja2                  3.0.3\n",
      "joblib                  1.1.0\n",
      "jsonschema              3.2.0\n",
      "jupyter-client          7.1.2\n",
      "jupyter-core            4.9.2\n",
      "jupyterlab-pygments     0.1.2\n",
      "jupyterlab-widgets      1.1.2\n",
      "kaleido                 0.2.1\n",
      "karateclub              1.3.2\n",
      "keras                   2.6.0\n",
      "Keras-Preprocessing     1.1.2\n",
      "kiwisolver              1.3.1\n",
      "Markdown                3.3.7\n",
      "MarkupSafe              2.0.1\n",
      "matplotlib              3.3.4\n",
      "mistune                 0.8.4\n",
      "more-itertools          8.13.0\n",
      "nbclient                0.5.9\n",
      "nbconvert               6.0.7\n",
      "nbformat                5.1.3\n",
      "nest-asyncio            1.5.5\n",
      "networkx                2.5.1\n",
      "notebook                6.4.10\n",
      "numpy                   1.19.5\n",
      "oauthlib                3.2.0\n",
      "openpyxl                3.0.9\n",
      "opt-einsum              3.3.0\n",
      "packaging               21.3\n",
      "pandas                  1.1.5\n",
      "pandocfilters           1.5.0\n",
      "parso                   0.7.1\n",
      "pexpect                 4.8.0\n",
      "pickleshare             0.7.5\n",
      "Pillow                  8.4.0\n",
      "pip                     21.3.1\n",
      "plotly                  5.8.0\n",
      "prometheus-client       0.14.1\n",
      "prompt-toolkit          3.0.29\n",
      "protobuf                3.19.4\n",
      "ptyprocess              0.7.0\n",
      "pyasn1                  0.4.8\n",
      "pyasn1-modules          0.2.8\n",
      "pycodestyle             2.10.0\n",
      "pycparser               2.21\n",
      "pyenchant               3.2.2\n",
      "Pygments                2.12.0\n",
      "PyGSP                   0.5.1\n",
      "pyparsing               3.0.9\n",
      "pyrsistent              0.18.0\n",
      "python-dateutil         2.8.2\n",
      "python-Levenshtein      0.12.2\n",
      "python-louvain          0.16\n",
      "pytz                    2022.1\n",
      "pyzmq                   22.3.0\n",
      "requests                2.27.1\n",
      "requests-oauthlib       1.3.1\n",
      "rsa                     4.8\n",
      "scikit-learn            0.24.2\n",
      "scipy                   1.5.4\n",
      "seaborn                 0.11.2\n",
      "selenium                3.141.0\n",
      "Send2Trash              1.8.0\n",
      "setuptools              59.6.0\n",
      "six                     1.15.0\n",
      "sklearn                 0.0\n",
      "smart-open              6.0.0\n",
      "tenacity                8.0.1\n",
      "tensorboard             2.6.0\n",
      "tensorboard-data-server 0.6.1\n",
      "tensorboard-plugin-wit  1.8.1\n",
      "tensorflow              2.6.2\n",
      "tensorflow-estimator    2.6.0\n",
      "termcolor               1.1.0\n",
      "terminado               0.12.1\n",
      "testpath                0.6.0\n",
      "thefuzz                 0.19.0\n",
      "threadpoolctl           3.1.0\n",
      "tomli                   1.2.3\n",
      "tornado                 6.1\n",
      "tqdm                    4.64.0\n",
      "traitlets               4.3.3\n",
      "typing-extensions       3.7.4.3\n",
      "urllib3                 1.26.9\n",
      "wcwidth                 0.2.5\n",
      "webencodings            0.5.1\n",
      "Werkzeug                2.0.3\n",
      "wheel                   0.37.1\n",
      "widgetsnbextension      3.6.2\n",
      "wordcloud               1.8.1\n",
      "wrapt                   1.12.1\n",
      "xgboost                 1.5.2\n",
      "xlrd                    1.2.0\n",
      "zipp                    3.6.0\n"
     ]
    }
   ],
   "source": [
    "!pip3 list"
   ]
  },
  {
   "cell_type": "code",
   "execution_count": 92,
   "metadata": {},
   "outputs": [],
   "source": [
    "import modules.utils as Utils\n",
    "import modules.processor as Processor\n",
    "import numpy as np\n",
    "import pandas as pd\n",
    "import enchant\n",
    "import random\n",
    "\n",
    "from sklearn.utils import shuffle"
   ]
  },
  {
   "cell_type": "code",
   "execution_count": 29,
   "metadata": {},
   "outputs": [
    {
     "data": {
      "text/plain": [
       "['./data/product_reviews/product_reviews_02/',\n",
       " './data/product_reviews/product_reviews_03/',\n",
       " './data/product_reviews/product_reviews_01/',\n",
       " './data/product_reviews/product_reviews_00/']"
      ]
     },
     "execution_count": 29,
     "metadata": {},
     "output_type": "execute_result"
    }
   ],
   "source": [
    "# Lấy tất cả các directory path của các lần ta tiến hành crawl data\n",
    "dir_paths = Utils.getAllFolderPath(\"./data/product_reviews/\")\n",
    "\n",
    "dir_paths"
   ]
  },
  {
   "cell_type": "code",
   "execution_count": 43,
   "metadata": {},
   "outputs": [],
   "source": [
    "# Đọc toàn bộ các review từ các file csv\n",
    "reviews = Utils.readReviews(dir_paths)"
   ]
  },
  {
   "cell_type": "code",
   "execution_count": 44,
   "metadata": {},
   "outputs": [
    {
     "data": {
      "text/html": [
       "<div>\n",
       "<style scoped>\n",
       "    .dataframe tbody tr th:only-of-type {\n",
       "        vertical-align: middle;\n",
       "    }\n",
       "\n",
       "    .dataframe tbody tr th {\n",
       "        vertical-align: top;\n",
       "    }\n",
       "\n",
       "    .dataframe thead th {\n",
       "        text-align: right;\n",
       "    }\n",
       "</style>\n",
       "<table border=\"1\" class=\"dataframe\">\n",
       "  <thead>\n",
       "    <tr style=\"text-align: right;\">\n",
       "      <th></th>\n",
       "      <th>raw_comment</th>\n",
       "      <th>rating</th>\n",
       "    </tr>\n",
       "  </thead>\n",
       "  <tbody>\n",
       "    <tr>\n",
       "      <th>278154</th>\n",
       "      <td>Hàng ok lắm có điều mùi nhựa nồng quá, trc khi...</td>\n",
       "      <td>5</td>\n",
       "    </tr>\n",
       "    <tr>\n",
       "      <th>278155</th>\n",
       "      <td>Mua size L hơi to nhưng vẫn ok</td>\n",
       "      <td>5</td>\n",
       "    </tr>\n",
       "    <tr>\n",
       "      <th>278156</th>\n",
       "      <td>Giá tốt. Chất lượng chắc chắn, thiết kế rất đẹ...</td>\n",
       "      <td>5</td>\n",
       "    </tr>\n",
       "    <tr>\n",
       "      <th>278157</th>\n",
       "      <td>Sản phẩm tốt dày chất lượng size m nhung to lắ...</td>\n",
       "      <td>5</td>\n",
       "    </tr>\n",
       "    <tr>\n",
       "      <th>278158</th>\n",
       "      <td>Đẹp lắm ạ\\nCảm ơn shop, có điều bên ngoài dính...</td>\n",
       "      <td>5</td>\n",
       "    </tr>\n",
       "  </tbody>\n",
       "</table>\n",
       "</div>"
      ],
      "text/plain": [
       "                                              raw_comment rating\n",
       "278154  Hàng ok lắm có điều mùi nhựa nồng quá, trc khi...      5\n",
       "278155                     Mua size L hơi to nhưng vẫn ok      5\n",
       "278156  Giá tốt. Chất lượng chắc chắn, thiết kế rất đẹ...      5\n",
       "278157  Sản phẩm tốt dày chất lượng size m nhung to lắ...      5\n",
       "278158  Đẹp lắm ạ\\nCảm ơn shop, có điều bên ngoài dính...      5"
      ]
     },
     "execution_count": 44,
     "metadata": {},
     "output_type": "execute_result"
    }
   ],
   "source": [
    "reviews.tail()"
   ]
  },
  {
   "cell_type": "code",
   "execution_count": 45,
   "metadata": {},
   "outputs": [
    {
     "name": "stdout",
     "output_type": "stream",
     "text": [
      "Tập dữ liệu có 278159 bình luận.\n"
     ]
    }
   ],
   "source": [
    "print(\"Tập dữ liệu có {} bình luận.\".format(reviews.shape[0]))"
   ]
  },
  {
   "cell_type": "markdown",
   "metadata": {},
   "source": [
    "* Đếm tần số xuất hiện của từng rating."
   ]
  },
  {
   "cell_type": "code",
   "execution_count": 46,
   "metadata": {},
   "outputs": [
    {
     "data": {
      "text/plain": [
       "5    260555\n",
       "4      9646\n",
       "3      4194\n",
       "1      2308\n",
       "2      1456\n",
       "Name: rating, dtype: int64"
      ]
     },
     "execution_count": 46,
     "metadata": {},
     "output_type": "execute_result"
    }
   ],
   "source": [
    "reviews['rating'].value_counts()"
   ]
  },
  {
   "cell_type": "markdown",
   "metadata": {},
   "source": [
    "> **Nhận xét**:\n",
    "> * Nhìn chung tuy ta crawl được hơn 200,000 quan sát nhưng có sự chênh lệch lớn giữa các rating.\n",
    "> * Nhìn qua ta thấy đa phần là các rating được đánh giá 5 sao, điều này cũng dễ hiểu vì hệ thống recommend của Shopee sẽ ưu tiên gợi ý cho khách hàng những sản phẩm có đánh giá tốt. Và sẽ hạn chế hoặc thậm chí là ko gợi ý các mặc hàng bị đánh giá kém. Nên với địa vị là người đi trộm dữ liệu như chúng ta thì ko có cách nào khắc phục điều này.\n",
    "> * Bây giờ, do ta cần chi ra hai lớp là negative và positive nên những comment mà `rating` $\\geq 4$ sẽ được cho vào nhóm positive, ngược lại là nhóm negative. "
   ]
  },
  {
   "cell_type": "markdown",
   "metadata": {},
   "source": [
    "* Tiến hành label cho `reviews` với các giá `rating` $< 4$ sẽ thuộc nhóm negative còn lại là nhóm positive."
   ]
  },
  {
   "cell_type": "code",
   "execution_count": 47,
   "metadata": {},
   "outputs": [],
   "source": [
    "reviews = Utils.labelRating(reviews)"
   ]
  },
  {
   "cell_type": "code",
   "execution_count": 48,
   "metadata": {},
   "outputs": [
    {
     "data": {
      "text/html": [
       "<div>\n",
       "<style scoped>\n",
       "    .dataframe tbody tr th:only-of-type {\n",
       "        vertical-align: middle;\n",
       "    }\n",
       "\n",
       "    .dataframe tbody tr th {\n",
       "        vertical-align: top;\n",
       "    }\n",
       "\n",
       "    .dataframe thead th {\n",
       "        text-align: right;\n",
       "    }\n",
       "</style>\n",
       "<table border=\"1\" class=\"dataframe\">\n",
       "  <thead>\n",
       "    <tr style=\"text-align: right;\">\n",
       "      <th></th>\n",
       "      <th>raw_comment</th>\n",
       "      <th>rating</th>\n",
       "      <th>label</th>\n",
       "    </tr>\n",
       "  </thead>\n",
       "  <tbody>\n",
       "    <tr>\n",
       "      <th>278154</th>\n",
       "      <td>Hàng ok lắm có điều mùi nhựa nồng quá, trc khi...</td>\n",
       "      <td>5</td>\n",
       "      <td>1</td>\n",
       "    </tr>\n",
       "    <tr>\n",
       "      <th>278155</th>\n",
       "      <td>Mua size L hơi to nhưng vẫn ok</td>\n",
       "      <td>5</td>\n",
       "      <td>1</td>\n",
       "    </tr>\n",
       "    <tr>\n",
       "      <th>278156</th>\n",
       "      <td>Giá tốt. Chất lượng chắc chắn, thiết kế rất đẹ...</td>\n",
       "      <td>5</td>\n",
       "      <td>1</td>\n",
       "    </tr>\n",
       "    <tr>\n",
       "      <th>278157</th>\n",
       "      <td>Sản phẩm tốt dày chất lượng size m nhung to lắ...</td>\n",
       "      <td>5</td>\n",
       "      <td>1</td>\n",
       "    </tr>\n",
       "    <tr>\n",
       "      <th>278158</th>\n",
       "      <td>Đẹp lắm ạ\\nCảm ơn shop, có điều bên ngoài dính...</td>\n",
       "      <td>5</td>\n",
       "      <td>1</td>\n",
       "    </tr>\n",
       "  </tbody>\n",
       "</table>\n",
       "</div>"
      ],
      "text/plain": [
       "                                              raw_comment rating  label\n",
       "278154  Hàng ok lắm có điều mùi nhựa nồng quá, trc khi...      5      1\n",
       "278155                     Mua size L hơi to nhưng vẫn ok      5      1\n",
       "278156  Giá tốt. Chất lượng chắc chắn, thiết kế rất đẹ...      5      1\n",
       "278157  Sản phẩm tốt dày chất lượng size m nhung to lắ...      5      1\n",
       "278158  Đẹp lắm ạ\\nCảm ơn shop, có điều bên ngoài dính...      5      1"
      ]
     },
     "execution_count": 48,
     "metadata": {},
     "output_type": "execute_result"
    }
   ],
   "source": [
    "reviews.tail()"
   ]
  },
  {
   "cell_type": "markdown",
   "metadata": {},
   "source": [
    "* Bây giờ ta sẽ xóa đi feature `rating` vì về sau ta sẽ ko cần dúng đến nó nữa, và tiến hành đếm số lượng quan sát của từng nhóm trên `label`"
   ]
  },
  {
   "cell_type": "code",
   "execution_count": 49,
   "metadata": {},
   "outputs": [
    {
     "name": "stdout",
     "output_type": "stream",
     "text": [
      "Shape: (278159, 2)\n",
      "1    270201\n",
      "0      7958\n",
      "Name: label, dtype: int64\n"
     ]
    },
    {
     "data": {
      "text/html": [
       "<div>\n",
       "<style scoped>\n",
       "    .dataframe tbody tr th:only-of-type {\n",
       "        vertical-align: middle;\n",
       "    }\n",
       "\n",
       "    .dataframe tbody tr th {\n",
       "        vertical-align: top;\n",
       "    }\n",
       "\n",
       "    .dataframe thead th {\n",
       "        text-align: right;\n",
       "    }\n",
       "</style>\n",
       "<table border=\"1\" class=\"dataframe\">\n",
       "  <thead>\n",
       "    <tr style=\"text-align: right;\">\n",
       "      <th></th>\n",
       "      <th>raw_comment</th>\n",
       "      <th>label</th>\n",
       "    </tr>\n",
       "  </thead>\n",
       "  <tbody>\n",
       "    <tr>\n",
       "      <th>278154</th>\n",
       "      <td>Hàng ok lắm có điều mùi nhựa nồng quá, trc khi...</td>\n",
       "      <td>1</td>\n",
       "    </tr>\n",
       "    <tr>\n",
       "      <th>278155</th>\n",
       "      <td>Mua size L hơi to nhưng vẫn ok</td>\n",
       "      <td>1</td>\n",
       "    </tr>\n",
       "    <tr>\n",
       "      <th>278156</th>\n",
       "      <td>Giá tốt. Chất lượng chắc chắn, thiết kế rất đẹ...</td>\n",
       "      <td>1</td>\n",
       "    </tr>\n",
       "    <tr>\n",
       "      <th>278157</th>\n",
       "      <td>Sản phẩm tốt dày chất lượng size m nhung to lắ...</td>\n",
       "      <td>1</td>\n",
       "    </tr>\n",
       "    <tr>\n",
       "      <th>278158</th>\n",
       "      <td>Đẹp lắm ạ\\nCảm ơn shop, có điều bên ngoài dính...</td>\n",
       "      <td>1</td>\n",
       "    </tr>\n",
       "  </tbody>\n",
       "</table>\n",
       "</div>"
      ],
      "text/plain": [
       "                                              raw_comment  label\n",
       "278154  Hàng ok lắm có điều mùi nhựa nồng quá, trc khi...      1\n",
       "278155                     Mua size L hơi to nhưng vẫn ok      1\n",
       "278156  Giá tốt. Chất lượng chắc chắn, thiết kế rất đẹ...      1\n",
       "278157  Sản phẩm tốt dày chất lượng size m nhung to lắ...      1\n",
       "278158  Đẹp lắm ạ\\nCảm ơn shop, có điều bên ngoài dính...      1"
      ]
     },
     "execution_count": 49,
     "metadata": {},
     "output_type": "execute_result"
    }
   ],
   "source": [
    "reviews = reviews.drop(columns=['rating'])\n",
    "\n",
    "Processor.printAfterProcess(reviews)\n",
    "reviews.tail()"
   ]
  },
  {
   "cell_type": "markdown",
   "metadata": {},
   "source": [
    "<hr>\n",
    "\n",
    "* Một trong những vấn đề đầu tiên và tối quan trong khi xử lí với dữ liệu văn bản là kiểm tra xem liệu text `a` có cùng cách biểu diễn với text `b` hay không.\n",
    "* Một ví dụ dễ hiểu là giả sử ta có biến `a = 'đẹp'` và biến `b = 'đep'`, nhưng khi ta compare hai biến này `a == b` thì kết quả sẽ ra False, nguyên nhân là do chúng sử dụng mã hóa unicode khác nhau, có thể `a` dùng unicode-8 và `b` dùng unicode-16.\n",
    "* Vậy điều đầu tiên ta cần làm là phải đưa tất cả các text về cùng một **chuẩn** duy nhất, ta có thể làm điều này bằng cách sử dụng `unicodedata.normalize()` từ package chuẩn `unicodedata` của Python. _(tham khảo thêm tại đây [https://www.kite.com/python/docs/unicodedata.normalize](https://www.kite.com/python/docs/unicodedata.normalize))_\n",
    "* Dưới đây là ví dụ cho trường hợp này:"
   ]
  },
  {
   "cell_type": "code",
   "execution_count": 50,
   "metadata": {},
   "outputs": [
    {
     "data": {
      "text/plain": [
       "False"
      ]
     },
     "execution_count": 50,
     "metadata": {},
     "output_type": "execute_result"
    }
   ],
   "source": [
    "import unicodedata\n",
    "\n",
    "a = 'đẹp, rất hài lòng'\n",
    "b = 'đẹp, rất hài lòng'\n",
    "\n",
    "a == b"
   ]
  },
  {
   "cell_type": "code",
   "execution_count": 51,
   "metadata": {},
   "outputs": [
    {
     "name": "stdout",
     "output_type": "stream",
     "text": [
      "String a: đẹp, rất hài lòng, Type a: <class 'str'>\n",
      "String b: đẹp, rất hài lòng, Type b: <class 'str'>\n"
     ]
    }
   ],
   "source": [
    "''' Sử dụng chuẩn NFD '''\n",
    "a = unicodedata.normalize('NFD', a)\n",
    "b = unicodedata.normalize('NFD', b)\n",
    "\n",
    "print(\"String a: {}, Type a: {}\".format(a, type(a)))\n",
    "print(\"String b: {}, Type b: {}\".format(b, type(b)))"
   ]
  },
  {
   "cell_type": "code",
   "execution_count": 52,
   "metadata": {},
   "outputs": [
    {
     "data": {
      "text/plain": [
       "True"
      ]
     },
     "execution_count": 52,
     "metadata": {},
     "output_type": "execute_result"
    }
   ],
   "source": [
    "a == b"
   ]
  },
  {
   "cell_type": "markdown",
   "metadata": {},
   "source": [
    "* Bây giờ, ta sẽ tạo một feature có tên là `normalize_comment`, trải qua 2 bước:\n",
    "  * `lower()` cho text.\n",
    "  * Chuẩn hóa bằng `unicodedata.normalize()`"
   ]
  },
  {
   "cell_type": "code",
   "execution_count": 53,
   "metadata": {},
   "outputs": [
    {
     "data": {
      "text/html": [
       "<div>\n",
       "<style scoped>\n",
       "    .dataframe tbody tr th:only-of-type {\n",
       "        vertical-align: middle;\n",
       "    }\n",
       "\n",
       "    .dataframe tbody tr th {\n",
       "        vertical-align: top;\n",
       "    }\n",
       "\n",
       "    .dataframe thead th {\n",
       "        text-align: right;\n",
       "    }\n",
       "</style>\n",
       "<table border=\"1\" class=\"dataframe\">\n",
       "  <thead>\n",
       "    <tr style=\"text-align: right;\">\n",
       "      <th></th>\n",
       "      <th>raw_comment</th>\n",
       "      <th>label</th>\n",
       "      <th>normalize_comment</th>\n",
       "    </tr>\n",
       "  </thead>\n",
       "  <tbody>\n",
       "    <tr>\n",
       "      <th>278154</th>\n",
       "      <td>Hàng ok lắm có điều mùi nhựa nồng quá, trc khi...</td>\n",
       "      <td>1</td>\n",
       "      <td>hàng ok lắm có điều mùi nhựa nồng q...</td>\n",
       "    </tr>\n",
       "    <tr>\n",
       "      <th>278155</th>\n",
       "      <td>Mua size L hơi to nhưng vẫn ok</td>\n",
       "      <td>1</td>\n",
       "      <td>mua size l hơi to nhưng vẫn ok</td>\n",
       "    </tr>\n",
       "    <tr>\n",
       "      <th>278156</th>\n",
       "      <td>Giá tốt. Chất lượng chắc chắn, thiết kế rất đẹ...</td>\n",
       "      <td>1</td>\n",
       "      <td>giá tốt. chất lượng chắc chắn, thi...</td>\n",
       "    </tr>\n",
       "    <tr>\n",
       "      <th>278157</th>\n",
       "      <td>Sản phẩm tốt dày chất lượng size m nhung to lắ...</td>\n",
       "      <td>1</td>\n",
       "      <td>sản phẩm tốt dày chất lượng size m ...</td>\n",
       "    </tr>\n",
       "    <tr>\n",
       "      <th>278158</th>\n",
       "      <td>Đẹp lắm ạ\\nCảm ơn shop, có điều bên ngoài dính...</td>\n",
       "      <td>1</td>\n",
       "      <td>đẹp lắm ạ\\ncảm ơn shop, có điều bên ...</td>\n",
       "    </tr>\n",
       "  </tbody>\n",
       "</table>\n",
       "</div>"
      ],
      "text/plain": [
       "                                              raw_comment  label  \\\n",
       "278154  Hàng ok lắm có điều mùi nhựa nồng quá, trc khi...      1   \n",
       "278155                     Mua size L hơi to nhưng vẫn ok      1   \n",
       "278156  Giá tốt. Chất lượng chắc chắn, thiết kế rất đẹ...      1   \n",
       "278157  Sản phẩm tốt dày chất lượng size m nhung to lắ...      1   \n",
       "278158  Đẹp lắm ạ\\nCảm ơn shop, có điều bên ngoài dính...      1   \n",
       "\n",
       "                                        normalize_comment  \n",
       "278154  hàng ok lắm có điều mùi nhựa nồng q...  \n",
       "278155                 mua size l hơi to nhưng vẫn ok  \n",
       "278156  giá tốt. chất lượng chắc chắn, thi...  \n",
       "278157  sản phẩm tốt dày chất lượng size m ...  \n",
       "278158  đẹp lắm ạ\\ncảm ơn shop, có điều bên ...  "
      ]
     },
     "execution_count": 53,
     "metadata": {},
     "output_type": "execute_result"
    }
   ],
   "source": [
    "reviews['normalize_comment'] = reviews['raw_comment'].apply(lambda cmt: Processor.normalizeComment(cmt))\n",
    "\n",
    "reviews.tail()"
   ]
  },
  {
   "cell_type": "markdown",
   "metadata": {},
   "source": [
    "* Ta cũng sẽ chuẩn hóa cho cột `raw_comment` nhưng không `lower()` chúng."
   ]
  },
  {
   "cell_type": "code",
   "execution_count": 54,
   "metadata": {},
   "outputs": [
    {
     "data": {
      "text/html": [
       "<div>\n",
       "<style scoped>\n",
       "    .dataframe tbody tr th:only-of-type {\n",
       "        vertical-align: middle;\n",
       "    }\n",
       "\n",
       "    .dataframe tbody tr th {\n",
       "        vertical-align: top;\n",
       "    }\n",
       "\n",
       "    .dataframe thead th {\n",
       "        text-align: right;\n",
       "    }\n",
       "</style>\n",
       "<table border=\"1\" class=\"dataframe\">\n",
       "  <thead>\n",
       "    <tr style=\"text-align: right;\">\n",
       "      <th></th>\n",
       "      <th>raw_comment</th>\n",
       "      <th>label</th>\n",
       "      <th>normalize_comment</th>\n",
       "    </tr>\n",
       "  </thead>\n",
       "  <tbody>\n",
       "    <tr>\n",
       "      <th>278154</th>\n",
       "      <td>Hàng ok lắm có điều mùi nhựa nồng q...</td>\n",
       "      <td>1</td>\n",
       "      <td>hàng ok lắm có điều mùi nhựa nồng q...</td>\n",
       "    </tr>\n",
       "    <tr>\n",
       "      <th>278155</th>\n",
       "      <td>Mua size L hơi to nhưng vẫn ok</td>\n",
       "      <td>1</td>\n",
       "      <td>mua size l hơi to nhưng vẫn ok</td>\n",
       "    </tr>\n",
       "    <tr>\n",
       "      <th>278156</th>\n",
       "      <td>Giá tốt. Chất lượng chắc chắn, thi...</td>\n",
       "      <td>1</td>\n",
       "      <td>giá tốt. chất lượng chắc chắn, thi...</td>\n",
       "    </tr>\n",
       "    <tr>\n",
       "      <th>278157</th>\n",
       "      <td>Sản phẩm tốt dày chất lượng size m ...</td>\n",
       "      <td>1</td>\n",
       "      <td>sản phẩm tốt dày chất lượng size m ...</td>\n",
       "    </tr>\n",
       "    <tr>\n",
       "      <th>278158</th>\n",
       "      <td>Đẹp lắm ạ\\nCảm ơn shop, có điều bên ...</td>\n",
       "      <td>1</td>\n",
       "      <td>đẹp lắm ạ\\ncảm ơn shop, có điều bên ...</td>\n",
       "    </tr>\n",
       "  </tbody>\n",
       "</table>\n",
       "</div>"
      ],
      "text/plain": [
       "                                              raw_comment  label  \\\n",
       "278154  Hàng ok lắm có điều mùi nhựa nồng q...      1   \n",
       "278155                 Mua size L hơi to nhưng vẫn ok      1   \n",
       "278156  Giá tốt. Chất lượng chắc chắn, thi...      1   \n",
       "278157  Sản phẩm tốt dày chất lượng size m ...      1   \n",
       "278158  Đẹp lắm ạ\\nCảm ơn shop, có điều bên ...      1   \n",
       "\n",
       "                                        normalize_comment  \n",
       "278154  hàng ok lắm có điều mùi nhựa nồng q...  \n",
       "278155                 mua size l hơi to nhưng vẫn ok  \n",
       "278156  giá tốt. chất lượng chắc chắn, thi...  \n",
       "278157  sản phẩm tốt dày chất lượng size m ...  \n",
       "278158  đẹp lắm ạ\\ncảm ơn shop, có điều bên ...  "
      ]
     },
     "execution_count": 54,
     "metadata": {},
     "output_type": "execute_result"
    }
   ],
   "source": [
    "reviews['raw_comment'] = reviews['raw_comment'].apply(lambda cmt: Processor.normalizeComment(cmt, False))\n",
    "\n",
    "reviews.tail()"
   ]
  },
  {
   "cell_type": "markdown",
   "metadata": {},
   "source": [
    "<hr>\n",
    "\n",
    "* Chúng ta biết rằng, các comment của các sản phẩm đôi khi sẽ chứa các URL do người bán hàng chèn vào để giúp khách hàng có thể click vào để xem các mặt hàng khác, chúng là các noise sample mà ta cần phải loại bỏ khỏi dataset của chúng ta.\n",
    "* Hình dưới đây là kết quả cho ra khi ta thử search cụm từ `http` thì nó cho ra hơn 600 mẫu dữ liệu chứa URL. Ta cần loại bỏ các mẫu này.<br>\n",
    "  ![](./images/04.png)"
   ]
  },
  {
   "cell_type": "code",
   "execution_count": 57,
   "metadata": {},
   "outputs": [
    {
     "name": "stdout",
     "output_type": "stream",
     "text": [
      "Shape: (277589, 4)\n",
      "0    277589\n",
      "Name: contain_url, dtype: int64\n"
     ]
    },
    {
     "data": {
      "text/html": [
       "<div>\n",
       "<style scoped>\n",
       "    .dataframe tbody tr th:only-of-type {\n",
       "        vertical-align: middle;\n",
       "    }\n",
       "\n",
       "    .dataframe tbody tr th {\n",
       "        vertical-align: top;\n",
       "    }\n",
       "\n",
       "    .dataframe thead th {\n",
       "        text-align: right;\n",
       "    }\n",
       "</style>\n",
       "<table border=\"1\" class=\"dataframe\">\n",
       "  <thead>\n",
       "    <tr style=\"text-align: right;\">\n",
       "      <th></th>\n",
       "      <th>raw_comment</th>\n",
       "      <th>label</th>\n",
       "      <th>normalize_comment</th>\n",
       "      <th>contain_url</th>\n",
       "    </tr>\n",
       "  </thead>\n",
       "  <tbody>\n",
       "    <tr>\n",
       "      <th>277584</th>\n",
       "      <td>Hàng ok lắm có điều mùi nhựa nồng q...</td>\n",
       "      <td>1</td>\n",
       "      <td>hàng ok lắm có điều mùi nhựa nồng q...</td>\n",
       "      <td>0</td>\n",
       "    </tr>\n",
       "    <tr>\n",
       "      <th>277585</th>\n",
       "      <td>Mua size L hơi to nhưng vẫn ok</td>\n",
       "      <td>1</td>\n",
       "      <td>mua size l hơi to nhưng vẫn ok</td>\n",
       "      <td>0</td>\n",
       "    </tr>\n",
       "    <tr>\n",
       "      <th>277586</th>\n",
       "      <td>Giá tốt. Chất lượng chắc chắn, thi...</td>\n",
       "      <td>1</td>\n",
       "      <td>giá tốt. chất lượng chắc chắn, thi...</td>\n",
       "      <td>0</td>\n",
       "    </tr>\n",
       "    <tr>\n",
       "      <th>277587</th>\n",
       "      <td>Sản phẩm tốt dày chất lượng size m ...</td>\n",
       "      <td>1</td>\n",
       "      <td>sản phẩm tốt dày chất lượng size m ...</td>\n",
       "      <td>0</td>\n",
       "    </tr>\n",
       "    <tr>\n",
       "      <th>277588</th>\n",
       "      <td>Đẹp lắm ạ\\nCảm ơn shop, có điều bên ...</td>\n",
       "      <td>1</td>\n",
       "      <td>đẹp lắm ạ\\ncảm ơn shop, có điều bên ...</td>\n",
       "      <td>0</td>\n",
       "    </tr>\n",
       "  </tbody>\n",
       "</table>\n",
       "</div>"
      ],
      "text/plain": [
       "                                              raw_comment  label  \\\n",
       "277584  Hàng ok lắm có điều mùi nhựa nồng q...      1   \n",
       "277585                 Mua size L hơi to nhưng vẫn ok      1   \n",
       "277586  Giá tốt. Chất lượng chắc chắn, thi...      1   \n",
       "277587  Sản phẩm tốt dày chất lượng size m ...      1   \n",
       "277588  Đẹp lắm ạ\\nCảm ơn shop, có điều bên ...      1   \n",
       "\n",
       "                                        normalize_comment  contain_url  \n",
       "277584  hàng ok lắm có điều mùi nhựa nồng q...            0  \n",
       "277585                 mua size l hơi to nhưng vẫn ok            0  \n",
       "277586  giá tốt. chất lượng chắc chắn, thi...            0  \n",
       "277587  sản phẩm tốt dày chất lượng size m ...            0  \n",
       "277588  đẹp lắm ạ\\ncảm ơn shop, có điều bên ...            0  "
      ]
     },
     "execution_count": 57,
     "metadata": {},
     "output_type": "execute_result"
    }
   ],
   "source": [
    "reviews['contain_url'] = reviews['normalize_comment'].apply(lambda cmt: Processor.containsURL(cmt))\n",
    "\n",
    "Processor.printAfterProcess(reviews, 'contain_url')\n",
    "reviews.tail()"
   ]
  },
  {
   "cell_type": "code",
   "execution_count": 58,
   "metadata": {},
   "outputs": [
    {
     "name": "stdout",
     "output_type": "stream",
     "text": [
      "Shape: (277589, 3)\n",
      "1    269633\n",
      "0      7956\n",
      "Name: label, dtype: int64\n"
     ]
    },
    {
     "data": {
      "text/html": [
       "<div>\n",
       "<style scoped>\n",
       "    .dataframe tbody tr th:only-of-type {\n",
       "        vertical-align: middle;\n",
       "    }\n",
       "\n",
       "    .dataframe tbody tr th {\n",
       "        vertical-align: top;\n",
       "    }\n",
       "\n",
       "    .dataframe thead th {\n",
       "        text-align: right;\n",
       "    }\n",
       "</style>\n",
       "<table border=\"1\" class=\"dataframe\">\n",
       "  <thead>\n",
       "    <tr style=\"text-align: right;\">\n",
       "      <th></th>\n",
       "      <th>raw_comment</th>\n",
       "      <th>label</th>\n",
       "      <th>normalize_comment</th>\n",
       "    </tr>\n",
       "  </thead>\n",
       "  <tbody>\n",
       "    <tr>\n",
       "      <th>277584</th>\n",
       "      <td>Hàng ok lắm có điều mùi nhựa nồng q...</td>\n",
       "      <td>1</td>\n",
       "      <td>hàng ok lắm có điều mùi nhựa nồng q...</td>\n",
       "    </tr>\n",
       "    <tr>\n",
       "      <th>277585</th>\n",
       "      <td>Mua size L hơi to nhưng vẫn ok</td>\n",
       "      <td>1</td>\n",
       "      <td>mua size l hơi to nhưng vẫn ok</td>\n",
       "    </tr>\n",
       "    <tr>\n",
       "      <th>277586</th>\n",
       "      <td>Giá tốt. Chất lượng chắc chắn, thi...</td>\n",
       "      <td>1</td>\n",
       "      <td>giá tốt. chất lượng chắc chắn, thi...</td>\n",
       "    </tr>\n",
       "    <tr>\n",
       "      <th>277587</th>\n",
       "      <td>Sản phẩm tốt dày chất lượng size m ...</td>\n",
       "      <td>1</td>\n",
       "      <td>sản phẩm tốt dày chất lượng size m ...</td>\n",
       "    </tr>\n",
       "    <tr>\n",
       "      <th>277588</th>\n",
       "      <td>Đẹp lắm ạ\\nCảm ơn shop, có điều bên ...</td>\n",
       "      <td>1</td>\n",
       "      <td>đẹp lắm ạ\\ncảm ơn shop, có điều bên ...</td>\n",
       "    </tr>\n",
       "  </tbody>\n",
       "</table>\n",
       "</div>"
      ],
      "text/plain": [
       "                                              raw_comment  label  \\\n",
       "277584  Hàng ok lắm có điều mùi nhựa nồng q...      1   \n",
       "277585                 Mua size L hơi to nhưng vẫn ok      1   \n",
       "277586  Giá tốt. Chất lượng chắc chắn, thi...      1   \n",
       "277587  Sản phẩm tốt dày chất lượng size m ...      1   \n",
       "277588  Đẹp lắm ạ\\nCảm ơn shop, có điều bên ...      1   \n",
       "\n",
       "                                        normalize_comment  \n",
       "277584  hàng ok lắm có điều mùi nhựa nồng q...  \n",
       "277585                 mua size l hơi to nhưng vẫn ok  \n",
       "277586  giá tốt. chất lượng chắc chắn, thi...  \n",
       "277587  sản phẩm tốt dày chất lượng size m ...  \n",
       "277588  đẹp lắm ạ\\ncảm ơn shop, có điều bên ...  "
      ]
     },
     "execution_count": 58,
     "metadata": {},
     "output_type": "execute_result"
    }
   ],
   "source": [
    "reviews = reviews[reviews['contain_url'] == 0]\n",
    "reviews = reviews.drop(columns=['contain_url']).reset_index(drop=True) # xóa cột `contain_url`\n",
    "\n",
    "Processor.printAfterProcess(reviews)\n",
    "reviews.tail()"
   ]
  },
  {
   "cell_type": "markdown",
   "metadata": {},
   "source": [
    "> **Nhận xét**\n",
    "> * Đa phần là các bình luận thuộc nhóm positive sẽ chứa các URL, cũng dễ hiểu vì họ quảng cáo mà 😅."
   ]
  },
  {
   "cell_type": "markdown",
   "metadata": {},
   "source": [
    "<hr>\n",
    "\n",
    "* Tiếp theo, ta cũng cần xóa các comment mà chữ IN HOA chiếm quá 50% độ dài comment, các comment này khả năng cao cũng là quảng cáo, vì người bán họ muốn làm nổi bật bình luận này lên so với các bình luận còn lại."
   ]
  },
  {
   "cell_type": "code",
   "execution_count": 60,
   "metadata": {},
   "outputs": [
    {
     "name": "stdout",
     "output_type": "stream",
     "text": [
      "Shape: (277589, 4)\n",
      "0    270936\n",
      "1      6653\n",
      "Name: contain_adv, dtype: int64\n"
     ]
    },
    {
     "data": {
      "text/html": [
       "<div>\n",
       "<style scoped>\n",
       "    .dataframe tbody tr th:only-of-type {\n",
       "        vertical-align: middle;\n",
       "    }\n",
       "\n",
       "    .dataframe tbody tr th {\n",
       "        vertical-align: top;\n",
       "    }\n",
       "\n",
       "    .dataframe thead th {\n",
       "        text-align: right;\n",
       "    }\n",
       "</style>\n",
       "<table border=\"1\" class=\"dataframe\">\n",
       "  <thead>\n",
       "    <tr style=\"text-align: right;\">\n",
       "      <th></th>\n",
       "      <th>raw_comment</th>\n",
       "      <th>label</th>\n",
       "      <th>normalize_comment</th>\n",
       "      <th>contain_adv</th>\n",
       "    </tr>\n",
       "  </thead>\n",
       "  <tbody>\n",
       "    <tr>\n",
       "      <th>277584</th>\n",
       "      <td>Hàng ok lắm có điều mùi nhựa nồng q...</td>\n",
       "      <td>1</td>\n",
       "      <td>hàng ok lắm có điều mùi nhựa nồng q...</td>\n",
       "      <td>0</td>\n",
       "    </tr>\n",
       "    <tr>\n",
       "      <th>277585</th>\n",
       "      <td>Mua size L hơi to nhưng vẫn ok</td>\n",
       "      <td>1</td>\n",
       "      <td>mua size l hơi to nhưng vẫn ok</td>\n",
       "      <td>0</td>\n",
       "    </tr>\n",
       "    <tr>\n",
       "      <th>277586</th>\n",
       "      <td>Giá tốt. Chất lượng chắc chắn, thi...</td>\n",
       "      <td>1</td>\n",
       "      <td>giá tốt. chất lượng chắc chắn, thi...</td>\n",
       "      <td>0</td>\n",
       "    </tr>\n",
       "    <tr>\n",
       "      <th>277587</th>\n",
       "      <td>Sản phẩm tốt dày chất lượng size m ...</td>\n",
       "      <td>1</td>\n",
       "      <td>sản phẩm tốt dày chất lượng size m ...</td>\n",
       "      <td>0</td>\n",
       "    </tr>\n",
       "    <tr>\n",
       "      <th>277588</th>\n",
       "      <td>Đẹp lắm ạ\\nCảm ơn shop, có điều bên ...</td>\n",
       "      <td>1</td>\n",
       "      <td>đẹp lắm ạ\\ncảm ơn shop, có điều bên ...</td>\n",
       "      <td>0</td>\n",
       "    </tr>\n",
       "  </tbody>\n",
       "</table>\n",
       "</div>"
      ],
      "text/plain": [
       "                                              raw_comment  label  \\\n",
       "277584  Hàng ok lắm có điều mùi nhựa nồng q...      1   \n",
       "277585                 Mua size L hơi to nhưng vẫn ok      1   \n",
       "277586  Giá tốt. Chất lượng chắc chắn, thi...      1   \n",
       "277587  Sản phẩm tốt dày chất lượng size m ...      1   \n",
       "277588  Đẹp lắm ạ\\nCảm ơn shop, có điều bên ...      1   \n",
       "\n",
       "                                        normalize_comment  contain_adv  \n",
       "277584  hàng ok lắm có điều mùi nhựa nồng q...            0  \n",
       "277585                 mua size l hơi to nhưng vẫn ok            0  \n",
       "277586  giá tốt. chất lượng chắc chắn, thi...            0  \n",
       "277587  sản phẩm tốt dày chất lượng size m ...            0  \n",
       "277588  đẹp lắm ạ\\ncảm ơn shop, có điều bên ...            0  "
      ]
     },
     "execution_count": 60,
     "metadata": {},
     "output_type": "execute_result"
    }
   ],
   "source": [
    "reviews['contain_adv'] = reviews['raw_comment'].apply(lambda cmt: Processor.containAdvertisement(cmt))\n",
    "\n",
    "Processor.printAfterProcess(reviews, 'contain_adv')\n",
    "reviews.tail()"
   ]
  },
  {
   "cell_type": "markdown",
   "metadata": {},
   "source": [
    "> **Nhận xét**\n",
    "> * Các mẫu tìm năng chứa quảng cáo khá cao, lên đến hơn 3000 sample. Ta có thể xóa chúng."
   ]
  },
  {
   "cell_type": "code",
   "execution_count": 61,
   "metadata": {},
   "outputs": [
    {
     "name": "stdout",
     "output_type": "stream",
     "text": [
      "Shape: (270936, 3)\n",
      "1    263084\n",
      "0      7852\n",
      "Name: label, dtype: int64\n"
     ]
    },
    {
     "data": {
      "text/html": [
       "<div>\n",
       "<style scoped>\n",
       "    .dataframe tbody tr th:only-of-type {\n",
       "        vertical-align: middle;\n",
       "    }\n",
       "\n",
       "    .dataframe tbody tr th {\n",
       "        vertical-align: top;\n",
       "    }\n",
       "\n",
       "    .dataframe thead th {\n",
       "        text-align: right;\n",
       "    }\n",
       "</style>\n",
       "<table border=\"1\" class=\"dataframe\">\n",
       "  <thead>\n",
       "    <tr style=\"text-align: right;\">\n",
       "      <th></th>\n",
       "      <th>raw_comment</th>\n",
       "      <th>label</th>\n",
       "      <th>normalize_comment</th>\n",
       "    </tr>\n",
       "  </thead>\n",
       "  <tbody>\n",
       "    <tr>\n",
       "      <th>270931</th>\n",
       "      <td>Hàng ok lắm có điều mùi nhựa nồng q...</td>\n",
       "      <td>1</td>\n",
       "      <td>hàng ok lắm có điều mùi nhựa nồng q...</td>\n",
       "    </tr>\n",
       "    <tr>\n",
       "      <th>270932</th>\n",
       "      <td>Mua size L hơi to nhưng vẫn ok</td>\n",
       "      <td>1</td>\n",
       "      <td>mua size l hơi to nhưng vẫn ok</td>\n",
       "    </tr>\n",
       "    <tr>\n",
       "      <th>270933</th>\n",
       "      <td>Giá tốt. Chất lượng chắc chắn, thi...</td>\n",
       "      <td>1</td>\n",
       "      <td>giá tốt. chất lượng chắc chắn, thi...</td>\n",
       "    </tr>\n",
       "    <tr>\n",
       "      <th>270934</th>\n",
       "      <td>Sản phẩm tốt dày chất lượng size m ...</td>\n",
       "      <td>1</td>\n",
       "      <td>sản phẩm tốt dày chất lượng size m ...</td>\n",
       "    </tr>\n",
       "    <tr>\n",
       "      <th>270935</th>\n",
       "      <td>Đẹp lắm ạ\\nCảm ơn shop, có điều bên ...</td>\n",
       "      <td>1</td>\n",
       "      <td>đẹp lắm ạ\\ncảm ơn shop, có điều bên ...</td>\n",
       "    </tr>\n",
       "  </tbody>\n",
       "</table>\n",
       "</div>"
      ],
      "text/plain": [
       "                                              raw_comment  label  \\\n",
       "270931  Hàng ok lắm có điều mùi nhựa nồng q...      1   \n",
       "270932                 Mua size L hơi to nhưng vẫn ok      1   \n",
       "270933  Giá tốt. Chất lượng chắc chắn, thi...      1   \n",
       "270934  Sản phẩm tốt dày chất lượng size m ...      1   \n",
       "270935  Đẹp lắm ạ\\nCảm ơn shop, có điều bên ...      1   \n",
       "\n",
       "                                        normalize_comment  \n",
       "270931  hàng ok lắm có điều mùi nhựa nồng q...  \n",
       "270932                 mua size l hơi to nhưng vẫn ok  \n",
       "270933  giá tốt. chất lượng chắc chắn, thi...  \n",
       "270934  sản phẩm tốt dày chất lượng size m ...  \n",
       "270935  đẹp lắm ạ\\ncảm ơn shop, có điều bên ...  "
      ]
     },
     "execution_count": 61,
     "metadata": {},
     "output_type": "execute_result"
    }
   ],
   "source": [
    "reviews = reviews[reviews['contain_adv'] == 0]\n",
    "reviews = reviews.drop(columns=['contain_adv']).reset_index(drop=True) # xóa cột `contain_adv`\n",
    "\n",
    "Processor.printAfterProcess(reviews)\n",
    "reviews.tail()"
   ]
  },
  {
   "cell_type": "markdown",
   "metadata": {},
   "source": [
    "> **Nhận xét**\n",
    "> * Lại một lần nữa các comment có khả năng cao là quảng cáo này lại đa phần là thuộc nhóm positive."
   ]
  },
  {
   "cell_type": "markdown",
   "metadata": {},
   "source": [
    "<hr>\n",
    "\n",
    "* Nhìn qua các comment, ta sẽ thấy có các comment chứa emoji như hình dưới đây:<br>\n",
    "  ![](./images/05.png)\n",
    "\n",
    "* Đây là \"vốn quý\" góp phần làm tăng sức mạnh cho model, nếu ta thực hiện bước loại bỏ các kí tự đặc biệt trước khi ta tách các emoji ra, thì ta đã vô tình xóa luôn các emoji này, vì các emoji thực chất được xây dựng dựa trên các kí tự đặc biệt.\n",
    "* Như hình trên, rõ ràng ta thấy được emoji góp phần ta hiểu được một comment là positive hay negative.\n",
    "* Ta sẽ sử dụng một gói của python là `emojis`:\n",
    "  ```shell\n",
    "  pip3 install emojis\n",
    "  ```\n",
    "  gói này sẽ giúp ta tách các emoji ra khỏi bình luận.\n",
    "* Ta sẽ chứa toàn bộ emoji của một comment qua cột tương ứng là `emoji`"
   ]
  },
  {
   "cell_type": "code",
   "execution_count": 63,
   "metadata": {},
   "outputs": [
    {
     "data": {
      "text/html": [
       "<div>\n",
       "<style scoped>\n",
       "    .dataframe tbody tr th:only-of-type {\n",
       "        vertical-align: middle;\n",
       "    }\n",
       "\n",
       "    .dataframe tbody tr th {\n",
       "        vertical-align: top;\n",
       "    }\n",
       "\n",
       "    .dataframe thead th {\n",
       "        text-align: right;\n",
       "    }\n",
       "</style>\n",
       "<table border=\"1\" class=\"dataframe\">\n",
       "  <thead>\n",
       "    <tr style=\"text-align: right;\">\n",
       "      <th></th>\n",
       "      <th>raw_comment</th>\n",
       "      <th>label</th>\n",
       "      <th>normalize_comment</th>\n",
       "      <th>emoji</th>\n",
       "    </tr>\n",
       "  </thead>\n",
       "  <tbody>\n",
       "    <tr>\n",
       "      <th>270931</th>\n",
       "      <td>Hàng ok lắm có điều mùi nhựa nồng q...</td>\n",
       "      <td>1</td>\n",
       "      <td>hàng ok lắm có điều mùi nhựa nồng q...</td>\n",
       "      <td></td>\n",
       "    </tr>\n",
       "    <tr>\n",
       "      <th>270932</th>\n",
       "      <td>Mua size L hơi to nhưng vẫn ok</td>\n",
       "      <td>1</td>\n",
       "      <td>mua size l hơi to nhưng vẫn ok</td>\n",
       "      <td></td>\n",
       "    </tr>\n",
       "    <tr>\n",
       "      <th>270933</th>\n",
       "      <td>Giá tốt. Chất lượng chắc chắn, thi...</td>\n",
       "      <td>1</td>\n",
       "      <td>giá tốt. chất lượng chắc chắn, thi...</td>\n",
       "      <td></td>\n",
       "    </tr>\n",
       "    <tr>\n",
       "      <th>270934</th>\n",
       "      <td>Sản phẩm tốt dày chất lượng size m ...</td>\n",
       "      <td>1</td>\n",
       "      <td>sản phẩm tốt dày chất lượng size m ...</td>\n",
       "      <td></td>\n",
       "    </tr>\n",
       "    <tr>\n",
       "      <th>270935</th>\n",
       "      <td>Đẹp lắm ạ\\nCảm ơn shop, có điều bên ...</td>\n",
       "      <td>1</td>\n",
       "      <td>đẹp lắm ạ\\ncảm ơn shop, có điều bên ...</td>\n",
       "      <td></td>\n",
       "    </tr>\n",
       "  </tbody>\n",
       "</table>\n",
       "</div>"
      ],
      "text/plain": [
       "                                              raw_comment  label  \\\n",
       "270931  Hàng ok lắm có điều mùi nhựa nồng q...      1   \n",
       "270932                 Mua size L hơi to nhưng vẫn ok      1   \n",
       "270933  Giá tốt. Chất lượng chắc chắn, thi...      1   \n",
       "270934  Sản phẩm tốt dày chất lượng size m ...      1   \n",
       "270935  Đẹp lắm ạ\\nCảm ơn shop, có điều bên ...      1   \n",
       "\n",
       "                                        normalize_comment emoji  \n",
       "270931  hàng ok lắm có điều mùi nhựa nồng q...        \n",
       "270932                 mua size l hơi to nhưng vẫn ok        \n",
       "270933  giá tốt. chất lượng chắc chắn, thi...        \n",
       "270934  sản phẩm tốt dày chất lượng size m ...        \n",
       "270935  đẹp lắm ạ\\ncảm ơn shop, có điều bên ...        "
      ]
     },
     "execution_count": 63,
     "metadata": {},
     "output_type": "execute_result"
    }
   ],
   "source": [
    "reviews['emoji'] = reviews['raw_comment'].apply(lambda cmt: Processor.extractEmoji(cmt))\n",
    "\n",
    "reviews.tail()"
   ]
  },
  {
   "cell_type": "code",
   "execution_count": 64,
   "metadata": {},
   "outputs": [
    {
     "data": {
      "text/plain": [
       "',,,,,,,,,,😻,,,,👍,,,,,,,✨,,,,,,,,,,,,,😜,,,,,,,,,❤️,,🤣,,,👍,,,,😘,,😘,,,,,,,,,,,,,👍 ❤️,,👍 ❤️,,,❤️,\\U0001f971,🎉,,❤️,\\U0001f971,🎉,,,,,,,,,❤️,,,😅,,,💜 \\U0001f970 🖤,,,💜 \\U0001f970 🖤,,🙆,,🙆,,,,,,,,,,,,\\U0001f97a,,,,,,,,,,,,,,,😊 😅 ❤️ 😀 \\U0001f92a,,,,,♂️ 🤦 🙏,,,,,,,,,,'"
      ]
     },
     "execution_count": 64,
     "metadata": {},
     "output_type": "execute_result"
    }
   ],
   "source": [
    "\",\".join(reviews['emoji'])[:200]"
   ]
  },
  {
   "cell_type": "markdown",
   "metadata": {},
   "source": [
    "<hr>\n",
    "\n",
    "* Tiếp theo, ta sẽ loại bỏ dấu câu, kí tự đặc biệt"
   ]
  },
  {
   "cell_type": "code",
   "execution_count": 65,
   "metadata": {},
   "outputs": [
    {
     "data": {
      "text/html": [
       "<div>\n",
       "<style scoped>\n",
       "    .dataframe tbody tr th:only-of-type {\n",
       "        vertical-align: middle;\n",
       "    }\n",
       "\n",
       "    .dataframe tbody tr th {\n",
       "        vertical-align: top;\n",
       "    }\n",
       "\n",
       "    .dataframe thead th {\n",
       "        text-align: right;\n",
       "    }\n",
       "</style>\n",
       "<table border=\"1\" class=\"dataframe\">\n",
       "  <thead>\n",
       "    <tr style=\"text-align: right;\">\n",
       "      <th></th>\n",
       "      <th>raw_comment</th>\n",
       "      <th>label</th>\n",
       "      <th>normalize_comment</th>\n",
       "      <th>emoji</th>\n",
       "    </tr>\n",
       "  </thead>\n",
       "  <tbody>\n",
       "    <tr>\n",
       "      <th>270931</th>\n",
       "      <td>Hàng ok lắm có điều mùi nhựa nồng q...</td>\n",
       "      <td>1</td>\n",
       "      <td>hàng ok lắm có điều mùi nhựa nồng q...</td>\n",
       "      <td></td>\n",
       "    </tr>\n",
       "    <tr>\n",
       "      <th>270932</th>\n",
       "      <td>Mua size L hơi to nhưng vẫn ok</td>\n",
       "      <td>1</td>\n",
       "      <td>mua size l hơi to nhưng vẫn ok</td>\n",
       "      <td></td>\n",
       "    </tr>\n",
       "    <tr>\n",
       "      <th>270933</th>\n",
       "      <td>Giá tốt. Chất lượng chắc chắn, thi...</td>\n",
       "      <td>1</td>\n",
       "      <td>giá tốt chất lượng chắc chắn thiê...</td>\n",
       "      <td></td>\n",
       "    </tr>\n",
       "    <tr>\n",
       "      <th>270934</th>\n",
       "      <td>Sản phẩm tốt dày chất lượng size m ...</td>\n",
       "      <td>1</td>\n",
       "      <td>sản phẩm tốt dày chất lượng size m ...</td>\n",
       "      <td></td>\n",
       "    </tr>\n",
       "    <tr>\n",
       "      <th>270935</th>\n",
       "      <td>Đẹp lắm ạ\\nCảm ơn shop, có điều bên ...</td>\n",
       "      <td>1</td>\n",
       "      <td>đẹp lắm ạ cảm ơn shop có điều bên ng...</td>\n",
       "      <td></td>\n",
       "    </tr>\n",
       "  </tbody>\n",
       "</table>\n",
       "</div>"
      ],
      "text/plain": [
       "                                              raw_comment  label  \\\n",
       "270931  Hàng ok lắm có điều mùi nhựa nồng q...      1   \n",
       "270932                 Mua size L hơi to nhưng vẫn ok      1   \n",
       "270933  Giá tốt. Chất lượng chắc chắn, thi...      1   \n",
       "270934  Sản phẩm tốt dày chất lượng size m ...      1   \n",
       "270935  Đẹp lắm ạ\\nCảm ơn shop, có điều bên ...      1   \n",
       "\n",
       "                                        normalize_comment emoji  \n",
       "270931  hàng ok lắm có điều mùi nhựa nồng q...        \n",
       "270932                 mua size l hơi to nhưng vẫn ok        \n",
       "270933  giá tốt chất lượng chắc chắn thiê...        \n",
       "270934  sản phẩm tốt dày chất lượng size m ...        \n",
       "270935  đẹp lắm ạ cảm ơn shop có điều bên ng...        "
      ]
     },
     "execution_count": 65,
     "metadata": {},
     "output_type": "execute_result"
    }
   ],
   "source": [
    "reviews['normalize_comment'] = reviews['normalize_comment'].apply(lambda cmt: Processor.removeSpecialLetters(cmt.lower()))\n",
    "\n",
    "reviews.tail()"
   ]
  },
  {
   "cell_type": "markdown",
   "metadata": {},
   "source": [
    "<hr>\n",
    "\n",
    "* Tiếp theo, ta cần chuẩn lại các từ bị dupplicate như: _chờiiiiiii ơiiiiiii, xinhhhhhhh quá, đẹp xỉuuuuuuuuuuuu_ thành _chời ơi, xinh quá, đẹp xỉu_.\n",
    "* Tuy nhiên có một vấn đề xảy ra, giả sử trong comment có các từ tiếng anh như \"_feedback_\", thì nó sẽ thành \"_fedback_\", nên ta sẽ thực hiện bước này ở phần sau:\n",
    "\n",
    "```python\n",
    "reviews['normalize_comment'] = reviews['normalize_comment'].apply(lambda cmt: Processor.removeDuplicateLetters(cmt))\n",
    "\n",
    "```"
   ]
  },
  {
   "cell_type": "markdown",
   "metadata": {},
   "source": [
    "<hr>\n",
    "\n",
    "* Tiếp theo, chúng ta sẽ chuẩn lại một vài từ viết tắt cơ bản.\n",
    "* File `modules/dependencies/abbreviate.txt` chứa các từ viết tắt cơ bản mà giới trẻ hay dùng comment, ta có thể bổ sung theo thời gian."
   ]
  },
  {
   "cell_type": "code",
   "execution_count": 68,
   "metadata": {},
   "outputs": [
    {
     "data": {
      "text/plain": [
       "'ok'"
      ]
     },
     "execution_count": 68,
     "metadata": {},
     "output_type": "execute_result"
    }
   ],
   "source": [
    "# xây dựng dictionary cho các từ viết tắt\n",
    "abbreviate = Utils.buildDictionaryFromFile(\"./modules/dependencies/abbreviate.txt\")\n",
    "\n",
    "# test\n",
    "abbreviate['okela']"
   ]
  },
  {
   "cell_type": "code",
   "execution_count": 69,
   "metadata": {},
   "outputs": [
    {
     "data": {
      "text/html": [
       "<div>\n",
       "<style scoped>\n",
       "    .dataframe tbody tr th:only-of-type {\n",
       "        vertical-align: middle;\n",
       "    }\n",
       "\n",
       "    .dataframe tbody tr th {\n",
       "        vertical-align: top;\n",
       "    }\n",
       "\n",
       "    .dataframe thead th {\n",
       "        text-align: right;\n",
       "    }\n",
       "</style>\n",
       "<table border=\"1\" class=\"dataframe\">\n",
       "  <thead>\n",
       "    <tr style=\"text-align: right;\">\n",
       "      <th></th>\n",
       "      <th>raw_comment</th>\n",
       "      <th>label</th>\n",
       "      <th>normalize_comment</th>\n",
       "      <th>emoji</th>\n",
       "    </tr>\n",
       "  </thead>\n",
       "  <tbody>\n",
       "    <tr>\n",
       "      <th>270931</th>\n",
       "      <td>Hàng ok lắm có điều mùi nhựa nồng q...</td>\n",
       "      <td>1</td>\n",
       "      <td>hàng ok lắm có điều mùi nhựa nồng q...</td>\n",
       "      <td></td>\n",
       "    </tr>\n",
       "    <tr>\n",
       "      <th>270932</th>\n",
       "      <td>Mua size L hơi to nhưng vẫn ok</td>\n",
       "      <td>1</td>\n",
       "      <td>mua size l hơi to nhưng vẫn ok</td>\n",
       "      <td></td>\n",
       "    </tr>\n",
       "    <tr>\n",
       "      <th>270933</th>\n",
       "      <td>Giá tốt. Chất lượng chắc chắn, thi...</td>\n",
       "      <td>1</td>\n",
       "      <td>giá tốt chất lượng chắc chắn thiê...</td>\n",
       "      <td></td>\n",
       "    </tr>\n",
       "    <tr>\n",
       "      <th>270934</th>\n",
       "      <td>Sản phẩm tốt dày chất lượng size m ...</td>\n",
       "      <td>1</td>\n",
       "      <td>sản phẩm tốt dày chất lượng size mi...</td>\n",
       "      <td></td>\n",
       "    </tr>\n",
       "    <tr>\n",
       "      <th>270935</th>\n",
       "      <td>Đẹp lắm ạ\\nCảm ơn shop, có điều bên ...</td>\n",
       "      <td>1</td>\n",
       "      <td>đẹp lắm ạ cảm ơn shop có điều bên ng...</td>\n",
       "      <td></td>\n",
       "    </tr>\n",
       "  </tbody>\n",
       "</table>\n",
       "</div>"
      ],
      "text/plain": [
       "                                              raw_comment  label  \\\n",
       "270931  Hàng ok lắm có điều mùi nhựa nồng q...      1   \n",
       "270932                 Mua size L hơi to nhưng vẫn ok      1   \n",
       "270933  Giá tốt. Chất lượng chắc chắn, thi...      1   \n",
       "270934  Sản phẩm tốt dày chất lượng size m ...      1   \n",
       "270935  Đẹp lắm ạ\\nCảm ơn shop, có điều bên ...      1   \n",
       "\n",
       "                                        normalize_comment emoji  \n",
       "270931  hàng ok lắm có điều mùi nhựa nồng q...        \n",
       "270932                 mua size l hơi to nhưng vẫn ok        \n",
       "270933  giá tốt chất lượng chắc chắn thiê...        \n",
       "270934  sản phẩm tốt dày chất lượng size mi...        \n",
       "270935  đẹp lắm ạ cảm ơn shop có điều bên ng...        "
      ]
     },
     "execution_count": 69,
     "metadata": {},
     "output_type": "execute_result"
    }
   ],
   "source": [
    "reviews['normalize_comment'] = reviews['normalize_comment'].apply(lambda cmt: Processor.replaceWithDictionary(cmt, abbreviate))\n",
    "\n",
    "reviews.tail()"
   ]
  },
  {
   "cell_type": "markdown",
   "metadata": {},
   "source": [
    "<hr>\n",
    "\n",
    "* Bây giờ ta sẽ tiến hành xóa các từ vô nghĩa trong comment, ví dụ như hình dưới đây:<br>\n",
    "  ![](./images/06.png)\n",
    "  những bình luận này mặc dù thuộc lớp positive nhưng nó là các noise sample, có thể các comment này dùng để comment cho có để nhận shopee xu khi đánh giá sản phẩm.\n",
    "* Kế tiếp, ta nên xóa các sample mà khả năng cao ko là tiếng việt, vì sao ta làm bước này, đơn giản thôi đây là shopee việt nam, và các comment cố ý bằng tiếng anh, tiếng hàn, tiếng trung của các \"thánh làm màu\" sẽ là các noise sample khiến model ta bị giảm hiệu năng.\n",
    "* Nhưng làm sao ta có thể thực hiện điều này, cách đơn giản nhất là ta có thể sử dụng các package như `textblob`, `googletrans`,... các package này chứa các function giúp ta detect language cho text, tuy nhiên hạn chế là chúng chỉ cho tối đa khoảng 200 request một ngày thôi, và số mẫu của chúng ta hiện tại là quá lớn. Ở đây ta có file `modules/dependencies/vocabulary.txt` chứa hơn 17000 từ đơn phổ biến của tiếng việt.\n",
    "* Vậy cách đơn giản hơn là ta có thể xây dựng một dictionary chứa các từ đơn của tiếng việt, với mỗi comment, nếu số lượng từ ko tìm thấy trong dictionary này lớn hơn số từ được tìm thấy trong dictionary thì khả năng cao đây là một comment làm màu.\n",
    "* Tuy nhiên, vẫn có một vài từ tiếng anh mà ta cần giữ lại như shipper, ta sẽ sử dụng package `enchant` để check một từ có phải là từ tiếng anh hay không.\n",
    "  ```shell\n",
    "  pip3 install pyenchant\n",
    "  ```\n",
    "* Ở các bước phía trên, ta đã đề cập đến việc xóa các từ bị dupplicate kí tự, ta sẽ thực hiện nó ở trong bước này."
   ]
  },
  {
   "cell_type": "code",
   "execution_count": 82,
   "metadata": {},
   "outputs": [
    {
     "name": "stdout",
     "output_type": "stream",
     "text": [
      "Requirement already satisfied: pyenchant in /Library/Frameworks/Python.framework/Versions/3.6/lib/python3.6/site-packages (3.2.2)\n"
     ]
    }
   ],
   "source": [
    "!  pip3 install pyenchant"
   ]
  },
  {
   "cell_type": "code",
   "execution_count": 86,
   "metadata": {},
   "outputs": [],
   "source": [
    "# hơn 17 ngàn từ đơn trong tiêng việt\n",
    "vocabularies = Utils.buildDictionaryFromFile('./modules/dependencies/vocabulary.txt', True)\n",
    "english_voca = enchant.Dict('en_US') # english if a word is english"
   ]
  },
  {
   "cell_type": "code",
   "execution_count": 87,
   "metadata": {},
   "outputs": [
    {
     "data": {
      "text/html": [
       "<div>\n",
       "<style scoped>\n",
       "    .dataframe tbody tr th:only-of-type {\n",
       "        vertical-align: middle;\n",
       "    }\n",
       "\n",
       "    .dataframe tbody tr th {\n",
       "        vertical-align: top;\n",
       "    }\n",
       "\n",
       "    .dataframe thead th {\n",
       "        text-align: right;\n",
       "    }\n",
       "</style>\n",
       "<table border=\"1\" class=\"dataframe\">\n",
       "  <thead>\n",
       "    <tr style=\"text-align: right;\">\n",
       "      <th></th>\n",
       "      <th>raw_comment</th>\n",
       "      <th>label</th>\n",
       "      <th>normalize_comment</th>\n",
       "      <th>emoji</th>\n",
       "    </tr>\n",
       "  </thead>\n",
       "  <tbody>\n",
       "    <tr>\n",
       "      <th>270931</th>\n",
       "      <td>Hàng ok lắm có điều mùi nhựa nồng q...</td>\n",
       "      <td>1</td>\n",
       "      <td>hàng ok lắm có điều mùi nhựa nồng q...</td>\n",
       "      <td></td>\n",
       "    </tr>\n",
       "    <tr>\n",
       "      <th>270932</th>\n",
       "      <td>Mua size L hơi to nhưng vẫn ok</td>\n",
       "      <td>1</td>\n",
       "      <td>mua size l hơi to nhưng vẫn ok</td>\n",
       "      <td></td>\n",
       "    </tr>\n",
       "    <tr>\n",
       "      <th>270933</th>\n",
       "      <td>Giá tốt. Chất lượng chắc chắn, thi...</td>\n",
       "      <td>1</td>\n",
       "      <td>giá tốt chất lượng chắc chắn thiê...</td>\n",
       "      <td></td>\n",
       "    </tr>\n",
       "    <tr>\n",
       "      <th>270934</th>\n",
       "      <td>Sản phẩm tốt dày chất lượng size m ...</td>\n",
       "      <td>1</td>\n",
       "      <td>sản phẩm tốt dày chất lượng size mi...</td>\n",
       "      <td></td>\n",
       "    </tr>\n",
       "    <tr>\n",
       "      <th>270935</th>\n",
       "      <td>Đẹp lắm ạ\\nCảm ơn shop, có điều bên ...</td>\n",
       "      <td>1</td>\n",
       "      <td>đẹp lắm ạ cảm ơn shop có điều bên ng...</td>\n",
       "      <td></td>\n",
       "    </tr>\n",
       "  </tbody>\n",
       "</table>\n",
       "</div>"
      ],
      "text/plain": [
       "                                              raw_comment  label  \\\n",
       "270931  Hàng ok lắm có điều mùi nhựa nồng q...      1   \n",
       "270932                 Mua size L hơi to nhưng vẫn ok      1   \n",
       "270933  Giá tốt. Chất lượng chắc chắn, thi...      1   \n",
       "270934  Sản phẩm tốt dày chất lượng size m ...      1   \n",
       "270935  Đẹp lắm ạ\\nCảm ơn shop, có điều bên ...      1   \n",
       "\n",
       "                                        normalize_comment emoji  \n",
       "270931  hàng ok lắm có điều mùi nhựa nồng q...        \n",
       "270932                 mua size l hơi to nhưng vẫn ok        \n",
       "270933  giá tốt chất lượng chắc chắn thiê...        \n",
       "270934  sản phẩm tốt dày chất lượng size mi...        \n",
       "270935  đẹp lắm ạ cảm ơn shop có điều bên ng...        "
      ]
     },
     "execution_count": 87,
     "metadata": {},
     "output_type": "execute_result"
    }
   ],
   "source": [
    "reviews['normalize_comment'] = reviews['normalize_comment'].apply(lambda cmt: Processor.removeNoiseWord(cmt, vocabularies, english_voca))\n",
    "\n",
    "reviews.tail()"
   ]
  },
  {
   "cell_type": "markdown",
   "metadata": {},
   "source": [
    "<hr>\n",
    "\n",
    "* Tiếp theo ta sẽ remove stopword, chúng ta sẽ sử dụng stopword trong file `modules/dependencies/stopwords.txt`. Ta không nên sử dụng các stopword được build sẵn trên mạng nhất là cho tiếng việt, vì chưa chắc các từ này đã hợp với dữ liệu hiện tại của chúng ta.\n",
    "* Ví dụ nhiều stopword set loại bỏ từ \"**nhưng**\", tuy nhiên từ này khả năng cao là quan trọng, giả sử ta có câu này:\n",
    "  * _shop giao hàng chậm **nhưng** giao đúng hàng, ủng hộ shop_, thì nhờ từ **nhưng** này mà model ta có khả năng phân biệt được nó là positive hay negative.\n",
    "* Ngoài ra với một file txt như vậy, ta có thể bổ sung stopword sau này."
   ]
  },
  {
   "cell_type": "code",
   "execution_count": 95,
   "metadata": {},
   "outputs": [],
   "source": [
    "stopwords = Utils.buildListFromFile(\"./modules/dependencies/stopwords.txt\", encoding='utf-8')"
   ]
  },
  {
   "cell_type": "code",
   "execution_count": 96,
   "metadata": {},
   "outputs": [
    {
     "data": {
      "text/html": [
       "<div>\n",
       "<style scoped>\n",
       "    .dataframe tbody tr th:only-of-type {\n",
       "        vertical-align: middle;\n",
       "    }\n",
       "\n",
       "    .dataframe tbody tr th {\n",
       "        vertical-align: top;\n",
       "    }\n",
       "\n",
       "    .dataframe thead th {\n",
       "        text-align: right;\n",
       "    }\n",
       "</style>\n",
       "<table border=\"1\" class=\"dataframe\">\n",
       "  <thead>\n",
       "    <tr style=\"text-align: right;\">\n",
       "      <th></th>\n",
       "      <th>raw_comment</th>\n",
       "      <th>label</th>\n",
       "      <th>normalize_comment</th>\n",
       "      <th>emoji</th>\n",
       "    </tr>\n",
       "  </thead>\n",
       "  <tbody>\n",
       "    <tr>\n",
       "      <th>270931</th>\n",
       "      <td>Hàng ok lắm có điều mùi nhựa nồng q...</td>\n",
       "      <td>1</td>\n",
       "      <td>hàng ok lắm có điều mùi nhựa nồng q...</td>\n",
       "      <td></td>\n",
       "    </tr>\n",
       "    <tr>\n",
       "      <th>270932</th>\n",
       "      <td>Mua size L hơi to nhưng vẫn ok</td>\n",
       "      <td>1</td>\n",
       "      <td>mua size l hơi to nhưng vẫn ok</td>\n",
       "      <td></td>\n",
       "    </tr>\n",
       "    <tr>\n",
       "      <th>270933</th>\n",
       "      <td>Giá tốt. Chất lượng chắc chắn, thi...</td>\n",
       "      <td>1</td>\n",
       "      <td>giá tốt chất lượng chắc chắn thiê...</td>\n",
       "      <td></td>\n",
       "    </tr>\n",
       "    <tr>\n",
       "      <th>270934</th>\n",
       "      <td>Sản phẩm tốt dày chất lượng size m ...</td>\n",
       "      <td>1</td>\n",
       "      <td>sản phẩm tốt dày chất lượng size nh...</td>\n",
       "      <td></td>\n",
       "    </tr>\n",
       "    <tr>\n",
       "      <th>270935</th>\n",
       "      <td>Đẹp lắm ạ\\nCảm ơn shop, có điều bên ...</td>\n",
       "      <td>1</td>\n",
       "      <td>đẹp lắm cảm ơn có điều bên ngoài dí...</td>\n",
       "      <td></td>\n",
       "    </tr>\n",
       "  </tbody>\n",
       "</table>\n",
       "</div>"
      ],
      "text/plain": [
       "                                              raw_comment  label  \\\n",
       "270931  Hàng ok lắm có điều mùi nhựa nồng q...      1   \n",
       "270932                 Mua size L hơi to nhưng vẫn ok      1   \n",
       "270933  Giá tốt. Chất lượng chắc chắn, thi...      1   \n",
       "270934  Sản phẩm tốt dày chất lượng size m ...      1   \n",
       "270935  Đẹp lắm ạ\\nCảm ơn shop, có điều bên ...      1   \n",
       "\n",
       "                                        normalize_comment emoji  \n",
       "270931  hàng ok lắm có điều mùi nhựa nồng q...        \n",
       "270932                 mua size l hơi to nhưng vẫn ok        \n",
       "270933  giá tốt chất lượng chắc chắn thiê...        \n",
       "270934  sản phẩm tốt dày chất lượng size nh...        \n",
       "270935  đẹp lắm cảm ơn có điều bên ngoài dí...        "
      ]
     },
     "execution_count": 96,
     "metadata": {},
     "output_type": "execute_result"
    }
   ],
   "source": [
    "reviews['normalize_comment'] = reviews['normalize_comment'].apply(lambda cmt: Processor.removeStopwords(cmt, stopwords))\n",
    "\n",
    "reviews.tail()"
   ]
  },
  {
   "cell_type": "markdown",
   "metadata": {},
   "source": [
    "<hr>\n",
    "\n",
    "* Tiếp theo, ta loại bỏ các empty và duplicate `normalize_comment`."
   ]
  },
  {
   "cell_type": "code",
   "execution_count": 97,
   "metadata": {},
   "outputs": [
    {
     "name": "stdout",
     "output_type": "stream",
     "text": [
      "Shape: (217218, 4)\n",
      "1    210117\n",
      "0      7101\n",
      "Name: label, dtype: int64\n"
     ]
    },
    {
     "data": {
      "text/html": [
       "<div>\n",
       "<style scoped>\n",
       "    .dataframe tbody tr th:only-of-type {\n",
       "        vertical-align: middle;\n",
       "    }\n",
       "\n",
       "    .dataframe tbody tr th {\n",
       "        vertical-align: top;\n",
       "    }\n",
       "\n",
       "    .dataframe thead th {\n",
       "        text-align: right;\n",
       "    }\n",
       "</style>\n",
       "<table border=\"1\" class=\"dataframe\">\n",
       "  <thead>\n",
       "    <tr style=\"text-align: right;\">\n",
       "      <th></th>\n",
       "      <th>raw_comment</th>\n",
       "      <th>label</th>\n",
       "      <th>normalize_comment</th>\n",
       "      <th>emoji</th>\n",
       "    </tr>\n",
       "  </thead>\n",
       "  <tbody>\n",
       "    <tr>\n",
       "      <th>217213</th>\n",
       "      <td>Hàng ok lắm có điều mùi nhựa nồng q...</td>\n",
       "      <td>1</td>\n",
       "      <td>hàng ok lắm có điều mùi nhựa nồng q...</td>\n",
       "      <td></td>\n",
       "    </tr>\n",
       "    <tr>\n",
       "      <th>217214</th>\n",
       "      <td>Mua size L hơi to nhưng vẫn ok</td>\n",
       "      <td>1</td>\n",
       "      <td>mua size l hơi to nhưng vẫn ok</td>\n",
       "      <td></td>\n",
       "    </tr>\n",
       "    <tr>\n",
       "      <th>217215</th>\n",
       "      <td>Giá tốt. Chất lượng chắc chắn, thi...</td>\n",
       "      <td>1</td>\n",
       "      <td>giá tốt chất lượng chắc chắn thiê...</td>\n",
       "      <td></td>\n",
       "    </tr>\n",
       "    <tr>\n",
       "      <th>217216</th>\n",
       "      <td>Sản phẩm tốt dày chất lượng size m ...</td>\n",
       "      <td>1</td>\n",
       "      <td>sản phẩm tốt dày chất lượng size nh...</td>\n",
       "      <td></td>\n",
       "    </tr>\n",
       "    <tr>\n",
       "      <th>217217</th>\n",
       "      <td>Đẹp lắm ạ\\nCảm ơn shop, có điều bên ...</td>\n",
       "      <td>1</td>\n",
       "      <td>đẹp lắm cảm ơn có điều bên ngoài dí...</td>\n",
       "      <td></td>\n",
       "    </tr>\n",
       "  </tbody>\n",
       "</table>\n",
       "</div>"
      ],
      "text/plain": [
       "                                              raw_comment  label  \\\n",
       "217213  Hàng ok lắm có điều mùi nhựa nồng q...      1   \n",
       "217214                 Mua size L hơi to nhưng vẫn ok      1   \n",
       "217215  Giá tốt. Chất lượng chắc chắn, thi...      1   \n",
       "217216  Sản phẩm tốt dày chất lượng size m ...      1   \n",
       "217217  Đẹp lắm ạ\\nCảm ơn shop, có điều bên ...      1   \n",
       "\n",
       "                                        normalize_comment emoji  \n",
       "217213  hàng ok lắm có điều mùi nhựa nồng q...        \n",
       "217214                 mua size l hơi to nhưng vẫn ok        \n",
       "217215  giá tốt chất lượng chắc chắn thiê...        \n",
       "217216  sản phẩm tốt dày chất lượng size nh...        \n",
       "217217  đẹp lắm cảm ơn có điều bên ngoài dí...        "
      ]
     },
     "execution_count": 97,
     "metadata": {},
     "output_type": "execute_result"
    }
   ],
   "source": [
    "reviews = Processor.removeEmptyOrDuplicateComment(reviews)\n",
    "\n",
    "Processor.printAfterProcess(reviews)\n",
    "reviews.tail()"
   ]
  },
  {
   "cell_type": "markdown",
   "metadata": {},
   "source": [
    "<hr>\n",
    "\n",
    "* Train test split, ta thấy rằng giữa hai nhóm positive và negative có chênh lệnh lớn, nên tập train data của ta sẽ bằng $0.8 * \\min(\\mathrm{size}(positive), \\mathrm{size}(negative)) * 2$."
   ]
  },
  {
   "cell_type": "code",
   "execution_count": 98,
   "metadata": {},
   "outputs": [
    {
     "data": {
      "text/plain": [
       "7101"
      ]
     },
     "execution_count": 98,
     "metadata": {},
     "output_type": "execute_result"
    }
   ],
   "source": [
    "half_min_size = min(reviews['label'].value_counts())\n",
    "\n",
    "half_min_size"
   ]
  },
  {
   "cell_type": "code",
   "execution_count": 99,
   "metadata": {},
   "outputs": [],
   "source": [
    "reviews_positive = reviews[reviews['label'] == 1]\n",
    "reviews_negative = reviews[reviews['label'] == 0]\n",
    "\n",
    "reviews_positive = shuffle(reviews_positive)\n",
    "reviews_positive = reviews_positive.reset_index(drop=True)"
   ]
  },
  {
   "cell_type": "code",
   "execution_count": 100,
   "metadata": {},
   "outputs": [
    {
     "data": {
      "text/plain": [
       "[9180, 192424, 74152, 113600, 193900, 160773, 175237, 22706, 93840, 161098]"
      ]
     },
     "execution_count": 100,
     "metadata": {},
     "output_type": "execute_result"
    }
   ],
   "source": [
    "positive_index = random.sample(range(0, reviews_positive.shape[0]), half_min_size)\n",
    "\n",
    "positive_index[:10]"
   ]
  },
  {
   "cell_type": "code",
   "execution_count": 101,
   "metadata": {},
   "outputs": [
    {
     "data": {
      "text/html": [
       "<div>\n",
       "<style scoped>\n",
       "    .dataframe tbody tr th:only-of-type {\n",
       "        vertical-align: middle;\n",
       "    }\n",
       "\n",
       "    .dataframe tbody tr th {\n",
       "        vertical-align: top;\n",
       "    }\n",
       "\n",
       "    .dataframe thead th {\n",
       "        text-align: right;\n",
       "    }\n",
       "</style>\n",
       "<table border=\"1\" class=\"dataframe\">\n",
       "  <thead>\n",
       "    <tr style=\"text-align: right;\">\n",
       "      <th></th>\n",
       "      <th>raw_comment</th>\n",
       "      <th>label</th>\n",
       "      <th>normalize_comment</th>\n",
       "      <th>emoji</th>\n",
       "    </tr>\n",
       "  </thead>\n",
       "  <tbody>\n",
       "    <tr>\n",
       "      <th>9180</th>\n",
       "      <td>Giao đúng mẫu đúng số lượng đã đặt...</td>\n",
       "      <td>1</td>\n",
       "      <td>giao đúng mẫu đúng số lượng đặt cha...</td>\n",
       "      <td></td>\n",
       "    </tr>\n",
       "    <tr>\n",
       "      <th>192424</th>\n",
       "      <td>Sản phẩm chất lượng mặc dù có hơi...</td>\n",
       "      <td>1</td>\n",
       "      <td>sản phẩm chất lượng mặc dù có hơi...</td>\n",
       "      <td></td>\n",
       "    </tr>\n",
       "    <tr>\n",
       "      <th>74152</th>\n",
       "      <td>Hàng đẹp giá cả phải chăng chất vải k...</td>\n",
       "      <td>1</td>\n",
       "      <td>hàng đẹp giá cả phải chăng chất vải k...</td>\n",
       "      <td></td>\n",
       "    </tr>\n",
       "    <tr>\n",
       "      <th>113600</th>\n",
       "      <td>Hàng đẹp, chất lượng lắm ạ. Cực ki...</td>\n",
       "      <td>1</td>\n",
       "      <td>hàng đẹp chất lượng lắm cực kì ưn...</td>\n",
       "      <td>😍</td>\n",
       "    </tr>\n",
       "    <tr>\n",
       "      <th>193900</th>\n",
       "      <td>giao đầy đủ số lượng, chất lượng ...</td>\n",
       "      <td>1</td>\n",
       "      <td>giao đầy đủ số lượng chất lượng v...</td>\n",
       "      <td></td>\n",
       "    </tr>\n",
       "  </tbody>\n",
       "</table>\n",
       "</div>"
      ],
      "text/plain": [
       "                                              raw_comment  label  \\\n",
       "9180    Giao đúng mẫu đúng số lượng đã đặt...      1   \n",
       "192424  Sản phẩm chất lượng mặc dù có hơi...      1   \n",
       "74152   Hàng đẹp giá cả phải chăng chất vải k...      1   \n",
       "113600  Hàng đẹp, chất lượng lắm ạ. Cực ki...      1   \n",
       "193900  giao đầy đủ số lượng, chất lượng ...      1   \n",
       "\n",
       "                                        normalize_comment emoji  \n",
       "9180    giao đúng mẫu đúng số lượng đặt cha...        \n",
       "192424  sản phẩm chất lượng mặc dù có hơi...        \n",
       "74152   hàng đẹp giá cả phải chăng chất vải k...        \n",
       "113600  hàng đẹp chất lượng lắm cực kì ưn...     😍  \n",
       "193900  giao đầy đủ số lượng chất lượng v...        "
      ]
     },
     "execution_count": 101,
     "metadata": {},
     "output_type": "execute_result"
    }
   ],
   "source": [
    "reviews_positive2 = reviews_positive.iloc[positive_index,:]\n",
    "\n",
    "reviews_positive2.head()"
   ]
  },
  {
   "cell_type": "markdown",
   "metadata": {},
   "source": [
    "* Đây là tập data mà hai nhóm positive và negative cân bằng nhau"
   ]
  },
  {
   "cell_type": "code",
   "execution_count": 102,
   "metadata": {},
   "outputs": [
    {
     "name": "stdout",
     "output_type": "stream",
     "text": [
      "Shape: (14202, 4)\n",
      "1    7101\n",
      "0    7101\n",
      "Name: label, dtype: int64\n"
     ]
    },
    {
     "data": {
      "text/html": [
       "<div>\n",
       "<style scoped>\n",
       "    .dataframe tbody tr th:only-of-type {\n",
       "        vertical-align: middle;\n",
       "    }\n",
       "\n",
       "    .dataframe tbody tr th {\n",
       "        vertical-align: top;\n",
       "    }\n",
       "\n",
       "    .dataframe thead th {\n",
       "        text-align: right;\n",
       "    }\n",
       "</style>\n",
       "<table border=\"1\" class=\"dataframe\">\n",
       "  <thead>\n",
       "    <tr style=\"text-align: right;\">\n",
       "      <th></th>\n",
       "      <th>raw_comment</th>\n",
       "      <th>label</th>\n",
       "      <th>normalize_comment</th>\n",
       "      <th>emoji</th>\n",
       "    </tr>\n",
       "  </thead>\n",
       "  <tbody>\n",
       "    <tr>\n",
       "      <th>0</th>\n",
       "      <td>Quần giặt xong co ngắn mất 5 phân. Ne...</td>\n",
       "      <td>0</td>\n",
       "      <td>quần giặt xong co ngắn mất phân nên ...</td>\n",
       "      <td></td>\n",
       "    </tr>\n",
       "    <tr>\n",
       "      <th>1</th>\n",
       "      <td>Vải áo mặc nóng \\nCòn vải  quần dễ ...</td>\n",
       "      <td>0</td>\n",
       "      <td>vải áo mặc nóng còn vải quần dễ xù...</td>\n",
       "      <td>❤️</td>\n",
       "    </tr>\n",
       "    <tr>\n",
       "      <th>2</th>\n",
       "      <td>Đóng gói cẩn thận, giao đủ số lượn...</td>\n",
       "      <td>0</td>\n",
       "      <td>đóng gói cẩn thận giao đủ số lượng...</td>\n",
       "      <td></td>\n",
       "    </tr>\n",
       "    <tr>\n",
       "      <th>3</th>\n",
       "      <td>Quần quá to mọi người ạ còn dài nx  ...</td>\n",
       "      <td>0</td>\n",
       "      <td>quần quá to mọi người còn dài mặc d...</td>\n",
       "      <td></td>\n",
       "    </tr>\n",
       "    <tr>\n",
       "      <th>4</th>\n",
       "      <td>Vải thừa hơi nhiều\\nGiao hàng nhanh .!\\...</td>\n",
       "      <td>0</td>\n",
       "      <td>vải thừa hơi nhiều giao hàng nhanh thủ...</td>\n",
       "      <td></td>\n",
       "    </tr>\n",
       "  </tbody>\n",
       "</table>\n",
       "</div>"
      ],
      "text/plain": [
       "                                         raw_comment  label  \\\n",
       "0  Quần giặt xong co ngắn mất 5 phân. Ne...      0   \n",
       "1  Vải áo mặc nóng \\nCòn vải  quần dễ ...      0   \n",
       "2  Đóng gói cẩn thận, giao đủ số lượn...      0   \n",
       "3  Quần quá to mọi người ạ còn dài nx  ...      0   \n",
       "4  Vải thừa hơi nhiều\\nGiao hàng nhanh .!\\...      0   \n",
       "\n",
       "                                   normalize_comment emoji  \n",
       "0  quần giặt xong co ngắn mất phân nên ...        \n",
       "1  vải áo mặc nóng còn vải quần dễ xù...    ❤️  \n",
       "2  đóng gói cẩn thận giao đủ số lượng...        \n",
       "3  quần quá to mọi người còn dài mặc d...        \n",
       "4  vải thừa hơi nhiều giao hàng nhanh thủ...        "
      ]
     },
     "execution_count": 102,
     "metadata": {},
     "output_type": "execute_result"
    }
   ],
   "source": [
    "normalize_reviews = pd.concat([reviews_negative, reviews_positive2], axis=0)\n",
    "normalize_reviews = normalize_reviews.reset_index(drop=True)\n",
    "\n",
    "Processor.printAfterProcess(normalize_reviews)\n",
    "normalize_reviews.head()"
   ]
  },
  {
   "cell_type": "markdown",
   "metadata": {},
   "source": [
    "* Ghi ra file"
   ]
  },
  {
   "cell_type": "code",
   "execution_count": 103,
   "metadata": {},
   "outputs": [],
   "source": [
    "normalize_reviews.to_csv(\"./data/normalize_reviews.csv\", index=False)"
   ]
  },
  {
   "cell_type": "markdown",
   "metadata": {},
   "source": [
    "* Bây giờ ta sẽ ghi phần bù còn lại của `review_positive` vào file, ta có thể dùng nó cho việc evaluate model sau này."
   ]
  },
  {
   "cell_type": "code",
   "execution_count": 104,
   "metadata": {},
   "outputs": [
    {
     "data": {
      "text/html": [
       "<div>\n",
       "<style scoped>\n",
       "    .dataframe tbody tr th:only-of-type {\n",
       "        vertical-align: middle;\n",
       "    }\n",
       "\n",
       "    .dataframe tbody tr th {\n",
       "        vertical-align: top;\n",
       "    }\n",
       "\n",
       "    .dataframe thead th {\n",
       "        text-align: right;\n",
       "    }\n",
       "</style>\n",
       "<table border=\"1\" class=\"dataframe\">\n",
       "  <thead>\n",
       "    <tr style=\"text-align: right;\">\n",
       "      <th></th>\n",
       "      <th>raw_comment</th>\n",
       "      <th>label</th>\n",
       "      <th>normalize_comment</th>\n",
       "      <th>emoji</th>\n",
       "    </tr>\n",
       "  </thead>\n",
       "  <tbody>\n",
       "    <tr>\n",
       "      <th>0</th>\n",
       "      <td>mình săn sale nên rẻ lắm\\nvớ xinh, xị...</td>\n",
       "      <td>1</td>\n",
       "      <td>săn sale nên rẻ lắm vớ xinh xịn lắm ...</td>\n",
       "      <td>🤤</td>\n",
       "    </tr>\n",
       "    <tr>\n",
       "      <th>1</th>\n",
       "      <td>Chất mát. Giá cả phù hợp với  chất...</td>\n",
       "      <td>1</td>\n",
       "      <td>chất mát giá cả phù hợp chất lượn...</td>\n",
       "      <td>❤️</td>\n",
       "    </tr>\n",
       "    <tr>\n",
       "      <th>2</th>\n",
       "      <td>Móng giống hình\\nNhưng chai keo giống k...</td>\n",
       "      <td>1</td>\n",
       "      <td>móng giống hình nhưng chai keo giống ke...</td>\n",
       "      <td></td>\n",
       "    </tr>\n",
       "    <tr>\n",
       "      <th>3</th>\n",
       "      <td>Shop có tâm, quần đẹp, áo đẹp lắm ạ ...</td>\n",
       "      <td>1</td>\n",
       "      <td>có tâm quần đẹp áo đẹp lắm</td>\n",
       "      <td></td>\n",
       "    </tr>\n",
       "    <tr>\n",
       "      <th>4</th>\n",
       "      <td>Áo đẹppp size M m6 mặc thoải mái nha mng...</td>\n",
       "      <td>1</td>\n",
       "      <td>áo đẹp size mình mặc thoải mái mọi ngu...</td>\n",
       "      <td></td>\n",
       "    </tr>\n",
       "  </tbody>\n",
       "</table>\n",
       "</div>"
      ],
      "text/plain": [
       "                                         raw_comment  label  \\\n",
       "0  mình săn sale nên rẻ lắm\\nvớ xinh, xị...      1   \n",
       "1  Chất mát. Giá cả phù hợp với  chất...      1   \n",
       "2  Móng giống hình\\nNhưng chai keo giống k...      1   \n",
       "3  Shop có tâm, quần đẹp, áo đẹp lắm ạ ...      1   \n",
       "4  Áo đẹppp size M m6 mặc thoải mái nha mng...      1   \n",
       "\n",
       "                                   normalize_comment emoji  \n",
       "0  săn sale nên rẻ lắm vớ xinh xịn lắm ...     🤤  \n",
       "1  chất mát giá cả phù hợp chất lượn...    ❤️  \n",
       "2  móng giống hình nhưng chai keo giống ke...        \n",
       "3                có tâm quần đẹp áo đẹp lắm        \n",
       "4  áo đẹp size mình mặc thoải mái mọi ngu...        "
      ]
     },
     "execution_count": 104,
     "metadata": {},
     "output_type": "execute_result"
    }
   ],
   "source": [
    "reviews_positive3 = reviews_positive[~reviews_positive.index.isin(positive_index)]\n",
    "reviews_positive3 = reviews_positive3.reset_index(drop=True)\n",
    "\n",
    "reviews_positive3.head()"
   ]
  },
  {
   "cell_type": "code",
   "execution_count": 105,
   "metadata": {},
   "outputs": [],
   "source": [
    "reviews_positive3.to_csv(\"./data/complement_positive_reviews.csv\", index=False)"
   ]
  }
 ],
 "metadata": {
  "kernelspec": {
   "display_name": "Python 3",
   "language": "python",
   "name": "python3"
  },
  "language_info": {
   "codemirror_mode": {
    "name": "ipython",
    "version": 3
   },
   "file_extension": ".py",
   "mimetype": "text/x-python",
   "name": "python",
   "nbconvert_exporter": "python",
   "pygments_lexer": "ipython3",
   "version": "3.6.8"
  }
 },
 "nbformat": 4,
 "nbformat_minor": 4
}
